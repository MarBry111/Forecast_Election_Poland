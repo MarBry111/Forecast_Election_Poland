{
 "cells": [
  {
   "cell_type": "code",
   "execution_count": 1,
   "metadata": {},
   "outputs": [],
   "source": [
    "import concurrent.futures\n",
    "import requests\n",
    "import re \n",
    "import os\n",
    "import pandas as pd\n",
    "from bs4 import BeautifulSoup"
   ]
  },
  {
   "cell_type": "code",
   "execution_count": 2,
   "metadata": {},
   "outputs": [],
   "source": [
    "#2001\n",
    "base_url='https://wybory2001.pkw.gov.pl/'\n",
    "\n",
    "main_page_url = base_url+'sjg2_k.html'\n",
    "\n",
    "page = requests.get(main_page_url)\n",
    "#page.encoding = 'utf-8'\n",
    "\n",
    "soup = BeautifulSoup(page.content, \"html.parser\")\n",
    "pg_txt = page.text.replace('³','ł').replace('£','Ł').replace('¶','ś').replace('±','ą').replace('ê','ę').replace('æ','ć').replace('¿','ż').replace('¦','ś').replace('ñ','ń')"
   ]
  },
  {
   "cell_type": "code",
   "execution_count": 3,
   "metadata": {},
   "outputs": [
    {
     "data": {
      "text/html": [
       "<div>\n",
       "<style scoped>\n",
       "    .dataframe tbody tr th:only-of-type {\n",
       "        vertical-align: middle;\n",
       "    }\n",
       "\n",
       "    .dataframe tbody tr th {\n",
       "        vertical-align: top;\n",
       "    }\n",
       "\n",
       "    .dataframe thead th {\n",
       "        text-align: right;\n",
       "    }\n",
       "</style>\n",
       "<table border=\"1\" class=\"dataframe\">\n",
       "  <thead>\n",
       "    <tr style=\"text-align: right;\">\n",
       "      <th></th>\n",
       "      <th>Komitet</th>\n",
       "      <th>Glosy</th>\n",
       "    </tr>\n",
       "  </thead>\n",
       "  <tbody>\n",
       "    <tr>\n",
       "      <td>0</td>\n",
       "      <td>Komitet Wyborczy Sojusz Lewicy Demokratycznej ...</td>\n",
       "      <td>5342519</td>\n",
       "    </tr>\n",
       "    <tr>\n",
       "      <td>1</td>\n",
       "      <td>Komitet Wyborczy - Akcja Wyborcza Solidarność ...</td>\n",
       "      <td>729207</td>\n",
       "    </tr>\n",
       "    <tr>\n",
       "      <td>2</td>\n",
       "      <td>Komitet Wyborczy Unii Wolności</td>\n",
       "      <td>404074</td>\n",
       "    </tr>\n",
       "    <tr>\n",
       "      <td>3</td>\n",
       "      <td>Komitet Wyborczy Samoobrona Rzeczypospolitej P...</td>\n",
       "      <td>1327624</td>\n",
       "    </tr>\n",
       "    <tr>\n",
       "      <td>4</td>\n",
       "      <td>Komitet Wyborczy \"Prawo i Sprawiedliwość\"</td>\n",
       "      <td>1236787</td>\n",
       "    </tr>\n",
       "    <tr>\n",
       "      <td>5</td>\n",
       "      <td>Komitet Wyborczy Polskiego Stronnictwa Ludowego</td>\n",
       "      <td>1168659</td>\n",
       "    </tr>\n",
       "    <tr>\n",
       "      <td>6</td>\n",
       "      <td>Komitet Wyborczy Wyborców Platforma Obywatelska</td>\n",
       "      <td>1651099</td>\n",
       "    </tr>\n",
       "    <tr>\n",
       "      <td>7</td>\n",
       "      <td>Komitet Wyborczy Alternatywa Ruch Społeczny</td>\n",
       "      <td>54266</td>\n",
       "    </tr>\n",
       "    <tr>\n",
       "      <td>8</td>\n",
       "      <td>Komitet Wyborczy Polskiej Wspólnoty Narodowej</td>\n",
       "      <td>2644</td>\n",
       "    </tr>\n",
       "    <tr>\n",
       "      <td>9</td>\n",
       "      <td>Komitet Wyborczy Liga Polskich Rodzin</td>\n",
       "      <td>1025148</td>\n",
       "    </tr>\n",
       "    <tr>\n",
       "      <td>10</td>\n",
       "      <td>Komitet Wyborczy Wyborców \"Mniejszość Niemiecka\"</td>\n",
       "      <td>47230</td>\n",
       "    </tr>\n",
       "    <tr>\n",
       "      <td>11</td>\n",
       "      <td>Komitet Wyborczy Polskiej Unii Gospodarczej</td>\n",
       "      <td>7189</td>\n",
       "    </tr>\n",
       "    <tr>\n",
       "      <td>12</td>\n",
       "      <td>Komitet Wyborczy Polskiej Partii Socjalistycznej</td>\n",
       "      <td>13459</td>\n",
       "    </tr>\n",
       "    <tr>\n",
       "      <td>13</td>\n",
       "      <td>Komitet Wyborczy Wyborców \"Niemiecka Mniejszoś...</td>\n",
       "      <td>8024</td>\n",
       "    </tr>\n",
       "  </tbody>\n",
       "</table>\n",
       "</div>"
      ],
      "text/plain": [
       "                                              Komitet    Glosy\n",
       "0   Komitet Wyborczy Sojusz Lewicy Demokratycznej ...  5342519\n",
       "1   Komitet Wyborczy - Akcja Wyborcza Solidarność ...   729207\n",
       "2                      Komitet Wyborczy Unii Wolności   404074\n",
       "3   Komitet Wyborczy Samoobrona Rzeczypospolitej P...  1327624\n",
       "4           Komitet Wyborczy \"Prawo i Sprawiedliwość\"  1236787\n",
       "5     Komitet Wyborczy Polskiego Stronnictwa Ludowego  1168659\n",
       "6     Komitet Wyborczy Wyborców Platforma Obywatelska  1651099\n",
       "7         Komitet Wyborczy Alternatywa Ruch Społeczny    54266\n",
       "8       Komitet Wyborczy Polskiej Wspólnoty Narodowej     2644\n",
       "9               Komitet Wyborczy Liga Polskich Rodzin  1025148\n",
       "10   Komitet Wyborczy Wyborców \"Mniejszość Niemiecka\"    47230\n",
       "11        Komitet Wyborczy Polskiej Unii Gospodarczej     7189\n",
       "12   Komitet Wyborczy Polskiej Partii Socjalistycznej    13459\n",
       "13  Komitet Wyborczy Wyborców \"Niemiecka Mniejszoś...     8024"
      ]
     },
     "execution_count": 3,
     "metadata": {},
     "output_type": "execute_result"
    }
   ],
   "source": [
    "path_0 = 'wyniki_wyborow/2001/'\n",
    "\n",
    "#>Komitet Wyborczy Wyborcw \"Niemiecka Mniejszo Grnego lska\"</a></td><td align=\"right\">8024</td>\n",
    "wojew = re.findall(r'(Komitet[\\w\\\"\\- ]*)</a></td><td align=\"right\">([0-9]*)</td>', pg_txt)\n",
    "df_0 = pd.DataFrame(wojew, columns =['Komitet', 'Glosy']) \n",
    "df_0"
   ]
  },
  {
   "cell_type": "code",
   "execution_count": 4,
   "metadata": {},
   "outputs": [],
   "source": [
    "df_0.to_csv(path_0+'Polska.csv')"
   ]
  },
  {
   "cell_type": "code",
   "execution_count": 5,
   "metadata": {},
   "outputs": [
    {
     "data": {
      "text/plain": [
       "[('020000/sjg2_w.html', 'dolnośląskie'),\n",
       " ('040000/sjg2_w.html', 'kujawsko-pomorskie'),\n",
       " ('060000/sjg2_w.html', 'lubelskie'),\n",
       " ('080000/sjg2_w.html', 'lubuskie'),\n",
       " ('100000/sjg2_w.html', 'łódzkie'),\n",
       " ('120000/sjg2_w.html', 'małopolskie'),\n",
       " ('140000/sjg2_w.html', 'mazowieckie'),\n",
       " ('160000/sjg2_w.html', 'opolskie'),\n",
       " ('180000/sjg2_w.html', 'podkarpackie'),\n",
       " ('200000/sjg2_w.html', 'podlaskie'),\n",
       " ('220000/sjg2_w.html', 'pomorskie'),\n",
       " ('240000/sjg2_w.html', 'śląskie'),\n",
       " ('260000/sjg2_w.html', 'świętokrzyskie'),\n",
       " ('280000/sjg2_w.html', 'warmińsko-mazurskie'),\n",
       " ('300000/sjg2_w.html', 'wielkopolskie'),\n",
       " ('320000/sjg2_w.html', 'zachodniopomorskie')]"
      ]
     },
     "execution_count": 5,
     "metadata": {},
     "output_type": "execute_result"
    }
   ],
   "source": [
    "#geting the subpages and names of districts\n",
    "#<a href=\"040000/sjg2_w.html\">kujawsko-pomorskie</a>\n",
    "#<a href=\"100000/sjg2_w.html\">dzkie</a>\n",
    "jednostki = re.findall(r'<a href=\"([0-9]{6}/sjg2_w.html)\">([\\w\\-]*)</a>', pg_txt)\n",
    "jednostki"
   ]
  },
  {
   "cell_type": "code",
   "execution_count": 6,
   "metadata": {},
   "outputs": [
    {
     "data": {
      "text/plain": [
       "('020000/sjg2_w.html', 'dolnośląskie')"
      ]
     },
     "execution_count": 6,
     "metadata": {},
     "output_type": "execute_result"
    }
   ],
   "source": [
    "jednostka = jednostki[0]\n",
    "jednostka"
   ]
  },
  {
   "cell_type": "code",
   "execution_count": 7,
   "metadata": {},
   "outputs": [],
   "source": [
    "path = path_0+jednostka[1].replace(\" \", \"_\")\n",
    "try: os.mkdir(path)\n",
    "except: pass\n",
    "subpage_url = base_url+jednostka[0]"
   ]
  },
  {
   "cell_type": "code",
   "execution_count": 8,
   "metadata": {},
   "outputs": [],
   "source": [
    "subpage = requests.get(subpage_url)\n",
    "subpage.encoding = 'utf-8'\n",
    "pg_txt = subpage.text.replace('³','ł').replace('¶','ś').replace('±','ą').replace('ê','ę').replace('æ','ć').replace('¿','ż').replace('¦','ś').replace('ñ','ń').replace('�','ł')"
   ]
  },
  {
   "cell_type": "code",
   "execution_count": 9,
   "metadata": {},
   "outputs": [
    {
     "data": {
      "text/plain": [
       "'\\nkomitety = re.findall(r\\'(Komitet[\\\\w\"\\\\- ]*)</a></td><td align=\"right\">([0-9]*)</td>\\', pg_txt)\\ndf = pd.DataFrame(komitety, columns =[\\'Komitet\\', \\'Glosy\\']) \\ndf\\n'"
      ]
     },
     "execution_count": 9,
     "metadata": {},
     "output_type": "execute_result"
    }
   ],
   "source": [
    "#the same as previously\n",
    "'''\n",
    "komitety = re.findall(r'(Komitet[\\w\\\"\\- ]*)</a></td><td align=\"right\">([0-9]*)</td>', pg_txt)\n",
    "df = pd.DataFrame(komitety, columns =['Komitet', 'Glosy']) \n",
    "df\n",
    "'''"
   ]
  },
  {
   "cell_type": "code",
   "execution_count": 10,
   "metadata": {},
   "outputs": [
    {
     "data": {
      "text/plain": [
       "'\\nwoj = jednostka[1].replace(\" \", \"_\")\\n\\ndf.to_csv(path+\\'/\\'+woj+\\'.csv\\')\\n'"
      ]
     },
     "execution_count": 10,
     "metadata": {},
     "output_type": "execute_result"
    }
   ],
   "source": [
    "'''\n",
    "woj = jednostka[1].replace(\" \", \"_\")\n",
    "\n",
    "df.to_csv(path+'/'+woj+'.csv')\n",
    "'''"
   ]
  },
  {
   "cell_type": "code",
   "execution_count": 11,
   "metadata": {},
   "outputs": [
    {
     "data": {
      "text/plain": [
       "[('SSSS01/sjg2_o.html', 'LEGNICA'),\n",
       " ('SSSS02/sjg2_o.html', 'WAłBRZYCH'),\n",
       " ('SSSS03/sjg2_o.html', 'WROCłAW')]"
      ]
     },
     "execution_count": 11,
     "metadata": {},
     "output_type": "execute_result"
    }
   ],
   "source": [
    "#<tr><td><a href=\"SSSS01/sjg2_o.html\">1 LEGNICA</a></td>\n",
    "okregi = re.findall(r'<tr><td><a href=\"([A-Z0-9a-z]+\\/sjg2_o.html)\">[0-9]+ ([A-Z\\w\\- ]+)</a></td>', pg_txt)\n",
    "\n",
    "okregi"
   ]
  },
  {
   "cell_type": "code",
   "execution_count": 12,
   "metadata": {},
   "outputs": [
    {
     "data": {
      "text/plain": [
       "('SSSS01/sjg2_o.html', 'LEGNICA')"
      ]
     },
     "execution_count": 12,
     "metadata": {},
     "output_type": "execute_result"
    }
   ],
   "source": [
    "okrag = okregi[0]\n",
    "\n",
    "okrag"
   ]
  },
  {
   "cell_type": "code",
   "execution_count": 13,
   "metadata": {},
   "outputs": [],
   "source": [
    "subsubpage_url = subpage_url.replace('/sjg2_w.html','/')+okrag[0]\n",
    "\n",
    "subsubpage = requests.get(subsubpage_url)\n",
    "subsubpage.encoding = 'utf-8'\n",
    "\n",
    "pg_txt = subsubpage.text.replace('³','ł').replace('¶','ś').replace('±','ą').replace('ê','ę').replace('æ','ć').replace('¿','ż').replace('¦','ś').replace('ñ','ń').replace('�','ł')    #the same as previously\n",
    "\n",
    "#<tr><td><a href=\"020100/sjg2_p.html\">Powiat bolesławiecki</a></td>\n",
    "powiaty = re.findall(r'<tr><td><a href=\"([0-9]*\\/sjg2_p.html)\">([a-zA-Z\\w\\- ]+)</a></td>', pg_txt)\n"
   ]
  },
  {
   "cell_type": "code",
   "execution_count": 16,
   "metadata": {},
   "outputs": [],
   "source": [
    "def process_district(jednostka):\n",
    "    path = path_0+jednostka[1].replace(\" \", \"_\")\n",
    "    try: os.mkdir(path)\n",
    "    except: pass\n",
    "    \n",
    "    subpage_url = base_url+jednostka[0]\n",
    "    subpage = requests.get(subpage_url)\n",
    "    subpage.encoding = 'utf-8'\n",
    "    pg_txt = subpage.text.replace('³','ł').replace('¶','ś').replace('±','ą').replace('ê','ę').replace('æ','ć').replace('¿','ż').replace('¦','ś').replace('ñ','ń').replace('�','ł')    #the same as previously\n",
    "    \n",
    "    komitety = re.findall(r'(Komitet[\\w\\\"\\- ]*)</a></td><td align=\"right\">([0-9]*)</td>', pg_txt)\n",
    "    df = pd.DataFrame(komitety, columns =['Komitet', 'Glosy']) \n",
    "    \n",
    "    woj = jednostka[1].replace(\" \", \"_\")\n",
    "\n",
    "    df.to_csv(path+'/'+woj+'.csv')\n",
    "    \n",
    "    \n",
    "    #<a href=\"SSSS03/sjg2_o.html\">3 WROCŁAW</a>\n",
    "    okregi = re.findall(r'<tr><td><a href=\"([A-Z0-9a-z]+\\/sjg2_o.html)\">[0-9]+ ([A-Z\\w\\- ]+)</a></td>', pg_txt)\n",
    "    \n",
    "    \n",
    "    for okrag in okregi:\n",
    "        subpath = path+'/'+okrag[1]\n",
    "        try: os.mkdir(subpath)\n",
    "        except: pass\n",
    "        \n",
    "        subsubpage_url = subpage_url.replace('/sjg2_w.html','/')+okrag[0]\n",
    "        subsubpage = requests.get(subsubpage_url)\n",
    "        subsubpage.encoding = 'utf-8'\n",
    "        \n",
    "        pg_txt = subsubpage.text.replace('³','ł').replace('¶','ś').replace('±','ą').replace('ê','ę').replace('æ','ć').replace('¿','ż').replace('¦','ś').replace('ñ','ń').replace('�','ł')    #the same as previously\n",
    "        \n",
    "        komitety_2 = re.findall(r'(Komitet[\\w\\\"\\- ]*)</a></td><td align=\"right\">([0-9]*)</td>', pg_txt)\n",
    "        df_2 = pd.DataFrame(komitety_2, columns =['Komitet', 'Glosy']) \n",
    "        \n",
    "        df_2.to_csv(subpath+'/'+okrag[1]+'.csv')\n",
    "        \n",
    "        #<td class=\"col5al\"><a href=\"020102.htm\" class=\"link1\">Bolesławiec, gm.</a></td>\n",
    "        powiaty = re.findall(r'<tr><td><a href=\"([0-9]*\\/sjg2_p.html)\">([a-zA-Z\\w\\- ]+)</a></td>', pg_txt)\n",
    "        \n",
    "        for powiat in powiaty:\n",
    "            subsubpath = subpath+'/'+powiat[1]\n",
    "            try: os.mkdir(subsubpath)\n",
    "            except: pass\n",
    "            \n",
    "            subsubsubpage_url = subsubpage_url.replace('/sjg2_o.html','/')+powiat[0]\n",
    "            subsubsubpage = requests.get(subsubsubpage_url)\n",
    "            subsubsubpage.encoding = 'utf-8'\n",
    "            \n",
    "            pg_txt = subsubsubpage.text.replace('³','ł').replace('¶','ś').replace('±','ą').replace('ê','ę').replace('æ','ć').replace('¿','ż').replace('¦','ś').replace('ñ','ń').replace('�','ł')    #the same as previously\n",
    "\n",
    "            komitety_3 = re.findall(r'(Komitet[\\w\\\"\\- ]*)</a></td><td align=\"right\">([0-9]*)</td>', pg_txt)\n",
    "            df_3 = pd.DataFrame(komitety_3, columns =['Komitet', 'Glosy']) \n",
    "            df_3.to_csv(subsubpath+'/'+powiat[1]+'.csv')\n",
    "            \n",
    "    print(jednostka[1])"
   ]
  },
  {
   "cell_type": "code",
   "execution_count": 17,
   "metadata": {},
   "outputs": [
    {
     "name": "stdout",
     "output_type": "stream",
     "text": [
      "dolnośląskie\n",
      "kujawsko-pomorskie\n",
      "lubelskie\n",
      "lubuskie\n",
      "łódzkie\n",
      "małopolskie\n",
      "mazowieckie\n",
      "opolskie\n",
      "podkarpackie\n",
      "podlaskie\n",
      "pomorskie\n",
      "śląskie\n",
      "świętokrzyskie\n",
      "warmińsko-mazurskie\n",
      "wielkopolskie\n",
      "zachodniopomorskie\n"
     ]
    }
   ],
   "source": [
    "for j in jednostki:\n",
    "    process_district(j)"
   ]
  },
  {
   "cell_type": "code",
   "execution_count": 159,
   "metadata": {},
   "outputs": [],
   "source": [
    "with concurrent.futures.ProcessPoolExecutor() as executor:\n",
    "    executor.map(process_district, jednostki)"
   ]
  },
  {
   "cell_type": "code",
   "execution_count": null,
   "metadata": {},
   "outputs": [],
   "source": []
  }
 ],
 "metadata": {
  "kernelspec": {
   "display_name": "Python 3",
   "language": "python",
   "name": "python3"
  },
  "language_info": {
   "codemirror_mode": {
    "name": "ipython",
    "version": 3
   },
   "file_extension": ".py",
   "mimetype": "text/x-python",
   "name": "python",
   "nbconvert_exporter": "python",
   "pygments_lexer": "ipython3",
   "version": "3.7.5"
  }
 },
 "nbformat": 4,
 "nbformat_minor": 2
}
