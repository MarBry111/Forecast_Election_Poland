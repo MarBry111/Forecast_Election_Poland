{
 "cells": [
  {
   "cell_type": "code",
   "execution_count": 5,
   "metadata": {},
   "outputs": [],
   "source": [
    "import pandas as pd\n",
    "import requests \n",
    "import json\n",
    "from pandas.io.json import json_normalize\n",
    "import numpy as np\n",
    "import os"
   ]
  },
  {
   "cell_type": "code",
   "execution_count": 6,
   "metadata": {},
   "outputs": [
    {
     "data": {
      "text/plain": [
       "['2001_O_simplified.csv',\n",
       " '2005_O_simplified.csv',\n",
       " '2007_O_simplified.csv',\n",
       " '2011_O_simplified.csv',\n",
       " '2015_O_simplified.csv',\n",
       " '2019_O_simplified.csv']"
      ]
     },
     "execution_count": 6,
     "metadata": {},
     "output_type": "execute_result"
    }
   ],
   "source": [
    "path = 'wyniki_wyborow/Simplyfiy/'\n",
    "files = list(filter(lambda x: os.path.isfile(path+x), os.listdir(path)))\n",
    "files.sort()\n",
    "files"
   ]
  },
  {
   "cell_type": "code",
   "execution_count": 53,
   "metadata": {},
   "outputs": [],
   "source": [
    "simp_list = [pd.read_csv(\"wyniki_wyborow/Simplyfiy/\"+f).iloc[:,:-1].sum(0)[1:] for f in files]"
   ]
  },
  {
   "cell_type": "code",
   "execution_count": 54,
   "metadata": {},
   "outputs": [
    {
     "data": {
      "text/html": [
       "<div>\n",
       "<style scoped>\n",
       "    .dataframe tbody tr th:only-of-type {\n",
       "        vertical-align: middle;\n",
       "    }\n",
       "\n",
       "    .dataframe tbody tr th {\n",
       "        vertical-align: top;\n",
       "    }\n",
       "\n",
       "    .dataframe thead th {\n",
       "        text-align: right;\n",
       "    }\n",
       "</style>\n",
       "<table border=\"1\" class=\"dataframe\">\n",
       "  <thead>\n",
       "    <tr style=\"text-align: right;\">\n",
       "      <th></th>\n",
       "      <th>Blue</th>\n",
       "      <th>Red</th>\n",
       "      <th>n</th>\n",
       "      <th>p</th>\n",
       "    </tr>\n",
       "    <tr>\n",
       "      <th>index</th>\n",
       "      <th></th>\n",
       "      <th></th>\n",
       "      <th></th>\n",
       "      <th></th>\n",
       "    </tr>\n",
       "  </thead>\n",
       "  <tbody>\n",
       "    <tr>\n",
       "      <th>2001</th>\n",
       "      <td>4.75822e+06</td>\n",
       "      <td>1.6511e+06</td>\n",
       "      <td>6409317.0</td>\n",
       "      <td>0.742391</td>\n",
       "    </tr>\n",
       "    <tr>\n",
       "      <th>2005</th>\n",
       "      <td>6.29549e+06</td>\n",
       "      <td>4184516</td>\n",
       "      <td>10480003.0</td>\n",
       "      <td>0.600714</td>\n",
       "    </tr>\n",
       "    <tr>\n",
       "      <th>2007</th>\n",
       "      <td>6621115</td>\n",
       "      <td>8823991</td>\n",
       "      <td>15445106.0</td>\n",
       "      <td>0.428687</td>\n",
       "    </tr>\n",
       "    <tr>\n",
       "      <th>2011</th>\n",
       "      <td>4.29502e+06</td>\n",
       "      <td>9.45519e+06</td>\n",
       "      <td>13750210.0</td>\n",
       "      <td>0.31236</td>\n",
       "    </tr>\n",
       "    <tr>\n",
       "      <th>2015</th>\n",
       "      <td>7.8302e+06</td>\n",
       "      <td>5.96369e+06</td>\n",
       "      <td>13793888.0</td>\n",
       "      <td>0.567657</td>\n",
       "    </tr>\n",
       "    <tr>\n",
       "      <th>2019</th>\n",
       "      <td>1.08874e+07</td>\n",
       "      <td>7.3803e+06</td>\n",
       "      <td>18267712.0</td>\n",
       "      <td>0.595992</td>\n",
       "    </tr>\n",
       "  </tbody>\n",
       "</table>\n",
       "</div>"
      ],
      "text/plain": [
       "              Blue          Red           n         p\n",
       "index                                                \n",
       "2001   4.75822e+06   1.6511e+06   6409317.0  0.742391\n",
       "2005   6.29549e+06      4184516  10480003.0  0.600714\n",
       "2007       6621115      8823991  15445106.0  0.428687\n",
       "2011   4.29502e+06  9.45519e+06  13750210.0   0.31236\n",
       "2015    7.8302e+06  5.96369e+06  13793888.0  0.567657\n",
       "2019   1.08874e+07   7.3803e+06  18267712.0  0.595992"
      ]
     },
     "execution_count": 54,
     "metadata": {},
     "output_type": "execute_result"
    }
   ],
   "source": [
    "df = pd.concat(simp_list, axis=1).T\n",
    "df.index = pd.Series([2001,2005,2007,2011,2015,2019],dtype='int64', name='index')\n",
    "df['n'] = df.sum(1)\n",
    "df['p'] = df['Blue']/df['n']\n",
    "df"
   ]
  },
  {
   "cell_type": "code",
   "execution_count": 55,
   "metadata": {},
   "outputs": [
    {
     "data": {
      "text/html": [
       "<div>\n",
       "<style scoped>\n",
       "    .dataframe tbody tr th:only-of-type {\n",
       "        vertical-align: middle;\n",
       "    }\n",
       "\n",
       "    .dataframe tbody tr th {\n",
       "        vertical-align: top;\n",
       "    }\n",
       "\n",
       "    .dataframe thead th {\n",
       "        text-align: right;\n",
       "    }\n",
       "</style>\n",
       "<table border=\"1\" class=\"dataframe\">\n",
       "  <thead>\n",
       "    <tr style=\"text-align: right;\">\n",
       "      <th></th>\n",
       "      <th>Blue</th>\n",
       "      <th>Red</th>\n",
       "      <th>n</th>\n",
       "      <th>p</th>\n",
       "    </tr>\n",
       "    <tr>\n",
       "      <th>index</th>\n",
       "      <th></th>\n",
       "      <th></th>\n",
       "      <th></th>\n",
       "      <th></th>\n",
       "    </tr>\n",
       "  </thead>\n",
       "  <tbody>\n",
       "    <tr>\n",
       "      <th>2001</th>\n",
       "      <td>1265.0</td>\n",
       "      <td>778.0</td>\n",
       "      <td>2043.0</td>\n",
       "      <td>0.619187</td>\n",
       "    </tr>\n",
       "    <tr>\n",
       "      <th>2005</th>\n",
       "      <td>2512.0</td>\n",
       "      <td>1538.0</td>\n",
       "      <td>4050.0</td>\n",
       "      <td>0.620247</td>\n",
       "    </tr>\n",
       "    <tr>\n",
       "      <th>2007</th>\n",
       "      <td>1979.0</td>\n",
       "      <td>2834.0</td>\n",
       "      <td>4813.0</td>\n",
       "      <td>0.411178</td>\n",
       "    </tr>\n",
       "    <tr>\n",
       "      <th>2011</th>\n",
       "      <td>1506.0</td>\n",
       "      <td>4042.0</td>\n",
       "      <td>5548.0</td>\n",
       "      <td>0.271449</td>\n",
       "    </tr>\n",
       "    <tr>\n",
       "      <th>2015</th>\n",
       "      <td>4053.0</td>\n",
       "      <td>3652.0</td>\n",
       "      <td>7705.0</td>\n",
       "      <td>0.526022</td>\n",
       "    </tr>\n",
       "    <tr>\n",
       "      <th>2019</th>\n",
       "      <td>5349.0</td>\n",
       "      <td>2870.0</td>\n",
       "      <td>8219.0</td>\n",
       "      <td>0.650809</td>\n",
       "    </tr>\n",
       "  </tbody>\n",
       "</table>\n",
       "</div>"
      ],
      "text/plain": [
       "         Blue     Red       n         p\n",
       "index                                  \n",
       "2001   1265.0   778.0  2043.0  0.619187\n",
       "2005   2512.0  1538.0  4050.0  0.620247\n",
       "2007   1979.0  2834.0  4813.0  0.411178\n",
       "2011   1506.0  4042.0  5548.0  0.271449\n",
       "2015   4053.0  3652.0  7705.0  0.526022\n",
       "2019   5349.0  2870.0  8219.0  0.650809"
      ]
     },
     "execution_count": 55,
     "metadata": {},
     "output_type": "execute_result"
    }
   ],
   "source": [
    "no_pools = pd.read_csv('dane_years/pools_data/no_votes.csv', index_col=0, header=0).iloc[:,:-1]\n",
    "no_pools = no_pools.round()\n",
    "no_pools['n'] = no_pools.sum(1)\n",
    "no_pools['p'] = no_pools['Blue']/no_pools['n']\n",
    "no_pools = no_pools.loc[[2001,2005,2007,2011,2015,2019],:]\n",
    "no_pools"
   ]
  },
  {
   "cell_type": "code",
   "execution_count": 57,
   "metadata": {},
   "outputs": [
    {
     "name": "stdout",
     "output_type": "stream",
     "text": [
      "12.731185907148092 0.12320333447979437\n",
      "-2.5376450975970783 0.019532677143482502\n",
      "2.4540972897972466 0.01750886574341215\n",
      "6.57381076479407 0.04091085853807347\n",
      "7.375040981927118 0.041635075566856417\n",
      "-10.125503140684787 0.054817057634793054\n"
     ]
    }
   ],
   "source": [
    "for i in range(df.shape[0]):\n",
    "    n1 = df.iloc[i,2]\n",
    "    n2 = no_pools.iloc[i,2]\n",
    "    \n",
    "    p1 = df.iloc[i,3]\n",
    "    p2 = no_pools.iloc[i,3]\n",
    "    \n",
    "    p = (n1*p1 + n2*p2) / (n1 + n2)\n",
    "    \n",
    "    z = (p1-p2) / np.sqrt( p*(1-p)*(1/n1+1/n2) ) \n",
    "    print(z, np.abs(p1-p2))"
   ]
  },
  {
   "cell_type": "code",
   "execution_count": null,
   "metadata": {},
   "outputs": [],
   "source": []
  }
 ],
 "metadata": {
  "kernelspec": {
   "display_name": "Python 3",
   "language": "python",
   "name": "python3"
  },
  "language_info": {
   "codemirror_mode": {
    "name": "ipython",
    "version": 3
   },
   "file_extension": ".py",
   "mimetype": "text/x-python",
   "name": "python",
   "nbconvert_exporter": "python",
   "pygments_lexer": "ipython3",
   "version": "3.8.5"
  }
 },
 "nbformat": 4,
 "nbformat_minor": 2
}
