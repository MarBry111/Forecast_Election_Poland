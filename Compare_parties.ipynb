{
 "cells": [
  {
   "cell_type": "code",
   "execution_count": 388,
   "metadata": {},
   "outputs": [],
   "source": [
    "import pandas as pd\n",
    "import numpy as np\n",
    "import os\n",
    "from sklearn.decomposition import PCA\n",
    "from sklearn.manifold import MDS\n",
    "from sklearn.cluster import KMeans\n",
    "import matplotlib.pyplot as plt\n",
    "import seaborn as sns"
   ]
  },
  {
   "cell_type": "markdown",
   "metadata": {},
   "source": [
    "## List of files"
   ]
  },
  {
   "cell_type": "code",
   "execution_count": 2,
   "metadata": {},
   "outputs": [
    {
     "data": {
      "text/plain": [
       "['2001_06.csv',\n",
       " '2001_07.csv',\n",
       " '2004_02.csv',\n",
       " '2004_05.csv',\n",
       " '2004_06.csv',\n",
       " '2004_08.csv',\n",
       " '2007_02.csv',\n",
       " '2007_09.csv',\n",
       " '2009_05.csv',\n",
       " '2011_06.csv',\n",
       " '2011_07.csv',\n",
       " '2011_10.csv',\n",
       " '2011_11.csv',\n",
       " '2013_07.csv',\n",
       " '2015_08.csv',\n",
       " '2015_09.csv',\n",
       " '2017_04.csv']"
      ]
     },
     "execution_count": 2,
     "metadata": {},
     "output_type": "execute_result"
    }
   ],
   "source": [
    "path = 'dane_pdf/analiza_elektoratu/'\n",
    "files = list(filter(lambda x: os.path.isfile(path+x), os.listdir(path)))\n",
    "files.sort()\n",
    "files"
   ]
  },
  {
   "cell_type": "markdown",
   "metadata": {},
   "source": [
    "### List of pandas DF"
   ]
  },
  {
   "cell_type": "markdown",
   "metadata": {},
   "source": [
    "### Edit DF"
   ]
  },
  {
   "cell_type": "code",
   "execution_count": 499,
   "metadata": {},
   "outputs": [
    {
     "name": "stdout",
     "output_type": "stream",
     "text": [
      "0 5 (5,) \n",
      "1 6 (6,) \n",
      "2 7 (7,) \n",
      "3 7 (7,) \n",
      "4 7 (7,) \n",
      "5 7 (7,) \n",
      "6 6 (6,) \n",
      "7 4 (5,) \n",
      "8 4 (5,) \n",
      "9 4 (5,) \n",
      "10 4 (5,) \n",
      "11 4 (5,) \n",
      "12 4 (5,) \n",
      "13 4 (5,) \n",
      "14 3 (4,) \n",
      "15 6 (7,) \n",
      "16 6 (6,) \n"
     ]
    }
   ],
   "source": [
    "if True:\n",
    "    pd_list = [(lambda x: pd.read_csv(path+x,index_col=0, header=0).T)(f) for f in files]\n",
    "    \n",
    "    val = 100\n",
    "    for pi, pl in enumerate(pd_list):\n",
    "        pl.index = [ind.replace('*','').replace('\\r','').replace('\\n','').replace('- ','').replace('+ ','+').replace(' +','+')  for ind in pl.index]\n",
    "        pl.columns = [ind.replace('*','').replace('\\r','').replace('\\n','').replace('+ ','+').replace(' +','+') for ind in pl.columns]\n",
    "\n",
    "        pl[pl == '-'] = 0\n",
    "        pl = pl.fillna(0)\n",
    "        f = 0\n",
    "        rows = pl.index.values.tolist()\n",
    "        cols = pl.columns.values.tolist()\n",
    "        for r_org in rows:\n",
    "            for c in cols:\n",
    "                #val = pl.loc[r_org,:].astype(str).astype(int).nlargest(2)[1] * 1.5\n",
    "                #val = int(val)\n",
    "                r = r_org\n",
    "                r2 = 'error'\n",
    "\n",
    "                c_split = c.split(' ')\n",
    "                c_computed = ''\n",
    "                if '(' in r:\n",
    "                    r, r2 = r.split('(')[:2]\n",
    "                    r = r.lstrip()\n",
    "                    r2 = r2.lstrip().replace(')','').rstrip()\n",
    "                elif r_org[-len('Kukiza'):] == 'Kukiza': r = \"KUKIZ\"\n",
    "\n",
    "                if len(c_split) >= len(r):\n",
    "                    for ri in range(len(r)):\n",
    "                        c_computed = c_computed + c_split[ri][0]\n",
    "                if c == 'Platforma Obywatelska RP': c_computed = 'PO RP'\n",
    "                elif c[:len('Prawo i Sprawiedliwość')] == 'Prawo i Sprawiedliwość': c_computed = 'PiS'\n",
    "\n",
    "                if 'SLD+TR+PPS+UP+Zieloni' in r_org and 'SLD+TR+PPS+UP+Zieloni' in c: r2 = 'SLD+TR+PPS+UP+Zieloni'\n",
    "                elif 'Prawo i Sprawiedliwość' in c and 'PiS' in r_org: r2 = 'Prawo i Sprawiedliwość'\n",
    "\n",
    "                if ((r in c+c_computed) or (r_org in c_computed+c) or (r2 in c_computed+c)):\n",
    "                    if r_org in rows: pl.loc[r_org,c] = val\n",
    "                    elif r in rows: pl.loc[r,c] = val\n",
    "                    f += 1\n",
    "\n",
    "        print(pi,f,pl.index.shape, end = ' ')\n",
    "        if np.abs(f - pl.index.shape[0]) > 1: print('WRONG', end = '\\n')\n",
    "        else: print()\n",
    "\n",
    "        pd_list[pi] = pl\n",
    "        pl.to_csv(path+'clean/'+files[pi])\n",
    "else:\n",
    "    pd_list = [(lambda x: pd.read_csv(path+'clean/'+x,index_col=0, header=0))(f) for f in files]"
   ]
  },
  {
   "cell_type": "code",
   "execution_count": 500,
   "metadata": {},
   "outputs": [],
   "source": [
    "embedding = MDS(n_components=2)\n",
    "no = 0\n",
    "MDS_parties = embedding.fit_transform(pd_list[no].T.iloc[0:-3,:].dropna())"
   ]
  },
  {
   "cell_type": "code",
   "execution_count": 501,
   "metadata": {},
   "outputs": [],
   "source": [
    "mm = ['^','^','x' ,'x','o','o', 'v','v','v' ,'s','s' ,'d','d']\n",
    "mark = ['x','o','v']\n",
    "mm = mm[:MDS_parties.shape[0]]"
   ]
  },
  {
   "cell_type": "code",
   "execution_count": 508,
   "metadata": {},
   "outputs": [
    {
     "data": {
      "text/plain": [
       "'2001_06.csv'"
      ]
     },
     "execution_count": 508,
     "metadata": {},
     "output_type": "execute_result"
    }
   ],
   "source": [
    "files[no]"
   ]
  },
  {
   "cell_type": "code",
   "execution_count": 502,
   "metadata": {},
   "outputs": [
    {
     "data": {
      "text/html": [
       "<div>\n",
       "<style scoped>\n",
       "    .dataframe tbody tr th:only-of-type {\n",
       "        vertical-align: middle;\n",
       "    }\n",
       "\n",
       "    .dataframe tbody tr th {\n",
       "        vertical-align: top;\n",
       "    }\n",
       "\n",
       "    .dataframe thead th {\n",
       "        text-align: right;\n",
       "    }\n",
       "</style>\n",
       "<table border=\"1\" class=\"dataframe\">\n",
       "  <thead>\n",
       "    <tr style=\"text-align: right;\">\n",
       "      <th></th>\n",
       "      <th>AWSP</th>\n",
       "      <th>ChD III RP</th>\n",
       "      <th>PiS</th>\n",
       "      <th>LR</th>\n",
       "      <th>PO</th>\n",
       "      <th>PPS</th>\n",
       "      <th>PSL</th>\n",
       "      <th>PUG</th>\n",
       "      <th>PdP</th>\n",
       "      <th>RKN</th>\n",
       "      <th>„Samoobrona”</th>\n",
       "      <th>SLD+UP+KPEiR</th>\n",
       "      <th>UW</th>\n",
       "      <th>Inna</th>\n",
       "      <th>Nie ma takiej partii</th>\n",
       "      <th>Trudno powiedzieć</th>\n",
       "    </tr>\n",
       "  </thead>\n",
       "  <tbody>\n",
       "    <tr>\n",
       "      <td>AWSP</td>\n",
       "      <td>100</td>\n",
       "      <td>6</td>\n",
       "      <td>13</td>\n",
       "      <td>0</td>\n",
       "      <td>26</td>\n",
       "      <td>0</td>\n",
       "      <td>6</td>\n",
       "      <td>0</td>\n",
       "      <td>0</td>\n",
       "      <td>0</td>\n",
       "      <td>0</td>\n",
       "      <td>7</td>\n",
       "      <td>8</td>\n",
       "      <td>0</td>\n",
       "      <td>12</td>\n",
       "      <td>22</td>\n",
       "    </tr>\n",
       "    <tr>\n",
       "      <td>PiS</td>\n",
       "      <td>11</td>\n",
       "      <td>4</td>\n",
       "      <td>100</td>\n",
       "      <td>4</td>\n",
       "      <td>26</td>\n",
       "      <td>0</td>\n",
       "      <td>9</td>\n",
       "      <td>0</td>\n",
       "      <td>3</td>\n",
       "      <td>4</td>\n",
       "      <td>3</td>\n",
       "      <td>9</td>\n",
       "      <td>2</td>\n",
       "      <td>3</td>\n",
       "      <td>14</td>\n",
       "      <td>8</td>\n",
       "    </tr>\n",
       "    <tr>\n",
       "      <td>PO</td>\n",
       "      <td>17</td>\n",
       "      <td>4</td>\n",
       "      <td>19</td>\n",
       "      <td>0</td>\n",
       "      <td>100</td>\n",
       "      <td>2</td>\n",
       "      <td>10</td>\n",
       "      <td>1</td>\n",
       "      <td>0</td>\n",
       "      <td>0</td>\n",
       "      <td>3</td>\n",
       "      <td>10</td>\n",
       "      <td>18</td>\n",
       "      <td>0</td>\n",
       "      <td>10</td>\n",
       "      <td>6</td>\n",
       "    </tr>\n",
       "    <tr>\n",
       "      <td>PSL</td>\n",
       "      <td>3</td>\n",
       "      <td>0</td>\n",
       "      <td>7</td>\n",
       "      <td>1</td>\n",
       "      <td>12</td>\n",
       "      <td>0</td>\n",
       "      <td>100</td>\n",
       "      <td>0</td>\n",
       "      <td>4</td>\n",
       "      <td>0</td>\n",
       "      <td>5</td>\n",
       "      <td>49</td>\n",
       "      <td>0</td>\n",
       "      <td>0</td>\n",
       "      <td>10</td>\n",
       "      <td>8</td>\n",
       "    </tr>\n",
       "    <tr>\n",
       "      <td>SLD+UP+KPEiR</td>\n",
       "      <td>1</td>\n",
       "      <td>0</td>\n",
       "      <td>6</td>\n",
       "      <td>0</td>\n",
       "      <td>21</td>\n",
       "      <td>2</td>\n",
       "      <td>22</td>\n",
       "      <td>1</td>\n",
       "      <td>0</td>\n",
       "      <td>0</td>\n",
       "      <td>2</td>\n",
       "      <td>100</td>\n",
       "      <td>9</td>\n",
       "      <td>0</td>\n",
       "      <td>26</td>\n",
       "      <td>10</td>\n",
       "    </tr>\n",
       "  </tbody>\n",
       "</table>\n",
       "</div>"
      ],
      "text/plain": [
       "             AWSP ChD III RP  PiS LR   PO PPS  PSL PUG PdP RKN „Samoobrona”  \\\n",
       "AWSP          100          6   13  0   26   0    6   0   0   0            0   \n",
       "PiS            11          4  100  4   26   0    9   0   3   4            3   \n",
       "PO             17          4   19  0  100   2   10   1   0   0            3   \n",
       "PSL             3          0    7  1   12   0  100   0   4   0            5   \n",
       "SLD+UP+KPEiR    1          0    6  0   21   2   22   1   0   0            2   \n",
       "\n",
       "             SLD+UP+KPEiR  UW Inna Nie ma takiej partii Trudno powiedzieć  \n",
       "AWSP                    7   8    0                   12                22  \n",
       "PiS                     9   2    3                   14                 8  \n",
       "PO                     10  18    0                   10                 6  \n",
       "PSL                    49   0    0                   10                 8  \n",
       "SLD+UP+KPEiR          100   9    0                   26                10  "
      ]
     },
     "execution_count": 502,
     "metadata": {},
     "output_type": "execute_result"
    }
   ],
   "source": [
    "pd_list[no]"
   ]
  },
  {
   "cell_type": "code",
   "execution_count": 503,
   "metadata": {},
   "outputs": [
    {
     "data": {
      "text/plain": [
       "array([[100, '11', 17, '3', '1'],\n",
       "       ['6', '4', 4, '0', '0'],\n",
       "       ['13', 100, 19, '7', '6'],\n",
       "       ['0', '4', 0, '1', '0'],\n",
       "       ['26', '26', 100, '12', '21'],\n",
       "       ['0', '0', 2, '0', '2'],\n",
       "       ['6', '9', 10, 100, '22'],\n",
       "       ['0', '0', 1, '0', '1'],\n",
       "       ['0', '3', 0, '4', '0'],\n",
       "       ['0', '4', 0, '0', '0'],\n",
       "       ['0', '3', 3, '5', '2'],\n",
       "       ['7', '9', 10, '49', 100],\n",
       "       ['8', '2', 18, '0', '9']], dtype=object)"
      ]
     },
     "execution_count": 503,
     "metadata": {},
     "output_type": "execute_result"
    }
   ],
   "source": [
    "parties_np = pd_list[no].iloc[:,:-3].T.to_numpy()\n",
    "parties_np"
   ]
  },
  {
   "cell_type": "code",
   "execution_count": 504,
   "metadata": {},
   "outputs": [
    {
     "data": {
      "text/plain": [
       "array([[-24.11623485, -87.98852458],\n",
       "       [-80.26564874, -31.92199145],\n",
       "       [ -8.09482597, -13.71662831]])"
      ]
     },
     "execution_count": 504,
     "metadata": {},
     "output_type": "execute_result"
    }
   ],
   "source": [
    "init_parties = MDS_parties[[2,4],:]\n",
    "init_parties = np.append(init_parties, [(np.random.rand(2)-0.5)*40], axis = 0 )\n",
    "init_parties"
   ]
  },
  {
   "cell_type": "code",
   "execution_count": 505,
   "metadata": {},
   "outputs": [
    {
     "data": {
      "text/plain": [
       "KMeans(algorithm='auto', copy_x=True, init='k-means++', max_iter=300,\n",
       "       n_clusters=3, n_init=10, n_jobs=None, precompute_distances='auto',\n",
       "       random_state=None, tol=0.0001, verbose=0)"
      ]
     },
     "execution_count": 505,
     "metadata": {},
     "output_type": "execute_result"
    }
   ],
   "source": [
    "parties_Kmeans = KMeans(n_clusters=3 )#, init = init_parties)\n",
    "parties_Kmeans = parties_Kmeans.fit(parties_np)#MDS_parties)\n",
    "parties_Kmeans"
   ]
  },
  {
   "cell_type": "code",
   "execution_count": 506,
   "metadata": {},
   "outputs": [
    {
     "data": {
      "text/plain": [
       "array([0, 0, 0, 0, 2, 0, 1, 0, 0, 0, 0, 1, 0], dtype=int32)"
      ]
     },
     "execution_count": 506,
     "metadata": {},
     "output_type": "execute_result"
    }
   ],
   "source": [
    "parties_Kmeans.labels_"
   ]
  },
  {
   "cell_type": "code",
   "execution_count": 507,
   "metadata": {},
   "outputs": [
    {
     "data": {
      "text/plain": [
       "[]"
      ]
     },
     "execution_count": 507,
     "metadata": {},
     "output_type": "execute_result"
    },
    {
     "data": {
      "image/png": "[encoded data removed]",
      "text/plain": [
       "<Figure size 720x720 with 1 Axes>"
      ]
     },
     "metadata": {
      "needs_background": "light"
     },
     "output_type": "display_data"
    }
   ],
   "source": [
    "plt.figure(figsize=(10,10))\n",
    "plt.rcParams.update({'font.size': 22})\n",
    "for i,m in enumerate(mm):\n",
    "    m = mark[parties_Kmeans.labels_[i]]\n",
    "    plt.scatter(MDS_parties[i,0],MDS_parties[i,1], marker=m, s = 200)\n",
    "plt.legend(pd_list[no].T.index.values.tolist( ), loc='center left', bbox_to_anchor=(1, 0.5))\n",
    "plt.plot()"
   ]
  },
  {
   "cell_type": "code",
   "execution_count": 363,
   "metadata": {},
   "outputs": [
    {
     "data": {
      "text/html": [
       "<div>\n",
       "<style scoped>\n",
       "    .dataframe tbody tr th:only-of-type {\n",
       "        vertical-align: middle;\n",
       "    }\n",
       "\n",
       "    .dataframe tbody tr th {\n",
       "        vertical-align: top;\n",
       "    }\n",
       "\n",
       "    .dataframe thead th {\n",
       "        text-align: right;\n",
       "    }\n",
       "</style>\n",
       "<table border=\"1\" class=\"dataframe\">\n",
       "  <thead>\n",
       "    <tr style=\"text-align: right;\">\n",
       "      <th></th>\n",
       "      <th>Liga Polskich Rodzin (LPR)</th>\n",
       "      <th>Partia Kobiet</th>\n",
       "      <th>Platforma Obywatelska RP (PO RP)</th>\n",
       "      <th>Polska Jest Najważniejsza (PJN)</th>\n",
       "      <th>Polskie Stronnictwo Ludowe (PSL)</th>\n",
       "      <th>Prawo i Sprawiedliwość (PiS)</th>\n",
       "      <th>Ruch Poparcia Palikota</th>\n",
       "      <th>Sojusz Lewicy Demokratycznej (SLD)</th>\n",
       "      <th>Inna partia</th>\n",
       "      <th>Nie mam takiej partii</th>\n",
       "      <th>Trudno powiedzieć</th>\n",
       "      <th>Ogółem</th>\n",
       "    </tr>\n",
       "  </thead>\n",
       "  <tbody>\n",
       "    <tr>\n",
       "      <td>PO</td>\n",
       "      <td>1</td>\n",
       "      <td>3</td>\n",
       "      <td>0</td>\n",
       "      <td>3</td>\n",
       "      <td>14</td>\n",
       "      <td>4</td>\n",
       "      <td>1</td>\n",
       "      <td>33</td>\n",
       "      <td>4</td>\n",
       "      <td>28</td>\n",
       "      <td>9</td>\n",
       "      <td>100</td>\n",
       "    </tr>\n",
       "    <tr>\n",
       "      <td>PSL</td>\n",
       "      <td>3</td>\n",
       "      <td>5</td>\n",
       "      <td>18</td>\n",
       "      <td>0</td>\n",
       "      <td>0</td>\n",
       "      <td>14</td>\n",
       "      <td>0</td>\n",
       "      <td>8</td>\n",
       "      <td>6</td>\n",
       "      <td>34</td>\n",
       "      <td>12</td>\n",
       "      <td>100</td>\n",
       "    </tr>\n",
       "    <tr>\n",
       "      <td>PiS</td>\n",
       "      <td>6</td>\n",
       "      <td>3</td>\n",
       "      <td>5</td>\n",
       "      <td>4</td>\n",
       "      <td>8</td>\n",
       "      <td>0</td>\n",
       "      <td>0</td>\n",
       "      <td>11</td>\n",
       "      <td>8</td>\n",
       "      <td>48</td>\n",
       "      <td>7</td>\n",
       "      <td>100</td>\n",
       "    </tr>\n",
       "    <tr>\n",
       "      <td>SLD</td>\n",
       "      <td>0</td>\n",
       "      <td>3</td>\n",
       "      <td>37</td>\n",
       "      <td>1</td>\n",
       "      <td>16</td>\n",
       "      <td>7</td>\n",
       "      <td>5</td>\n",
       "      <td>0</td>\n",
       "      <td>4</td>\n",
       "      <td>22</td>\n",
       "      <td>5</td>\n",
       "      <td>100</td>\n",
       "    </tr>\n",
       "    <tr>\n",
       "      <td>Pozostałe</td>\n",
       "      <td>7</td>\n",
       "      <td>1</td>\n",
       "      <td>20</td>\n",
       "      <td>3</td>\n",
       "      <td>2</td>\n",
       "      <td>12</td>\n",
       "      <td>6</td>\n",
       "      <td>10</td>\n",
       "      <td>8</td>\n",
       "      <td>31</td>\n",
       "      <td>0</td>\n",
       "      <td>100</td>\n",
       "    </tr>\n",
       "  </tbody>\n",
       "</table>\n",
       "</div>"
      ],
      "text/plain": [
       "          Liga Polskich Rodzin (LPR) Partia Kobiet  \\\n",
       "PO                                 1             3   \n",
       "PSL                                3             5   \n",
       "PiS                                6             3   \n",
       "SLD                                0             3   \n",
       "Pozostałe                          7             1   \n",
       "\n",
       "          Platforma Obywatelska RP (PO RP) Polska Jest Najważniejsza (PJN)  \\\n",
       "PO                                       0                               3   \n",
       "PSL                                     18                               0   \n",
       "PiS                                      5                               4   \n",
       "SLD                                     37                               1   \n",
       "Pozostałe                               20                               3   \n",
       "\n",
       "          Polskie Stronnictwo Ludowe (PSL) Prawo i Sprawiedliwość (PiS)  \\\n",
       "PO                                      14                            4   \n",
       "PSL                                      0                           14   \n",
       "PiS                                      8                            0   \n",
       "SLD                                     16                            7   \n",
       "Pozostałe                                2                           12   \n",
       "\n",
       "          Ruch Poparcia Palikota Sojusz Lewicy Demokratycznej (SLD)  \\\n",
       "PO                             1                                 33   \n",
       "PSL                            0                                  8   \n",
       "PiS                            0                                 11   \n",
       "SLD                            5                                  0   \n",
       "Pozostałe                      6                                 10   \n",
       "\n",
       "          Inna partia Nie mam takiej partii Trudno powiedzieć Ogółem  \n",
       "PO                  4                    28                 9    100  \n",
       "PSL                 6                    34                12    100  \n",
       "PiS                 8                    48                 7    100  \n",
       "SLD                 4                    22                 5    100  \n",
       "Pozostałe           8                    31                 0    100  "
      ]
     },
     "execution_count": 363,
     "metadata": {},
     "output_type": "execute_result"
    }
   ],
   "source": [
    "pd_list[no]"
   ]
  },
  {
   "cell_type": "code",
   "execution_count": 129,
   "metadata": {},
   "outputs": [
    {
     "ename": "ValueError",
     "evalue": "Input contains NaN, infinity or a value too large for dtype('float64').",
     "output_type": "error",
     "traceback": [
      "\u001b[0;31m---------------------------------------------------------------------------\u001b[0m",
      "\u001b[0;31mValueError\u001b[0m                                Traceback (most recent call last)",
      "\u001b[0;32m<ipython-input-129-c2c1989dd136>\u001b[0m in \u001b[0;36m<module>\u001b[0;34m()\u001b[0m\n\u001b[1;32m      1\u001b[0m \u001b[0membedding\u001b[0m \u001b[0;34m=\u001b[0m \u001b[0mMDS\u001b[0m\u001b[0;34m(\u001b[0m\u001b[0mn_components\u001b[0m\u001b[0;34m=\u001b[0m\u001b[0;36m2\u001b[0m\u001b[0;34m)\u001b[0m\u001b[0;34m\u001b[0m\u001b[0;34m\u001b[0m\u001b[0m\n\u001b[0;32m----> 2\u001b[0;31m \u001b[0mMDS_parties\u001b[0m \u001b[0;34m=\u001b[0m \u001b[0membedding\u001b[0m\u001b[0;34m.\u001b[0m\u001b[0mfit_transform\u001b[0m\u001b[0;34m(\u001b[0m\u001b[0mpd_list\u001b[0m\u001b[0;34m[\u001b[0m\u001b[0;36m16\u001b[0m\u001b[0;34m]\u001b[0m\u001b[0;34m.\u001b[0m\u001b[0miloc\u001b[0m\u001b[0;34m[\u001b[0m\u001b[0;34m:\u001b[0m\u001b[0;34m,\u001b[0m\u001b[0;36m0\u001b[0m\u001b[0;34m:\u001b[0m\u001b[0;34m-\u001b[0m\u001b[0;36m3\u001b[0m\u001b[0;34m]\u001b[0m\u001b[0;34m)\u001b[0m\u001b[0;34m\u001b[0m\u001b[0;34m\u001b[0m\u001b[0m\n\u001b[0m\u001b[1;32m      3\u001b[0m \u001b[0mmm\u001b[0m \u001b[0;34m=\u001b[0m \u001b[0;34m[\u001b[0m\u001b[0;34m'^'\u001b[0m\u001b[0;34m,\u001b[0m\u001b[0;34m'x'\u001b[0m\u001b[0;34m,\u001b[0m\u001b[0;34m'o'\u001b[0m\u001b[0;34m,\u001b[0m \u001b[0;34m'v'\u001b[0m \u001b[0;34m,\u001b[0m\u001b[0;34m's'\u001b[0m\u001b[0;34m,\u001b[0m\u001b[0;34m'd'\u001b[0m\u001b[0;34m]\u001b[0m\u001b[0;34m\u001b[0m\u001b[0;34m\u001b[0m\u001b[0m\n\u001b[1;32m      4\u001b[0m \u001b[0mprint\u001b[0m\u001b[0;34m(\u001b[0m\u001b[0mMDS_parties\u001b[0m\u001b[0;34m.\u001b[0m\u001b[0mshape\u001b[0m\u001b[0;34m[\u001b[0m\u001b[0;36m0\u001b[0m\u001b[0;34m]\u001b[0m\u001b[0;34m)\u001b[0m\u001b[0;34m\u001b[0m\u001b[0;34m\u001b[0m\u001b[0m\n\u001b[1;32m      5\u001b[0m \u001b[0mprint\u001b[0m\u001b[0;34m(\u001b[0m\u001b[0mlen\u001b[0m\u001b[0;34m(\u001b[0m\u001b[0mmm\u001b[0m\u001b[0;34m)\u001b[0m\u001b[0;34m)\u001b[0m\u001b[0;34m\u001b[0m\u001b[0;34m\u001b[0m\u001b[0m\n",
      "\u001b[0;32m/home/marek/.local/lib/python3.7/site-packages/sklearn/manifold/_mds.py\u001b[0m in \u001b[0;36mfit_transform\u001b[0;34m(self, X, y, init)\u001b[0m\n\u001b[1;32m    415\u001b[0m             \u001b[0mchosen\u001b[0m \u001b[0marray\u001b[0m\u001b[0;34m.\u001b[0m\u001b[0;34m\u001b[0m\u001b[0;34m\u001b[0m\u001b[0m\n\u001b[1;32m    416\u001b[0m         \"\"\"\n\u001b[0;32m--> 417\u001b[0;31m         \u001b[0mX\u001b[0m \u001b[0;34m=\u001b[0m \u001b[0mcheck_array\u001b[0m\u001b[0;34m(\u001b[0m\u001b[0mX\u001b[0m\u001b[0;34m)\u001b[0m\u001b[0;34m\u001b[0m\u001b[0;34m\u001b[0m\u001b[0m\n\u001b[0m\u001b[1;32m    418\u001b[0m         \u001b[0;32mif\u001b[0m \u001b[0mX\u001b[0m\u001b[0;34m.\u001b[0m\u001b[0mshape\u001b[0m\u001b[0;34m[\u001b[0m\u001b[0;36m0\u001b[0m\u001b[0;34m]\u001b[0m \u001b[0;34m==\u001b[0m \u001b[0mX\u001b[0m\u001b[0;34m.\u001b[0m\u001b[0mshape\u001b[0m\u001b[0;34m[\u001b[0m\u001b[0;36m1\u001b[0m\u001b[0;34m]\u001b[0m \u001b[0;32mand\u001b[0m \u001b[0mself\u001b[0m\u001b[0;34m.\u001b[0m\u001b[0mdissimilarity\u001b[0m \u001b[0;34m!=\u001b[0m \u001b[0;34m\"precomputed\"\u001b[0m\u001b[0;34m:\u001b[0m\u001b[0;34m\u001b[0m\u001b[0;34m\u001b[0m\u001b[0m\n\u001b[1;32m    419\u001b[0m             warnings.warn(\"The MDS API has changed. ``fit`` now constructs an\"\n",
      "\u001b[0;32m/home/marek/.local/lib/python3.7/site-packages/sklearn/utils/validation.py\u001b[0m in \u001b[0;36mcheck_array\u001b[0;34m(array, accept_sparse, accept_large_sparse, dtype, order, copy, force_all_finite, ensure_2d, allow_nd, ensure_min_samples, ensure_min_features, warn_on_dtype, estimator)\u001b[0m\n\u001b[1;32m    560\u001b[0m         \u001b[0;32mif\u001b[0m \u001b[0mforce_all_finite\u001b[0m\u001b[0;34m:\u001b[0m\u001b[0;34m\u001b[0m\u001b[0;34m\u001b[0m\u001b[0m\n\u001b[1;32m    561\u001b[0m             _assert_all_finite(array,\n\u001b[0;32m--> 562\u001b[0;31m                                allow_nan=force_all_finite == 'allow-nan')\n\u001b[0m\u001b[1;32m    563\u001b[0m \u001b[0;34m\u001b[0m\u001b[0m\n\u001b[1;32m    564\u001b[0m     \u001b[0;32mif\u001b[0m \u001b[0mensure_min_samples\u001b[0m \u001b[0;34m>\u001b[0m \u001b[0;36m0\u001b[0m\u001b[0;34m:\u001b[0m\u001b[0;34m\u001b[0m\u001b[0;34m\u001b[0m\u001b[0m\n",
      "\u001b[0;32m/home/marek/.local/lib/python3.7/site-packages/sklearn/utils/validation.py\u001b[0m in \u001b[0;36m_assert_all_finite\u001b[0;34m(X, allow_nan, msg_dtype)\u001b[0m\n\u001b[1;32m     58\u001b[0m                     \u001b[0mmsg_err\u001b[0m\u001b[0;34m.\u001b[0m\u001b[0mformat\u001b[0m\u001b[0;34m\u001b[0m\u001b[0;34m\u001b[0m\u001b[0m\n\u001b[1;32m     59\u001b[0m                     (type_err,\n\u001b[0;32m---> 60\u001b[0;31m                      msg_dtype if msg_dtype is not None else X.dtype)\n\u001b[0m\u001b[1;32m     61\u001b[0m             )\n\u001b[1;32m     62\u001b[0m     \u001b[0;31m# for object dtype data, we only check for NaNs (GH-13254)\u001b[0m\u001b[0;34m\u001b[0m\u001b[0;34m\u001b[0m\u001b[0;34m\u001b[0m\u001b[0m\n",
      "\u001b[0;31mValueError\u001b[0m: Input contains NaN, infinity or a value too large for dtype('float64')."
     ]
    }
   ],
   "source": [
    "embedding = MDS(n_components=2)\n",
    "MDS_parties = embedding.fit_transform(pd_list[16].iloc[:,0:-3])\n",
    "mm = ['^','x','o', 'v' ,'s','d']\n",
    "print(MDS_parties.shape[0])\n",
    "print(len(mm))"
   ]
  },
  {
   "cell_type": "code",
   "execution_count": 88,
   "metadata": {},
   "outputs": [
    {
     "data": {
      "text/plain": [
       "[]"
      ]
     },
     "execution_count": 88,
     "metadata": {},
     "output_type": "execute_result"
    },
    {
     "data": {
      "image/png": "[encoded data removed]",
      "text/plain": [
       "<Figure size 504x504 with 1 Axes>"
      ]
     },
     "metadata": {
      "needs_background": "light"
     },
     "output_type": "display_data"
    }
   ],
   "source": [
    "plt.figure(figsize=(7,7))\n",
    "plt.rcParams.update({'font.size': 15})\n",
    "for i,m in enumerate(mm):\n",
    "    plt.scatter(MDS_parties[i,0],MDS_parties[i,1], marker=m, s = 150)\n",
    "plt.legend(pd_list[16].index.values.tolist( ), loc='center left', bbox_to_anchor=(1, 0.5))\n",
    "plt.plot()"
   ]
  },
  {
   "cell_type": "code",
   "execution_count": 89,
   "metadata": {},
   "outputs": [
    {
     "data": {
      "text/html": [
       "<div>\n",
       "<style scoped>\n",
       "    .dataframe tbody tr th:only-of-type {\n",
       "        vertical-align: middle;\n",
       "    }\n",
       "\n",
       "    .dataframe tbody tr th {\n",
       "        vertical-align: top;\n",
       "    }\n",
       "\n",
       "    .dataframe thead th {\n",
       "        text-align: right;\n",
       "    }\n",
       "</style>\n",
       "<table border=\"1\" class=\"dataframe\">\n",
       "  <thead>\n",
       "    <tr style=\"text-align: right;\">\n",
       "      <th>Party</th>\n",
       "      <th>ChD III RP</th>\n",
       "      <th>KPEiR</th>\n",
       "      <th>LPR</th>\n",
       "      <th>PD - demokraci.pl</th>\n",
       "      <th>PO</th>\n",
       "      <th>PSL</th>\n",
       "      <th>PiS</th>\n",
       "      <th>Samoobrona</th>\n",
       "      <th>SdPl</th>\n",
       "      <th>SLD</th>\n",
       "      <th>UPR</th>\n",
       "      <th>Inne/pozostałe</th>\n",
       "      <th>Nie ma takiej partii, trudno powiedzieć</th>\n",
       "      <th>Ogółem</th>\n",
       "    </tr>\n",
       "  </thead>\n",
       "  <tbody>\n",
       "    <tr>\n",
       "      <td>LPR</td>\n",
       "      <td>3</td>\n",
       "      <td>8</td>\n",
       "      <td>0</td>\n",
       "      <td>0</td>\n",
       "      <td>4</td>\n",
       "      <td>3</td>\n",
       "      <td>28</td>\n",
       "      <td>17</td>\n",
       "      <td>0</td>\n",
       "      <td>0</td>\n",
       "      <td>0</td>\n",
       "      <td>18</td>\n",
       "      <td>19</td>\n",
       "      <td>100</td>\n",
       "    </tr>\n",
       "    <tr>\n",
       "      <td>PO</td>\n",
       "      <td>0</td>\n",
       "      <td>0</td>\n",
       "      <td>4</td>\n",
       "      <td>9</td>\n",
       "      <td>0</td>\n",
       "      <td>5</td>\n",
       "      <td>45</td>\n",
       "      <td>3</td>\n",
       "      <td>6</td>\n",
       "      <td>3</td>\n",
       "      <td>5</td>\n",
       "      <td>2</td>\n",
       "      <td>18</td>\n",
       "      <td>100</td>\n",
       "    </tr>\n",
       "    <tr>\n",
       "      <td>PSL*</td>\n",
       "      <td>0</td>\n",
       "      <td>7</td>\n",
       "      <td>14</td>\n",
       "      <td>6</td>\n",
       "      <td>0</td>\n",
       "      <td>0</td>\n",
       "      <td>14</td>\n",
       "      <td>13</td>\n",
       "      <td>0</td>\n",
       "      <td>0</td>\n",
       "      <td>0</td>\n",
       "      <td>22</td>\n",
       "      <td>24</td>\n",
       "      <td>100</td>\n",
       "    </tr>\n",
       "    <tr>\n",
       "      <td>PiS</td>\n",
       "      <td>2</td>\n",
       "      <td>1</td>\n",
       "      <td>21</td>\n",
       "      <td>0</td>\n",
       "      <td>37</td>\n",
       "      <td>3</td>\n",
       "      <td>0</td>\n",
       "      <td>8</td>\n",
       "      <td>0</td>\n",
       "      <td>1</td>\n",
       "      <td>2</td>\n",
       "      <td>2</td>\n",
       "      <td>23</td>\n",
       "      <td>100</td>\n",
       "    </tr>\n",
       "    <tr>\n",
       "      <td>Samoobrona</td>\n",
       "      <td>0</td>\n",
       "      <td>4</td>\n",
       "      <td>12</td>\n",
       "      <td>0</td>\n",
       "      <td>6</td>\n",
       "      <td>13</td>\n",
       "      <td>18</td>\n",
       "      <td>0</td>\n",
       "      <td>0</td>\n",
       "      <td>4</td>\n",
       "      <td>5</td>\n",
       "      <td>2</td>\n",
       "      <td>36</td>\n",
       "      <td>100</td>\n",
       "    </tr>\n",
       "    <tr>\n",
       "      <td>SdPl*</td>\n",
       "      <td>0</td>\n",
       "      <td>4</td>\n",
       "      <td>0</td>\n",
       "      <td>18</td>\n",
       "      <td>30</td>\n",
       "      <td>0</td>\n",
       "      <td>0</td>\n",
       "      <td>0</td>\n",
       "      <td>0</td>\n",
       "      <td>21</td>\n",
       "      <td>6</td>\n",
       "      <td>3</td>\n",
       "      <td>18</td>\n",
       "      <td>100</td>\n",
       "    </tr>\n",
       "    <tr>\n",
       "      <td>SLD</td>\n",
       "      <td>0</td>\n",
       "      <td>6</td>\n",
       "      <td>0</td>\n",
       "      <td>2</td>\n",
       "      <td>11</td>\n",
       "      <td>9</td>\n",
       "      <td>10</td>\n",
       "      <td>6</td>\n",
       "      <td>26</td>\n",
       "      <td>0</td>\n",
       "      <td>0</td>\n",
       "      <td>10</td>\n",
       "      <td>20</td>\n",
       "      <td>100</td>\n",
       "    </tr>\n",
       "  </tbody>\n",
       "</table>\n",
       "</div>"
      ],
      "text/plain": [
       "Party      ChD III RP KPEiR LPR PD - demokraci.pl  PO PSL PiS Samoobrona SdPl  \\\n",
       "LPR                 3     8   0                 0   4   3  28         17    0   \n",
       "PO                  0     0   4                 9   0   5  45          3    6   \n",
       "PSL*                0     7  14                 6   0   0  14         13    0   \n",
       "PiS                 2     1  21                 0  37   3   0          8    0   \n",
       "Samoobrona          0     4  12                 0   6  13  18          0    0   \n",
       "SdPl*               0     4   0                18  30   0   0          0    0   \n",
       "SLD                 0     6   0                 2  11   9  10          6   26   \n",
       "\n",
       "Party      SLD UPR Inne/pozostałe Nie ma takiej partii, trudno powiedzieć  \\\n",
       "LPR          0   0             18                                      19   \n",
       "PO           3   5              2                                      18   \n",
       "PSL*         0   0             22                                      24   \n",
       "PiS          1   2              2                                      23   \n",
       "Samoobrona   4   5              2                                      36   \n",
       "SdPl*       21   6              3                                      18   \n",
       "SLD          0   0             10                                      20   \n",
       "\n",
       "Party      Ogółem  \n",
       "LPR           100  \n",
       "PO            100  \n",
       "PSL*          100  \n",
       "PiS           100  \n",
       "Samoobrona    100  \n",
       "SdPl*         100  \n",
       "SLD           100  "
      ]
     },
     "execution_count": 89,
     "metadata": {},
     "output_type": "execute_result"
    }
   ],
   "source": [
    "pd_list[5]"
   ]
  },
  {
   "cell_type": "code",
   "execution_count": 108,
   "metadata": {},
   "outputs": [
    {
     "name": "stdout",
     "output_type": "stream",
     "text": [
      "2004_08.csv\n"
     ]
    },
    {
     "data": {
      "text/plain": [
       "[]"
      ]
     },
     "execution_count": 108,
     "metadata": {},
     "output_type": "execute_result"
    },
    {
     "data": {
      "image/png": "[encoded data removed]",
      "text/plain": [
       "<Figure size 504x504 with 1 Axes>"
      ]
     },
     "metadata": {
      "needs_background": "light"
     },
     "output_type": "display_data"
    }
   ],
   "source": [
    "embedding = MDS(n_components=2)\n",
    "MDS_parties = embedding.fit_transform(pd_list[5].iloc[:,0:-3])\n",
    "mm = ['^','x','o', 'v' ,'s','d','x']\n",
    "print(files[5])\n",
    "plt.figure(figsize=(7,7))\n",
    "plt.rcParams.update({'font.size': 15})\n",
    "for i,m in enumerate(mm):\n",
    "    plt.scatter(MDS_parties[i,0],MDS_parties[i,1], marker=m, s = 150)\n",
    "plt.legend(pd_list[5].index.values.tolist( ), loc='center left', bbox_to_anchor=(1, 0.5))\n",
    "plt.plot()"
   ]
  },
  {
   "cell_type": "code",
   "execution_count": 111,
   "metadata": {},
   "outputs": [
    {
     "name": "stdout",
     "output_type": "stream",
     "text": [
      "2004_06.csv\n"
     ]
    },
    {
     "data": {
      "text/plain": [
       "[]"
      ]
     },
     "execution_count": 111,
     "metadata": {},
     "output_type": "execute_result"
    },
    {
     "data": {
      "image/png": "[encoded data removed]",
      "text/plain": [
       "<Figure size 504x504 with 1 Axes>"
      ]
     },
     "metadata": {
      "needs_background": "light"
     },
     "output_type": "display_data"
    }
   ],
   "source": [
    "embedding = MDS(n_components=2)\n",
    "MDS_parties = embedding.fit_transform(pd_list[4].iloc[:,0:-3])\n",
    "mm = ['^','x','o', 'v' ,'s','d','x']\n",
    "print(files[4])\n",
    "plt.figure(figsize=(7,7))\n",
    "plt.rcParams.update({'font.size': 15})\n",
    "for i,m in enumerate(mm):\n",
    "    plt.scatter(MDS_parties[i,0],MDS_parties[i,1], marker=m, s = 150)\n",
    "plt.legend(pd_list[4].index.values.tolist( ), loc='center left', bbox_to_anchor=(1, 0.5))\n",
    "plt.plot()"
   ]
  },
  {
   "cell_type": "code",
   "execution_count": null,
   "metadata": {},
   "outputs": [],
   "source": []
  }
 ],
 "metadata": {
  "kernelspec": {
   "display_name": "Python 3",
   "language": "python",
   "name": "python3"
  },
  "language_info": {
   "codemirror_mode": {
    "name": "ipython",
    "version": 3
   },
   "file_extension": ".py",
   "mimetype": "text/x-python",
   "name": "python",
   "nbconvert_exporter": "python",
   "pygments_lexer": "ipython3",
   "version": "3.7.3"
  }
 },
 "nbformat": 4,
 "nbformat_minor": 2
}
