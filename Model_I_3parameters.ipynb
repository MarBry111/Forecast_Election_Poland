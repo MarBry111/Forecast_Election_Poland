{
 "cells": [
  {
   "cell_type": "code",
   "execution_count": 1,
   "metadata": {},
   "outputs": [],
   "source": [
    "import numpy as np\n",
    "import pandas as pd\n",
    "import torch\n",
    "import torch.nn as nn\n",
    "import torch.nn.functional as F\n",
    "import os\n",
    "from poll_data import party_in_region, region_in_party\n",
    "import pickle\n",
    "import matplotlib.pyplot as plt\n",
    "#https://pytorch.org/tutorials/beginner/blitz/neural_networks_tutorial.html"
   ]
  },
  {
   "cell_type": "markdown",
   "metadata": {},
   "source": [
    "## Stat data"
   ]
  },
  {
   "cell_type": "code",
   "execution_count": 2,
   "metadata": {},
   "outputs": [],
   "source": [
    "path = 'dane_years/'\n",
    "files = list(filter(lambda x: os.path.isfile(path+x), os.listdir(path)))\n",
    "files.sort()"
   ]
  },
  {
   "cell_type": "code",
   "execution_count": 3,
   "metadata": {},
   "outputs": [],
   "source": [
    "stat_list = [(lambda x: pd.read_csv(path+x,index_col=0, header=0))(f) for f in files[:-1]]"
   ]
  },
  {
   "cell_type": "code",
   "execution_count": 4,
   "metadata": {},
   "outputs": [],
   "source": [
    "for yi in range(len(stat_list)):\n",
    "    y = files[yi].split('.')[0]\n",
    "    c = stat_list[yi].columns\n",
    "    c = [y+'-'+ci for ci in c]\n",
    "    # c = [y[2:]+'-'+str(ci) for ci in range(len(c))]\n",
    "    stat_list[yi].columns = c"
   ]
  },
  {
   "cell_type": "markdown",
   "metadata": {},
   "source": [
    "## Poll data"
   ]
  },
  {
   "cell_type": "code",
   "execution_count": 5,
   "metadata": {},
   "outputs": [
    {
     "data": {
      "image/png": "[encoded data removed]",
      "text/plain": [
       "<Figure size 432x288 with 1 Axes>"
      ]
     },
     "metadata": {
      "needs_background": "light"
     },
     "output_type": "display_data"
    }
   ],
   "source": [
    "#pool_data = pd.read_csv('dane_years/pools_edited.csv', index_col=0)\n",
    "pool_data_middle = pd.read_csv('dane_years/pools_data/percent_votes.csv', index_col=0).iloc[:,:-1]\n",
    "pool_data_middle = pool_data_middle.divide(pool_data_middle.sum(1),0)\n",
    "pool_data_middle.plot(color=['b','r'])\n",
    "means = pool_data_middle.mean(0)\n",
    "plt.plot([2001,2019],[means[0],means[0]],'c--')\n",
    "plt.plot([2001,2019],[means[1],means[1]],'m--')\n",
    "plt.show()"
   ]
  },
  {
   "cell_type": "markdown",
   "metadata": {},
   "source": [
    "## Voting data"
   ]
  },
  {
   "cell_type": "code",
   "execution_count": 6,
   "metadata": {},
   "outputs": [
    {
     "data": {
      "text/plain": [
       "['2001_WS.csv',\n",
       " '2005_WS.csv',\n",
       " '2007_WS.csv',\n",
       " '2011_WS.csv',\n",
       " '2015_WS.csv',\n",
       " '2019_WS.csv']"
      ]
     },
     "execution_count": 6,
     "metadata": {},
     "output_type": "execute_result"
    }
   ],
   "source": [
    "path = 'wyniki_wyborow/Simple/'\n",
    "files = list(filter(lambda x: os.path.isfile(path+x), os.listdir(path)))\n",
    "files.sort()\n",
    "files"
   ]
  },
  {
   "cell_type": "code",
   "execution_count": 7,
   "metadata": {},
   "outputs": [],
   "source": [
    "vote_list = [(lambda x: pd.read_csv(path+x,index_col=0, header=0))(f) for f in files[:]]\n",
    "vote_list[0] = vote_list[0].iloc[1:,:]"
   ]
  },
  {
   "cell_type": "code",
   "execution_count": 8,
   "metadata": {},
   "outputs": [],
   "source": [
    "vote_list[0]['jednostka'] = [j.upper() for j in vote_list[0]['jednostka']]\n",
    "vote_list[0] = vote_list[0].sort_values(['jednostka'])\n",
    "vote_list[0].columns = ['województwo'] + vote_list[0].columns.values.tolist()[1:] "
   ]
  },
  {
   "cell_type": "code",
   "execution_count": 9,
   "metadata": {},
   "outputs": [],
   "source": [
    "vote_list[0] = vote_list[0].set_index('województwo')"
   ]
  },
  {
   "cell_type": "code",
   "execution_count": 10,
   "metadata": {},
   "outputs": [],
   "source": [
    "if(False):\n",
    "    for yi in range(len(vote_list)):\n",
    "        y = files[yi].split('_WS')[0]\n",
    "        c = vote_list[yi].columns\n",
    "        #c = [y+'-'+ci for ci in c]\n",
    "        # c = [y[2:]+'-'+str(ci) for ci in range(len(c))]\n",
    "        vote_list[yi].columns = c\n",
    "\n",
    "        #vote_list[yi] = vote_list[yi].div(vote_list[yi].sum(axis=1), axis=0).fillna(0)"
   ]
  },
  {
   "cell_type": "markdown",
   "metadata": {},
   "source": [
    "## Neighbours"
   ]
  },
  {
   "cell_type": "code",
   "execution_count": 11,
   "metadata": {},
   "outputs": [],
   "source": [
    "with open('wojew_neighbours.pkl', 'rb') as f:\n",
    "    neighbours = pickle.load(f)"
   ]
  },
  {
   "cell_type": "markdown",
   "metadata": {},
   "source": [
    "## Use 2 approaches to estimate date from years without elections"
   ]
  },
  {
   "cell_type": "code",
   "execution_count": 12,
   "metadata": {},
   "outputs": [],
   "source": [
    "#party_in_region(df_vote, df_poll)\n",
    "par_in_reg_list = [vote_list[0].iloc[:,:-1]]\n",
    "#region_in_party(df_vote, df_poll)\n",
    "reg_in_par_list = [vote_list[0].iloc[:,:-1]]\n",
    "for pool in pool_data_middle[1:].iterrows():\n",
    "    if int(pool[0]) < 2005: df_vote = vote_list[0]\n",
    "    elif int(pool[0]) < 2007: df_vote = vote_list[1]\n",
    "    elif int(pool[0]) < 2011: df_vote = vote_list[2]\n",
    "    elif int(pool[0]) < 2015: df_vote = vote_list[3]\n",
    "    elif int(pool[0]) < 2019: df_vote = vote_list[4]\n",
    "    else: df_vote = vote_list[5]\n",
    "    \n",
    "    par_in_reg_list.append(party_in_region(df_vote.iloc[:,:-1], pool[1]))\n",
    "    reg_in_par_list.append(region_in_party(df_vote.iloc[:,:-1], pool[1]))"
   ]
  },
  {
   "cell_type": "code",
   "execution_count": 13,
   "metadata": {},
   "outputs": [],
   "source": [
    "for vl, i in zip(vote_list.copy(),[0,4,6,10,14,18]):    \n",
    "    par_in_reg_list[i] = vl.iloc[:,:-1]\n",
    "    reg_in_par_list[i] = vl.iloc[:,:-1]"
   ]
  },
  {
   "cell_type": "markdown",
   "metadata": {},
   "source": [
    "## Prepare input (X) (parameters which we will multiply)\n",
    "Input - wagi, <br>\n",
    "na outpucie mnożenie wag razy wartości i na tej podstawie ocena.\n",
    "- poprzednie wybory (par in reg/ reg in par)\n",
    "- wpływ sąsiadów (avg over nighbours/ weighted avg)\n",
    "- pole zewnętrzne "
   ]
  },
  {
   "cell_type": "code",
   "execution_count": 14,
   "metadata": {},
   "outputs": [],
   "source": [
    "pool_d = par_in_reg_list if (True) else reg_in_par_list "
   ]
  },
  {
   "cell_type": "code",
   "execution_count": 15,
   "metadata": {},
   "outputs": [],
   "source": [
    "X = []\n",
    "# iterate over years [from 2002 - 2019]\n",
    "for y in range(pool_data_middle.shape[0]-1):\n",
    "    # iterate over districts\n",
    "    tmp_x = []\n",
    "    for d in range(vote_list[0].shape[0]):\n",
    "        # 1. last election: Blue, Red, Gray\n",
    "        #    Blue/All\n",
    "        # 2. neighbours\n",
    "        # 3. one (1)\n",
    "        lo = pool_d[y].iloc[d,:]\n",
    "        neigh = neighbours[lo.name.lower()]\n",
    "        avg_n = [pool_d[y].loc[n.upper()][0]/pool_d[y].loc[n.upper()].sum() for n in neigh]\n",
    "        avg_n = sum(avg_n)/len(neigh)\n",
    "        tmp_x.append([lo[0]/lo.sum(), avg_n, 1])\n",
    "    X.append(tmp_x)"
   ]
  },
  {
   "cell_type": "code",
   "execution_count": 16,
   "metadata": {},
   "outputs": [
    {
     "data": {
      "text/plain": [
       "(18, 16, 3)"
      ]
     },
     "execution_count": 16,
     "metadata": {},
     "output_type": "execute_result"
    }
   ],
   "source": [
    "X = np.array(X)\n",
    "X.shape"
   ]
  },
  {
   "cell_type": "markdown",
   "metadata": {},
   "source": [
    "## Prepare Y"
   ]
  },
  {
   "cell_type": "code",
   "execution_count": 17,
   "metadata": {},
   "outputs": [],
   "source": [
    "Y = []\n",
    "for y in range(1,pool_data_middle.shape[0]):\n",
    "    # iterate over districts\n",
    "    tmp_y = []\n",
    "    for d in range(vote_list[0].shape[0]):\n",
    "        # 1. last election: Blue, Red, Gray\n",
    "        #    Blue/All\n",
    "        # 2. neighbours\n",
    "        # 3. one (1)\n",
    "        lo = pool_d[y].iloc[d,:]\n",
    "        tmp_y.append([lo[0]/lo.sum()])\n",
    "    Y.append(tmp_y)"
   ]
  },
  {
   "cell_type": "code",
   "execution_count": 18,
   "metadata": {},
   "outputs": [
    {
     "data": {
      "text/plain": [
       "(18, 16, 1)"
      ]
     },
     "execution_count": 18,
     "metadata": {},
     "output_type": "execute_result"
    }
   ],
   "source": [
    "Y = np.array(Y)\n",
    "Y.shape"
   ]
  },
  {
   "cell_type": "markdown",
   "metadata": {},
   "source": [
    "## Parameters to be estimated\n",
    "- waga poprzednie wybory\n",
    "- waga wpływu sąsiadów (avg over nighbours/ weighted avg)\n",
    "- pole zewnętrzne "
   ]
  },
  {
   "cell_type": "markdown",
   "metadata": {},
   "source": [
    "## Process\n",
    "- input,\n",
    "- warstwy,\n",
    "- output (parametry lub wagi),\n",
    "- output\\*parameters (the real output - wynik wyborów)\n",
    "\n",
    "**OR**\n",
    "- input (parameters),\n",
    "- simple network to get the weight = parameters to multiply,\n",
    "- output (next election)"
   ]
  },
  {
   "cell_type": "markdown",
   "metadata": {},
   "source": [
    "## Training phase (looking for parameters)"
   ]
  },
  {
   "cell_type": "markdown",
   "metadata": {},
   "source": [
    "Functions for models"
   ]
  },
  {
   "cell_type": "code",
   "execution_count": 19,
   "metadata": {},
   "outputs": [
    {
     "data": {
      "text/plain": [
       "(18, 16, 3)"
      ]
     },
     "execution_count": 19,
     "metadata": {},
     "output_type": "execute_result"
    }
   ],
   "source": [
    "X.shape"
   ]
  },
  {
   "cell_type": "markdown",
   "metadata": {},
   "source": [
    "### Models with percentage of Blue support per district"
   ]
  },
  {
   "cell_type": "code",
   "execution_count": 20,
   "metadata": {},
   "outputs": [],
   "source": [
    "def model_percent(a,x):\n",
    "    '''\n",
    "    INPUT:\n",
    "    a - vector of weights 16x3\n",
    "    x - vector of input data 18x16x3\n",
    "    OUTPUT:\n",
    "    y - predicted value in (0,1)\n",
    "    '''\n",
    "    d0 = x.shape[0] if (len(x.shape) == 3) else 1\n",
    "    \n",
    "    a = np.repeat(a, d0, 0)\n",
    "    x = x.reshape(-1, 3)\n",
    "    #return 1 / (1+np.exp(-np.sum(x.dot(a.T))))\n",
    "    y = 1 / (1+np.exp(-np.sum(x*a, 1, keepdims=True)))\n",
    "    return y\n",
    "\n",
    "def grad_percent(a,x):\n",
    "    '''\n",
    "    INPUT:\n",
    "    a - vector of weights 16x3\n",
    "    x - vector of input data 18x16x3\n",
    "    '''\n",
    "    #return a * np.exp(-x.T.dot(a)) / (1+np.exp(-x.T.dot(a)))**2\n",
    "    #return a*np.exp(-np.sum(x*a,1,keepdims=True)) / (1+np.exp(-np.sum(x*a,1,keepdims=True)))**2\n",
    "    d0 = x.shape[0] if (len(x.shape) == 3) else 1\n",
    "    \n",
    "    a = np.repeat(a, d0, 0)\n",
    "    x = x.reshape(-1, 3)\n",
    "    y = a*np.exp(-np.sum(x.dot(a.T),1,keepdims=True)) / (1+np.exp(-np.sum(x.dot(a.T),1,keepdims=True)))**2\n",
    "    return y"
   ]
  },
  {
   "cell_type": "markdown",
   "metadata": {},
   "source": [
    "## Setup random a"
   ]
  },
  {
   "cell_type": "code",
   "execution_count": 89,
   "metadata": {},
   "outputs": [],
   "source": [
    "loss_p = np.inf\n",
    "loss_v = np.inf\n",
    "\n",
    "a_avg = np.random.rand(X.shape[1],X.shape[2])\n",
    "a_all = a_avg\n",
    "a_nxt = a_avg\n",
    "a_wgth = a_avg\n",
    "a_tmp = a_avg\n",
    "\n",
    "step = 0.1\n",
    "beta = 0.01"
   ]
  },
  {
   "cell_type": "markdown",
   "metadata": {},
   "source": [
    "## All at once"
   ]
  },
  {
   "cell_type": "code",
   "execution_count": 90,
   "metadata": {},
   "outputs": [
    {
     "name": "stdout",
     "output_type": "stream",
     "text": [
      "loss sum: 25.51423988359086\n",
      "loss sum: 25.51423988359086\n",
      "loss sum: 25.51423988359086\n",
      "loss sum: 25.51423988359086\n",
      "loss sum: 25.51423988359086\n",
      "loss sum: 25.51423988359086\n",
      "loss sum: 25.51423988359086\n",
      "loss sum: 25.51423988359086\n",
      "loss sum: 25.51423988359086\n",
      "loss sum: 25.51423988359086\n"
     ]
    },
    {
     "data": {
      "text/plain": [
       "(16, 3)"
      ]
     },
     "execution_count": 90,
     "metadata": {},
     "output_type": "execute_result"
    }
   ],
   "source": [
    "for epoch in range(10**4):\n",
    "    grad = grad_percent(a_avg,X).reshape(18,16,3)\n",
    "    grad = np.sum(grad, axis=0)\n",
    "    a_avg = a_avg - step*grad\n",
    "    \n",
    "    #if epoch%50==0: \n",
    "    #    if np.sum((model_percent(ap,X) - Y.reshape(-1,1))**2) < loss_p: step *= (1+beta)\n",
    "    #    else: step /= (1-beta)\n",
    "\n",
    "    loss_p = np.sum((model_percent(a_avg,X) - Y.reshape(-1,1))**2)\n",
    "\n",
    "    if epoch%1000==0: \n",
    "        print('loss sum:',loss_p)\n",
    "a_avg.shape"
   ]
  },
  {
   "cell_type": "markdown",
   "metadata": {},
   "source": [
    "## Shuffle years and on at once"
   ]
  },
  {
   "cell_type": "code",
   "execution_count": 91,
   "metadata": {},
   "outputs": [
    {
     "name": "stdout",
     "output_type": "stream",
     "text": [
      "loss sum: 25.847789515612874\n",
      "loss sum: 24.375467818445124\n",
      "loss sum: 20.935874990248852\n",
      "loss sum: 18.30196959880218\n",
      "loss sum: 18.301969598802184\n",
      "loss sum: 18.301969598802184\n",
      "loss sum: 18.301969598802184\n",
      "loss sum: 18.301969598802188\n",
      "loss sum: 18.301969598802188\n",
      "loss sum: 18.301969598802188\n"
     ]
    },
    {
     "data": {
      "text/plain": [
       "(16, 3)"
      ]
     },
     "execution_count": 91,
     "metadata": {},
     "output_type": "execute_result"
    }
   ],
   "source": [
    "for epoch in range(10**4):\n",
    "    shuffle_i = np.arange(X.shape[0])\n",
    "    np.random.shuffle(shuffle_i)\n",
    "    loss_p = 0\n",
    "    for i in shuffle_i:\n",
    "        grad = grad_percent(a_all,X[i])#.reshape(18,16,3)\n",
    "        #grad = np.sum(grad, axis=0)\n",
    "        a_all = a_all - step*grad\n",
    "\n",
    "        #if epoch%50==0: \n",
    "        #    if np.sum((model_percent(ap,X) - Y.reshape(-1,1))**2) < loss_p: step *= (1+beta)\n",
    "        #    else: step /= (1-beta)\n",
    "\n",
    "        loss_p += np.sum((model_percent(a_all,X[i]) - Y[i].reshape(-1,1))**2)\n",
    "\n",
    "    if epoch%1000==0: \n",
    "        print('loss sum:',loss_p)\n",
    "a_all.shape"
   ]
  },
  {
   "cell_type": "markdown",
   "metadata": {},
   "source": [
    "### Setup for testing model"
   ]
  },
  {
   "cell_type": "code",
   "execution_count": 92,
   "metadata": {},
   "outputs": [],
   "source": [
    "neigh_ndx = []\n",
    "for d in range(X.shape[1]):\n",
    "    # 1. last election: Blue, Red, Gray\n",
    "    #    Blue/All\n",
    "    # 2. neighbours\n",
    "    # 3. one (1)\n",
    "    lo = par_in_reg_list[0].iloc[d,:]        \n",
    "    neigh = neighbours[lo.name.lower()]\n",
    "    indexs = par_in_reg_list[0].index.values\n",
    "    neigh_ndx.append(np.searchsorted(indexs, np.char.upper(neigh)))"
   ]
  },
  {
   "cell_type": "code",
   "execution_count": 93,
   "metadata": {},
   "outputs": [],
   "source": [
    "def prepare_input(y):\n",
    "    tmp_x = np.zeros((y.shape[0],3))\n",
    "    for d in range(y.shape[0]):\n",
    "        neigh = neigh_ndx[d]\n",
    "        avg_n = [y[n,0]/np.sum(y[neigh,0]) for n in neigh]\n",
    "        avg_n = sum(avg_n)/len(neigh)\n",
    "        tmp_x[d] = np.array([y[d,0], avg_n, 1])\n",
    "    return(tmp_x)"
   ]
  },
  {
   "cell_type": "code",
   "execution_count": 94,
   "metadata": {},
   "outputs": [],
   "source": [
    "def model(a,x,Y):\n",
    "    y = Y[0]\n",
    "    loss = []\n",
    "    out = np.zeros(Y.shape)\n",
    "    out[0] = y\n",
    "    for year in range(1,X.shape[0]):\n",
    "        xi = prepare_input(y)\n",
    "        y = model_percent(a,xi)\n",
    "        loss.append(np.sum((y - Y[year])**2))\n",
    "        #print(y.shape,'loss:', np.sum((y - Y[year])**2))\n",
    "        out[year] = y\n",
    "    return loss, out"
   ]
  },
  {
   "cell_type": "markdown",
   "metadata": {},
   "source": [
    "## Use output -> next input (grad each step)"
   ]
  },
  {
   "cell_type": "code",
   "execution_count": null,
   "metadata": {},
   "outputs": [],
   "source": [
    "a_step = a_tmp"
   ]
  },
  {
   "cell_type": "code",
   "execution_count": 97,
   "metadata": {},
   "outputs": [
    {
     "name": "stdout",
     "output_type": "stream",
     "text": [
      "loss sum: 27.838133006106773\n",
      "loss sum: 27.571011333248542\n",
      "loss sum: 27.24678313547218\n",
      "loss sum: 26.83228223633942\n",
      "loss sum: 26.251518608955063\n",
      "loss sum: 25.245323696853994\n",
      "loss sum: 18.301969598802184\n",
      "loss sum: 18.301969598802184\n",
      "loss sum: 18.301969598802184\n",
      "loss sum: 18.301969598802184\n"
     ]
    },
    {
     "data": {
      "text/plain": [
       "(16, 3)"
      ]
     },
     "execution_count": 97,
     "metadata": {},
     "output_type": "execute_result"
    }
   ],
   "source": [
    "for epoch in range(10**4):\n",
    "    loss_p = 0\n",
    "    y = Y[0]\n",
    "    for i in range(X.shape[0]):\n",
    "        xi = prepare_input(y)\n",
    "        y = model_percent(a_step,xi)\n",
    "\n",
    "        grad = grad_percent(a_step,xi)#.reshape(18,16,3)\n",
    "        #grad = np.sum(grad, axis=0)\n",
    "        a_step = a_step - step*grad\n",
    "\n",
    "        loss_p += np.sum((model_percent(a_step,xi) - Y[i].reshape(-1,1))**2)\n",
    "\n",
    "    if epoch%1000==0: \n",
    "        print('loss sum:',loss_p)\n",
    "a_step.shape"
   ]
  },
  {
   "cell_type": "markdown",
   "metadata": {},
   "source": [
    "## Use output -> next input (grad each epoch)"
   ]
  },
  {
   "cell_type": "code",
   "execution_count": 100,
   "metadata": {},
   "outputs": [
    {
     "name": "stdout",
     "output_type": "stream",
     "text": [
      "loss sum: 18.391271418819642\n"
     ]
    },
    {
     "data": {
      "text/plain": [
       "(16, 3)"
      ]
     },
     "execution_count": 100,
     "metadata": {},
     "output_type": "execute_result"
    }
   ],
   "source": [
    "# https://towardsdatascience.com/introduction-to-evolution-strategy-1b78b9d48385\n",
    "loss_l = np.inf\n",
    "for epoch in range(10**4):\n",
    "    loss_p = 0\n",
    "    y = Y[0]\n",
    "    grad = np.zeros(X[0].shape)\n",
    "    \n",
    "    for i in range(1,X.shape[0]):\n",
    "        xi = prepare_input(y)\n",
    "        y = model_percent(a_nxt,xi)\n",
    "        grad += grad_percent(a_nxt,xi)\n",
    "        loss_p += np.sum((model_percent(a_nxt,xi) - Y[i].reshape(-1,1))**2)\n",
    "    \n",
    "    grad = np.sum(grad, axis=0)\n",
    "    a_nxt = a_nxt - step*grad\n",
    "    \n",
    "    if loss_p*0.9 > loss_l: break\n",
    "    loss_l = loss_p\n",
    "    \n",
    "    if epoch%1000==0: print('loss sum:',loss_p)\n",
    "a_nxt.shape"
   ]
  },
  {
   "cell_type": "markdown",
   "metadata": {},
   "source": [
    "## Use output -> next input (grad each epoch) + weights(linear weight)"
   ]
  },
  {
   "cell_type": "code",
   "execution_count": 102,
   "metadata": {},
   "outputs": [
    {
     "name": "stdout",
     "output_type": "stream",
     "text": [
      "loss sum: 27.19064261246332\n",
      "loss sum: 27.000804821676574\n",
      "loss sum: 26.78386980797403\n",
      "loss sum: 26.53054273182392\n",
      "loss sum: 26.22565842311158\n",
      "loss sum: 25.841823790921914\n",
      "loss sum: 25.32102418132334\n",
      "loss sum: 24.49843341736446\n",
      "loss sum: 22.2043212655128\n",
      "loss sum: 18.311047095390936\n"
     ]
    },
    {
     "data": {
      "text/plain": [
       "(16, 3)"
      ]
     },
     "execution_count": 102,
     "metadata": {},
     "output_type": "execute_result"
    }
   ],
   "source": [
    "# https://towardsdatascience.com/introduction-to-evolution-strategy-1b78b9d48385\n",
    "loss_l = np.inf\n",
    "for epoch in range(10**3):\n",
    "    loss_p = 0\n",
    "    y = Y[0]\n",
    "    grad = np.zeros(X[0].shape)\n",
    "    \n",
    "    for i in range(1,X.shape[0]):\n",
    "        xi = prepare_input(y)\n",
    "        y = model_percent(a_wgth,xi)\n",
    "        grad += grad_percent(a_wgth,xi)*(i+1)/X.shape[0]\n",
    "        loss_p += np.sum((model_percent(a_wgth,xi) - Y[i].reshape(-1,1))**2)\n",
    "    \n",
    "    grad = np.sum(grad, axis=0)\n",
    "    a_wgth = a_wgth - step*grad\n",
    "    \n",
    "    if loss_p*0.9 > loss_l: break\n",
    "    loss_l = loss_p\n",
    "    \n",
    "    if epoch%100==0: \n",
    "        print('loss sum:',loss_p)\n",
    "a_nxt.shape"
   ]
  },
  {
   "cell_type": "code",
   "execution_count": 116,
   "metadata": {},
   "outputs": [
    {
     "data": {
      "image/png": "[encoded data removed]",
      "text/plain": [
       "<Figure size 432x288 with 1 Axes>"
      ]
     },
     "metadata": {
      "needs_background": "light"
     },
     "output_type": "display_data"
    }
   ],
   "source": [
    "l_avg, o_avg = model(a_avg,X,Y)\n",
    "l_all, o_all = model(a_all,X,Y)\n",
    "l_step, o_step = model(a_step,X,Y)\n",
    "l_nxt, o_nxt = model(a_nxt,X,Y)\n",
    "l_wgth, o_wgth = model(a_wgth,X,Y)\n",
    "\n",
    "plt.plot(l_avg,'m-*')\n",
    "plt.plot(l_all,'c-o') # =='średnia po każdum kroku'\n",
    "plt.plot(l_step,'k-') # =='średnia po każdum kroku'\n",
    "plt.plot(l_nxt,'y:*')\n",
    "plt.plot(l_wgth,'r-s')\n",
    "\n",
    "#plt.plot([0,16],[np.mean(l_avg),np.mean(l_avg)],'m--')\n",
    "#plt.plot([0,16],[np.mean(l_all),np.mean(l_all)],'c--')\n",
    "#plt.plot([0,16],[np.mean(o_step),np.mean(o_step)],'k--')\n",
    "#plt.plot([0,16],[np.mean(l_nxt),np.mean(l_nxt)],'y--')\n",
    "#plt.plot([0,16],[np.mean(l_wgth),np.mean(l_wgth)],'r--')\n",
    "\n",
    "plt.legend(['średnia po gradientach', \n",
    "            'każdy rok oddzielnie', \n",
    "            'średnia po każdym kroku',\n",
    "            'średnia po każdej epoce', \n",
    "            'linowe wagi'\n",
    "            #,'log wagi'\n",
    "           ])\n",
    "plt.show()"
   ]
  },
  {
   "cell_type": "code",
   "execution_count": 59,
   "metadata": {},
   "outputs": [
    {
     "data": {
      "text/plain": [
       "(0.0, 1.0)"
      ]
     },
     "execution_count": 59,
     "metadata": {},
     "output_type": "execute_result"
    },
    {
     "data": {
      "image/png": "[encoded data removed]",
      "text/plain": [
       "<Figure size 432x288 with 1 Axes>"
      ]
     },
     "metadata": {
      "needs_background": "light"
     },
     "output_type": "display_data"
    }
   ],
   "source": [
    "plt.plot(o_avg.mean(1), '-.')\n",
    "plt.plot(o_all.mean(1), '-.')\n",
    "plt.ylim(0,1)"
   ]
  },
  {
   "cell_type": "markdown",
   "metadata": {},
   "source": [
    "## Recurrent Neural Networks (RNN) and Long Short-Term Memory (LSTM)\n",
    "https://stackabuse.com/time-series-prediction-using-lstm-with-pytorch-in-python/ <br>\n",
    "http://proceedings.mlr.press/v57/zhao16.pdf <br>\n",
    "https://towardsdatascience.com/time-series-forecasting-with-recurrent-neural-networks-74674e289816 <br>\n",
    "https://developer.apple.com/documentation/coreml/core_ml_api/making_predictions_with_a_sequence_of_inputs <br>\n",
    "https://www.youtube.com/watch?v=WCUNPb-5EYI"
   ]
  },
  {
   "cell_type": "code",
   "execution_count": null,
   "metadata": {},
   "outputs": [],
   "source": []
  }
 ],
 "metadata": {
  "kernelspec": {
   "display_name": "Python 3",
   "language": "python",
   "name": "python3"
  },
  "language_info": {
   "codemirror_mode": {
    "name": "ipython",
    "version": 3
   },
   "file_extension": ".py",
   "mimetype": "text/x-python",
   "name": "python",
   "nbconvert_exporter": "python",
   "pygments_lexer": "ipython3",
   "version": "3.8.5"
  }
 },
 "nbformat": 4,
 "nbformat_minor": 2
}
