{
 "cells": [
  {
   "cell_type": "code",
   "execution_count": 193,
   "metadata": {},
   "outputs": [],
   "source": [
    "import numpy as np\n",
    "import pandas as pd\n",
    "import torch\n",
    "import torch.nn as nn\n",
    "import torch.nn.functional as F\n",
    "import os\n",
    "from poll_data import party_in_region, region_in_party\n",
    "import pickle\n",
    "import matplotlib.pyplot as plt\n",
    "#https://pytorch.org/tutorials/beginner/blitz/neural_networks_tutorial.html"
   ]
  },
  {
   "cell_type": "markdown",
   "metadata": {},
   "source": [
    "## Stat data"
   ]
  },
  {
   "cell_type": "code",
   "execution_count": 194,
   "metadata": {},
   "outputs": [],
   "source": [
    "path = 'dane_years/'\n",
    "files = list(filter(lambda x: os.path.isfile(path+x), os.listdir(path)))\n",
    "files.sort()"
   ]
  },
  {
   "cell_type": "code",
   "execution_count": 195,
   "metadata": {},
   "outputs": [],
   "source": [
    "stat_list = [(lambda x: pd.read_csv(path+x,index_col=0, header=0))(f) for f in files]"
   ]
  },
  {
   "cell_type": "code",
   "execution_count": 196,
   "metadata": {},
   "outputs": [
    {
     "data": {
      "text/plain": [
       "Index(['bezrobocie_zarejsestrowane_gminy', 'ludnosc_na_1km2',\n",
       "       'dochody_na_mieszkanca', 'wyksztalcenie_wyzsze',\n",
       "       'udzial_wiek_przedprodukcyjny', 'udzial_wiek_produkcyjny',\n",
       "       'udzial_wiek_poprodukcyjny', 'socjal_500plus', 'przestepstwa_ogolem'],\n",
       "      dtype='object')"
      ]
     },
     "execution_count": 196,
     "metadata": {},
     "output_type": "execute_result"
    }
   ],
   "source": [
    "stat_list[0].columns[stat_list[0].isna().sum(0) > 0]"
   ]
  },
  {
   "cell_type": "code",
   "execution_count": 211,
   "metadata": {},
   "outputs": [],
   "source": [
    "col_not_na0 = stat_list[0].columns[stat_list[0].isna().sum(0) == 0]\n",
    "col_not_na17 = stat_list[0].columns[stat_list[17].isna().sum(0) == 0]"
   ]
  },
  {
   "cell_type": "code",
   "execution_count": 218,
   "metadata": {},
   "outputs": [],
   "source": [
    "for st in range(len(stat_list)):\n",
    "    stat_list[st] = stat_list[st][col_not_na0]\n",
    "    # min max normalization\n",
    "    stat_list[st] = (stat_list[st]-stat_list[st].min(0)) /(stat_list[st].max(0)-stat_list[st].min(0))"
   ]
  },
  {
   "cell_type": "markdown",
   "metadata": {},
   "source": [
    "## Poll data"
   ]
  },
  {
   "cell_type": "code",
   "execution_count": 223,
   "metadata": {},
   "outputs": [
    {
     "data": {
      "image/png": "[encoded data removed]",
      "text/plain": [
       "<Figure size 432x288 with 1 Axes>"
      ]
     },
     "metadata": {
      "needs_background": "light"
     },
     "output_type": "display_data"
    }
   ],
   "source": [
    "#pool_data = pd.read_csv('dane_years/pools_edited.csv', index_col=0)\n",
    "pool_data_middle = pd.read_csv('dane_years/pools_data/no_votes.csv', index_col=0).iloc[:,:-1]\n",
    "pool_data_middle = pool_data_middle.divide(pool_data_middle.sum(1),0)\n",
    "pool_data_middle.plot(color=['b','r'])\n",
    "means = pool_data_middle.mean(0)\n",
    "plt.plot([2001,2019],[means[0],means[0]],'c--')\n",
    "plt.plot([2001,2019],[means[1],means[1]],'m--')\n",
    "plt.show()"
   ]
  },
  {
   "cell_type": "markdown",
   "metadata": {},
   "source": [
    "## Voting data"
   ]
  },
  {
   "cell_type": "code",
   "execution_count": 224,
   "metadata": {},
   "outputs": [
    {
     "data": {
      "text/plain": [
       "['2001_WS.csv',\n",
       " '2005_WS.csv',\n",
       " '2007_WS.csv',\n",
       " '2011_WS.csv',\n",
       " '2015_WS.csv',\n",
       " '2019_WS.csv']"
      ]
     },
     "execution_count": 224,
     "metadata": {},
     "output_type": "execute_result"
    }
   ],
   "source": [
    "path = 'wyniki_wyborow/Simple/'\n",
    "files = list(filter(lambda x: os.path.isfile(path+x), os.listdir(path)))\n",
    "files.sort()\n",
    "files"
   ]
  },
  {
   "cell_type": "code",
   "execution_count": 225,
   "metadata": {},
   "outputs": [],
   "source": [
    "vote_list = [(lambda x: pd.read_csv(path+x,index_col=0, header=0))(f) for f in files[:]]\n",
    "vote_list[0] = vote_list[0].iloc[1:,:]"
   ]
  },
  {
   "cell_type": "code",
   "execution_count": 226,
   "metadata": {},
   "outputs": [],
   "source": [
    "vote_list[0]['jednostka'] = [j.upper() for j in vote_list[0]['jednostka']]\n",
    "vote_list[0] = vote_list[0].sort_values(['jednostka'])\n",
    "vote_list[0].columns = ['województwo'] + vote_list[0].columns.values.tolist()[1:] "
   ]
  },
  {
   "cell_type": "code",
   "execution_count": 227,
   "metadata": {},
   "outputs": [],
   "source": [
    "vote_list[0] = vote_list[0].set_index('województwo')"
   ]
  },
  {
   "cell_type": "markdown",
   "metadata": {},
   "source": [
    "## Neighbours"
   ]
  },
  {
   "cell_type": "code",
   "execution_count": 228,
   "metadata": {},
   "outputs": [],
   "source": [
    "with open('wojew_neighbours.pkl', 'rb') as f:\n",
    "    neighbours = pickle.load(f)"
   ]
  },
  {
   "cell_type": "markdown",
   "metadata": {},
   "source": [
    "## Use 2 approaches to estimate date from years without elections"
   ]
  },
  {
   "cell_type": "code",
   "execution_count": 229,
   "metadata": {},
   "outputs": [],
   "source": [
    "#party_in_region(df_vote, df_poll)\n",
    "par_in_reg_list = [vote_list[0].iloc[:,:-1]]\n",
    "#region_in_party(df_vote, df_poll)\n",
    "reg_in_par_list = [vote_list[0].iloc[:,:-1]]\n",
    "for pool in pool_data_middle[1:].iterrows():\n",
    "    if int(pool[0]) < 2005: df_vote = vote_list[0]\n",
    "    elif int(pool[0]) < 2007: df_vote = vote_list[1]\n",
    "    elif int(pool[0]) < 2011: df_vote = vote_list[2]\n",
    "    elif int(pool[0]) < 2015: df_vote = vote_list[3]\n",
    "    elif int(pool[0]) < 2019: df_vote = vote_list[4]\n",
    "    else: df_vote = vote_list[5]\n",
    "    \n",
    "    par_in_reg_list.append(party_in_region(df_vote.iloc[:,:-1], pool[1]))\n",
    "    reg_in_par_list.append(region_in_party(df_vote.iloc[:,:-1], pool[1]))"
   ]
  },
  {
   "cell_type": "code",
   "execution_count": 230,
   "metadata": {},
   "outputs": [],
   "source": [
    "for vl, i in zip(vote_list.copy(),[0,4,6,10,14,18]):    \n",
    "    par_in_reg_list[i] = vl.iloc[:,:-1]\n",
    "    reg_in_par_list[i] = vl.iloc[:,:-1]"
   ]
  },
  {
   "cell_type": "markdown",
   "metadata": {},
   "source": [
    "## Prepare input (X) (parameters which we will multiply)\n",
    "Input - wagi, <br>\n",
    "na outpucie mnożenie wag razy wartości i na tej podstawie ocena.\n",
    "- poprzednie wybory (par in reg/ reg in par)\n",
    "- wpływ sąsiadów (avg over nighbours/ weighted avg)\n",
    "- pole zewnętrzne "
   ]
  },
  {
   "cell_type": "code",
   "execution_count": 231,
   "metadata": {},
   "outputs": [],
   "source": [
    "pool_d = par_in_reg_list if (True) else reg_in_par_list "
   ]
  },
  {
   "cell_type": "code",
   "execution_count": 235,
   "metadata": {},
   "outputs": [],
   "source": [
    "X = []\n",
    "# iterate over years [from 2002 - 2019]\n",
    "for y in range(len(stat_list)):\n",
    "    # iterate over districts\n",
    "    tmp_x = []\n",
    "    st_data = stat_list[y]\n",
    "    for d in range(vote_list[0].shape[0]):\n",
    "        # 1. last election: Blue, Red\n",
    "        #    Blue/All\n",
    "        # 2. neighbours\n",
    "        # 3. one (1)\n",
    "        lo = pool_d[y].iloc[d,:]\n",
    "        neigh = neighbours[lo.name.lower()]\n",
    "        avg_n = [pool_d[y].loc[n.upper()][0]/pool_d[y].loc[n.upper()].sum() for n in neigh]\n",
    "        avg_n = sum(avg_n)/len(neigh)\n",
    "        \n",
    "        tmp_y = st_data.iloc[d,:].values.tolist()\n",
    "        tmp_y.append(lo[0]/lo.sum())\n",
    "        tmp_y.append(avg_n)\n",
    "                \n",
    "        tmp_x.append(tmp_y)\n",
    "    X.append(tmp_x)"
   ]
  },
  {
   "cell_type": "code",
   "execution_count": 237,
   "metadata": {},
   "outputs": [
    {
     "data": {
      "text/plain": [
       "(18, 16, 13)"
      ]
     },
     "execution_count": 237,
     "metadata": {},
     "output_type": "execute_result"
    }
   ],
   "source": [
    "X = np.array(X)\n",
    "X.shape"
   ]
  },
  {
   "cell_type": "markdown",
   "metadata": {},
   "source": [
    "## Prepare Y"
   ]
  },
  {
   "cell_type": "code",
   "execution_count": 241,
   "metadata": {},
   "outputs": [],
   "source": [
    "Y = []\n",
    "for y in range(1,pool_data_middle.shape[0]):\n",
    "    # iterate over districts\n",
    "    tmp_y = []\n",
    "    for d in range(vote_list[0].shape[0]):\n",
    "        # 1. last election: Blue, Red, Gray\n",
    "        #    Blue/All\n",
    "        # 2. neighbours\n",
    "        # 3. one (1)\n",
    "        lo = pool_d[y].iloc[d,:]\n",
    "        tmp_y.append([lo[0]/lo.sum()])\n",
    "    Y.append(tmp_y)"
   ]
  },
  {
   "cell_type": "code",
   "execution_count": 242,
   "metadata": {},
   "outputs": [
    {
     "data": {
      "text/plain": [
       "(18, 16, 1)"
      ]
     },
     "execution_count": 242,
     "metadata": {},
     "output_type": "execute_result"
    }
   ],
   "source": [
    "Y = np.array(Y)\n",
    "Y.shape"
   ]
  },
  {
   "cell_type": "markdown",
   "metadata": {},
   "source": [
    "## Parameters to be estimated\n",
    "- waga poprzednie wybory\n",
    "- waga wpływu sąsiadów (avg over nighbours/ weighted avg)\n",
    "- pole zewnętrzne "
   ]
  },
  {
   "cell_type": "markdown",
   "metadata": {},
   "source": [
    "## Process\n",
    "- input,\n",
    "- warstwy,\n",
    "- output (parametry lub wagi),\n",
    "- output\\*parameters (the real output - wynik wyborów)\n",
    "\n",
    "**OR**\n",
    "- input (parameters),\n",
    "- simple network to get the weight = parameters to multiply,\n",
    "- output (next election)"
   ]
  },
  {
   "cell_type": "markdown",
   "metadata": {},
   "source": [
    "## Training phase (looking for parameters)"
   ]
  },
  {
   "cell_type": "markdown",
   "metadata": {},
   "source": [
    "Functions for models"
   ]
  },
  {
   "cell_type": "code",
   "execution_count": 243,
   "metadata": {},
   "outputs": [
    {
     "data": {
      "text/plain": [
       "(18, 16, 13)"
      ]
     },
     "execution_count": 243,
     "metadata": {},
     "output_type": "execute_result"
    }
   ],
   "source": [
    "X.shape"
   ]
  },
  {
   "cell_type": "markdown",
   "metadata": {},
   "source": [
    "### Models with percentage of Blue support per district"
   ]
  },
  {
   "cell_type": "code",
   "execution_count": 244,
   "metadata": {},
   "outputs": [],
   "source": [
    "def model_percent(a,x):\n",
    "    '''\n",
    "    INPUT:\n",
    "    a - vector of weights 16x14\n",
    "    x - vector of input data 18x16x14\n",
    "    OUTPUT:\n",
    "    y - predicted value in (0,1)\n",
    "    '''\n",
    "    d0 = x.shape[0] if (len(x.shape) == 3) else 1\n",
    "    d1 = x.shape[-1] \n",
    "    \n",
    "    a = np.repeat(a, d0, 0)\n",
    "    x = x.reshape(-1, d1)\n",
    "    #return 1 / (1+np.exp(-np.sum(x.dot(a.T))))\n",
    "    y = 1 / (1+np.exp(-np.sum(x*a, 1, keepdims=True)))\n",
    "    return y\n",
    "\n",
    "def grad_percent(a,x):\n",
    "    '''\n",
    "    INPUT:\n",
    "    a - vector of weights 16x14\n",
    "    x - vector of input data 18x16x14\n",
    "    '''\n",
    "    #return a * np.exp(-x.T.dot(a)) / (1+np.exp(-x.T.dot(a)))**2\n",
    "    #return a*np.exp(-np.sum(x*a,1,keepdims=True)) / (1+np.exp(-np.sum(x*a,1,keepdims=True)))**2\n",
    "    d0 = x.shape[0] if (len(x.shape) == 3) else 1\n",
    "    d1 = x.shape[-1] \n",
    "    \n",
    "    a = np.repeat(a, d0, 0)\n",
    "    x = x.reshape(-1, d1)\n",
    "    y = a*np.exp(-np.sum(x.dot(a.T),1,keepdims=True)) / (1+np.exp(-np.sum(x.dot(a.T),1,keepdims=True)))**2\n",
    "    return y"
   ]
  },
  {
   "cell_type": "code",
   "execution_count": 245,
   "metadata": {},
   "outputs": [
    {
     "data": {
      "text/plain": [
       "(16, 13)"
      ]
     },
     "execution_count": 245,
     "metadata": {},
     "output_type": "execute_result"
    }
   ],
   "source": [
    "loss_p = np.inf\n",
    "loss_v = np.inf\n",
    "\n",
    "a_avg = np.random.rand(X.shape[1],X.shape[2])\n",
    "a_all = a_avg\n",
    "#av = np.random.rand(X.shape[1],X.shape[2])\n",
    "\n",
    "step = 0.001\n",
    "beta = 0.01\n",
    "a_avg.shape"
   ]
  },
  {
   "cell_type": "markdown",
   "metadata": {},
   "source": [
    "## All at once"
   ]
  },
  {
   "cell_type": "code",
   "execution_count": 249,
   "metadata": {},
   "outputs": [
    {
     "name": "stdout",
     "output_type": "stream",
     "text": [
      "loss sum: 56.154771813340496\n",
      "loss sum: 56.154771813340496\n",
      "loss sum: 56.154771813340496\n",
      "loss sum: 56.154771813340496\n",
      "loss sum: 56.154771813340496\n",
      "loss sum: 56.154771813340496\n",
      "loss sum: 56.154771813340496\n",
      "loss sum: 56.154771813340496\n",
      "loss sum: 56.154771813340496\n",
      "loss sum: 56.154771813340496\n"
     ]
    },
    {
     "data": {
      "text/plain": [
       "(16, 13)"
      ]
     },
     "execution_count": 249,
     "metadata": {},
     "output_type": "execute_result"
    }
   ],
   "source": [
    "for epoch in range(10**3):\n",
    "    grad = grad_percent(a_avg,X).reshape(X.shape[0],X.shape[1],-1)\n",
    "    grad = np.sum(grad, axis=0)\n",
    "    a_avg = a_avg - step*grad\n",
    "    \n",
    "    #if epoch%50==0: \n",
    "    #    if np.sum((model_percent(ap,X) - Y.reshape(-1,1))**2) < loss_p: step *= (1+beta)\n",
    "    #    else: step /= (1-beta)\n",
    "\n",
    "    loss_p = np.sum((model_percent(a_avg,X) - Y.reshape(-1,1))**2)\n",
    "\n",
    "    if epoch%100==0: \n",
    "        print('loss sum:',loss_p)\n",
    "a_avg.shape"
   ]
  },
  {
   "cell_type": "markdown",
   "metadata": {},
   "source": [
    "### Shuffle years and on at once"
   ]
  },
  {
   "cell_type": "code",
   "execution_count": 252,
   "metadata": {},
   "outputs": [
    {
     "name": "stdout",
     "output_type": "stream",
     "text": [
      "loss sum: 56.71547727762272\n",
      "loss sum: 56.71538329454552\n",
      "loss sum: 56.715289315093116\n",
      "loss sum: 56.715195333956615\n",
      "loss sum: 56.71510135186026\n",
      "loss sum: 56.71500737681996\n",
      "loss sum: 56.71491340601665\n",
      "loss sum: 56.714819429269035\n",
      "loss sum: 56.71472546001472\n",
      "loss sum: 56.71463149368483\n"
     ]
    },
    {
     "data": {
      "text/plain": [
       "(16, 13)"
      ]
     },
     "execution_count": 252,
     "metadata": {},
     "output_type": "execute_result"
    }
   ],
   "source": [
    "for epoch in range(10**5):\n",
    "    shuffle_i = np.arange(X.shape[0])\n",
    "    np.random.shuffle(shuffle_i)\n",
    "    loss_p = 0\n",
    "    for i in shuffle_i:\n",
    "        grad = grad_percent(a_all,X[i])#.reshape(18,16,3)\n",
    "        #grad = np.sum(grad, axis=0)\n",
    "        a_all = a_all - step*grad\n",
    "\n",
    "        #if epoch%50==0: \n",
    "        #    if np.sum((model_percent(ap,X) - Y.reshape(-1,1))**2) < loss_p: step *= (1+beta)\n",
    "        #    else: step /= (1-beta)\n",
    "\n",
    "        loss_p += np.sum((model_percent(a_all,X[i]) - Y[i].reshape(-1,1))**2)\n",
    "\n",
    "    if epoch%10000==0: \n",
    "        print('loss sum:',loss_p)\n",
    "a_all.shape"
   ]
  },
  {
   "cell_type": "markdown",
   "metadata": {},
   "source": [
    "## All at once + evolution strategies (TO DO)"
   ]
  },
  {
   "cell_type": "markdown",
   "metadata": {},
   "source": [
    "# https://towardsdatascience.com/introduction-to-evolution-strategy-1b78b9d48385\n",
    "for epoch in range(10**3):\n",
    "    grad = grad_percent(a_avg,X).reshape(18,16,3)\n",
    "    grad = np.sum(grad, axis=0)\n",
    "    a_avg = a_avg - step*grad\n",
    "    \n",
    "    #if epoch%50==0: \n",
    "    #    if np.sum((model_percent(ap,X) - Y.reshape(-1,1))**2) < loss_p: step *= (1+beta)\n",
    "    #    else: step /= (1-beta)\n",
    "\n",
    "    loss_p = np.sum((model_percent(a_avg,X) - Y.reshape(-1,1))**2)\n",
    "\n",
    "    if epoch%100==0: \n",
    "        print('loss sum:',loss_p)\n",
    "a_avg.shape"
   ]
  },
  {
   "cell_type": "markdown",
   "metadata": {},
   "source": [
    "### Setup for testing model"
   ]
  },
  {
   "cell_type": "code",
   "execution_count": 261,
   "metadata": {},
   "outputs": [],
   "source": [
    "neigh_ndx = []\n",
    "for d in range(X.shape[1]):\n",
    "    # 1. last election: Blue, Red, Gray\n",
    "    #    Blue/All\n",
    "    # 2. neighbours\n",
    "    # 3. one (1)\n",
    "    lo = par_in_reg_list[0].iloc[d,:]        \n",
    "    neigh = neighbours[lo.name.lower()]\n",
    "    indexs = par_in_reg_list[0].index.values\n",
    "    neigh_ndx.append(np.searchsorted(indexs, np.char.upper(neigh)))"
   ]
  },
  {
   "cell_type": "code",
   "execution_count": 262,
   "metadata": {},
   "outputs": [],
   "source": [
    "def prepare_input(y, st_data):\n",
    "    tmp_x = np.zeros((y.shape[0],13))\n",
    "    for d in range(y.shape[0]):\n",
    "        neigh = neigh_ndx[d]\n",
    "        avg_n = [y[n,0]/np.sum(y[neigh,0]) for n in neigh]\n",
    "        avg_n = sum(avg_n)/len(neigh)\n",
    "        \n",
    "        tmp_y = st_data.iloc[d,:].values.tolist()\n",
    "        tmp_y.append(y[d,0])\n",
    "        tmp_y.append(avg_n)\n",
    "        \n",
    "        tmp_x[d] = np.array(tmp_y)\n",
    "    return(tmp_x)"
   ]
  },
  {
   "cell_type": "code",
   "execution_count": 263,
   "metadata": {},
   "outputs": [],
   "source": [
    "def model(a,x,Y):\n",
    "    y = Y[0]\n",
    "    loss = []\n",
    "    out = np.zeros(Y.shape)\n",
    "    out[0] = y\n",
    "    for year in range(1,X.shape[0]):\n",
    "        st_data = stat_list[year-1]\n",
    "        xi = prepare_input(y,st_data)\n",
    "        y = model_percent(a,xi)\n",
    "        loss.append(np.sum((y - Y[year])**2))\n",
    "        #print(y.shape,'loss:', np.sum((y - Y[year])**2))\n",
    "        out[year] = y\n",
    "    return loss, out"
   ]
  },
  {
   "cell_type": "code",
   "execution_count": 264,
   "metadata": {},
   "outputs": [
    {
     "data": {
      "text/plain": [
       "[]"
      ]
     },
     "execution_count": 264,
     "metadata": {},
     "output_type": "execute_result"
    },
    {
     "data": {
      "image/png": "[encoded data removed]",
      "text/plain": [
       "<Figure size 432x288 with 1 Axes>"
      ]
     },
     "metadata": {
      "needs_background": "light"
     },
     "output_type": "display_data"
    }
   ],
   "source": [
    "l_avg, o = model(a_avg,X,Y)\n",
    "l_all, o = model(a_all,X,Y)\n",
    "plt.plot(l_avg,'bo')\n",
    "plt.plot(l_all,'ro')\n",
    "plt.plot()"
   ]
  },
  {
   "cell_type": "markdown",
   "metadata": {},
   "source": [
    "## Recurrent Neural Networks (RNN) and Long Short-Term Memory (LSTM)\n",
    "https://stackabuse.com/time-series-prediction-using-lstm-with-pytorch-in-python/ <br>\n",
    "http://proceedings.mlr.press/v57/zhao16.pdf <br>\n",
    "https://towardsdatascience.com/time-series-forecasting-with-recurrent-neural-networks-74674e289816 <br>\n",
    "https://developer.apple.com/documentation/coreml/core_ml_api/making_predictions_with_a_sequence_of_inputs <br>\n",
    "https://www.youtube.com/watch?v=WCUNPb-5EYI"
   ]
  },
  {
   "cell_type": "code",
   "execution_count": 56,
   "metadata": {},
   "outputs": [
    {
     "data": {
      "text/plain": [
       "0.004963590920596506"
      ]
     },
     "execution_count": 56,
     "metadata": {},
     "output_type": "execute_result"
    }
   ],
   "source": [
    "(a_avg-a_all).max()"
   ]
  },
  {
   "cell_type": "code",
   "execution_count": null,
   "metadata": {},
   "outputs": [],
   "source": []
  }
 ],
 "metadata": {
  "kernelspec": {
   "display_name": "Python 3",
   "language": "python",
   "name": "python3"
  },
  "language_info": {
   "codemirror_mode": {
    "name": "ipython",
    "version": 3
   },
   "file_extension": ".py",
   "mimetype": "text/x-python",
   "name": "python",
   "nbconvert_exporter": "python",
   "pygments_lexer": "ipython3",
   "version": "3.8.5"
  }
 },
 "nbformat": 4,
 "nbformat_minor": 2
}
