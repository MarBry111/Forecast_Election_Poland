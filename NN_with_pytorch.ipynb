{
 "cells": [
  {
   "cell_type": "code",
   "execution_count": 1,
   "metadata": {},
   "outputs": [],
   "source": [
    "import numpy as np\n",
    "import pandas as pd\n",
    "import torch\n",
    "import torch.nn as nn\n",
    "import torch.nn.functional as F\n",
    "import os\n",
    "from poll_data import party_in_region, region_in_party\n",
    "import pickle\n",
    "import matplotlib.pyplot as plt\n",
    "#https://pytorch.org/tutorials/beginner/blitz/neural_networks_tutorial.html"
   ]
  },
  {
   "cell_type": "markdown",
   "metadata": {},
   "source": [
    "## Stat data"
   ]
  },
  {
   "cell_type": "code",
   "execution_count": 2,
   "metadata": {},
   "outputs": [],
   "source": [
    "path = 'dane_years/'\n",
    "files = list(filter(lambda x: os.path.isfile(path+x), os.listdir(path)))\n",
    "files.sort()"
   ]
  },
  {
   "cell_type": "code",
   "execution_count": 3,
   "metadata": {},
   "outputs": [],
   "source": [
    "stat_list = [(lambda x: pd.read_csv(path+x,index_col=0, header=0))(f) for f in files[:-1]]"
   ]
  },
  {
   "cell_type": "code",
   "execution_count": 4,
   "metadata": {},
   "outputs": [],
   "source": [
    "for yi in range(len(stat_list)):\n",
    "    y = files[yi].split('.')[0]\n",
    "    c = stat_list[yi].columns\n",
    "    c = [y+'-'+ci for ci in c]\n",
    "    # c = [y[2:]+'-'+str(ci) for ci in range(len(c))]\n",
    "    stat_list[yi].columns = c"
   ]
  },
  {
   "cell_type": "markdown",
   "metadata": {},
   "source": [
    "## Poll data"
   ]
  },
  {
   "cell_type": "code",
   "execution_count": 5,
   "metadata": {},
   "outputs": [
    {
     "data": {
      "image/png": "[encoded data removed]",
      "text/plain": [
       "<Figure size 432x288 with 1 Axes>"
      ]
     },
     "metadata": {
      "needs_background": "light"
     },
     "output_type": "display_data"
    }
   ],
   "source": [
    "#pool_data = pd.read_csv('dane_years/pools_edited.csv', index_col=0)\n",
    "pool_data_middle = pd.read_csv('dane_years/pools_edited_middle_year_of_voting.csv', index_col=0)\n",
    "pool_data_middle.plot()\n",
    "plt.show()"
   ]
  },
  {
   "cell_type": "markdown",
   "metadata": {},
   "source": [
    "## Voting data"
   ]
  },
  {
   "cell_type": "code",
   "execution_count": 6,
   "metadata": {},
   "outputs": [
    {
     "data": {
      "text/plain": [
       "['2001_WS.csv',\n",
       " '2005_WS.csv',\n",
       " '2007_WS.csv',\n",
       " '2011_WS.csv',\n",
       " '2015_WS.csv',\n",
       " '2019_WS.csv']"
      ]
     },
     "execution_count": 6,
     "metadata": {},
     "output_type": "execute_result"
    }
   ],
   "source": [
    "path = 'wyniki_wyborow/Simple/'\n",
    "files = list(filter(lambda x: os.path.isfile(path+x), os.listdir(path)))\n",
    "files.sort()\n",
    "files"
   ]
  },
  {
   "cell_type": "code",
   "execution_count": 7,
   "metadata": {},
   "outputs": [],
   "source": [
    "vote_list = [(lambda x: pd.read_csv(path+x,index_col=0, header=0))(f) for f in files[:]]\n",
    "vote_list[0] = vote_list[0].iloc[1:,:]"
   ]
  },
  {
   "cell_type": "code",
   "execution_count": 8,
   "metadata": {},
   "outputs": [],
   "source": [
    "vote_list[0]['jednostka'] = [j.upper() for j in vote_list[0]['jednostka']]\n",
    "vote_list[0] = vote_list[0].sort_values(['jednostka'])\n",
    "vote_list[0].columns = ['województwo'] + vote_list[0].columns.values.tolist()[1:] "
   ]
  },
  {
   "cell_type": "code",
   "execution_count": 9,
   "metadata": {},
   "outputs": [],
   "source": [
    "vote_list[0] = vote_list[0].set_index('województwo')"
   ]
  },
  {
   "cell_type": "code",
   "execution_count": 10,
   "metadata": {},
   "outputs": [],
   "source": [
    "if(False):\n",
    "    for yi in range(len(vote_list)):\n",
    "        y = files[yi].split('_WS')[0]\n",
    "        c = vote_list[yi].columns\n",
    "        #c = [y+'-'+ci for ci in c]\n",
    "        # c = [y[2:]+'-'+str(ci) for ci in range(len(c))]\n",
    "        vote_list[yi].columns = c\n",
    "\n",
    "        #vote_list[yi] = vote_list[yi].div(vote_list[yi].sum(axis=1), axis=0).fillna(0)"
   ]
  },
  {
   "cell_type": "markdown",
   "metadata": {},
   "source": [
    "## Neighbours"
   ]
  },
  {
   "cell_type": "code",
   "execution_count": 11,
   "metadata": {},
   "outputs": [],
   "source": [
    "with open('wojew_neighbours.pkl', 'rb') as f:\n",
    "    neighbours = pickle.load(f)"
   ]
  },
  {
   "cell_type": "markdown",
   "metadata": {},
   "source": [
    "## Use 2 approaches to estimate date from years without elections"
   ]
  },
  {
   "cell_type": "code",
   "execution_count": 12,
   "metadata": {},
   "outputs": [],
   "source": [
    "#party_in_region(df_vote, df_poll)\n",
    "par_in_reg_list = [vote_list[0]]\n",
    "#region_in_party(df_vote, df_poll)\n",
    "reg_in_par_list = [vote_list[0]]\n",
    "for pool in pool_data_middle[1:].iterrows():\n",
    "    if int(pool[0]) < 2005: df_vote = vote_list[0]\n",
    "    elif int(pool[0]) < 2007: df_vote = vote_list[1]\n",
    "    elif int(pool[0]) < 2011: df_vote = vote_list[2]\n",
    "    elif int(pool[0]) < 2015: df_vote = vote_list[3]\n",
    "    elif int(pool[0]) < 2019: df_vote = vote_list[4]\n",
    "    else: df_vote = vote_list[5]\n",
    "                \n",
    "    par_in_reg_list.append(party_in_region(df_vote, pool[1]))\n",
    "    reg_in_par_list.append(region_in_party(df_vote, pool[1]))"
   ]
  },
  {
   "cell_type": "code",
   "execution_count": 13,
   "metadata": {},
   "outputs": [],
   "source": [
    "for vl, i in zip(vote_list.copy(),[0,4,6,10,14,18]):    \n",
    "    par_in_reg_list[i] = vl\n",
    "    reg_in_par_list[i] = vl"
   ]
  },
  {
   "cell_type": "markdown",
   "metadata": {},
   "source": [
    "## Prepare input (X) (parameters which we will multiply)\n",
    "Input - wagi, <br>\n",
    "na outpucie mnożenie wag razy wartości i na tej podstawie ocena.\n",
    "- poprzednie wybory (par in reg/ reg in par)\n",
    "- wpływ sąsiadów (avg over nighbours/ weighted avg)\n",
    "- pole zewnętrzne "
   ]
  },
  {
   "cell_type": "code",
   "execution_count": 14,
   "metadata": {},
   "outputs": [],
   "source": [
    "X = []\n",
    "# iterate over years [from 2002 - 2019]\n",
    "for y in range(pool_data_middle.shape[0]-1):\n",
    "    # iterate over districts\n",
    "    tmp_x = []\n",
    "    for d in range(vote_list[0].shape[0]):\n",
    "        # 1. last election: Blue, Red, Gray\n",
    "        #    Blue/All\n",
    "        # 2. neighbours\n",
    "        # 3. one (1)\n",
    "        lo = par_in_reg_list[y].iloc[d,:]\n",
    "        neigh = neighbours[lo.name.lower()]\n",
    "        avg_n = [par_in_reg_list[y].loc[n.upper()][0]/par_in_reg_list[y].loc[n.upper()].sum() for n in neigh]\n",
    "        avg_n = sum(avg_n)/len(neigh)\n",
    "        tmp_x.append([lo[0]/lo.sum(), avg_n, 1])\n",
    "    X.append(tmp_x)"
   ]
  },
  {
   "cell_type": "code",
   "execution_count": 15,
   "metadata": {},
   "outputs": [
    {
     "data": {
      "text/plain": [
       "(18, 16, 3)"
      ]
     },
     "execution_count": 15,
     "metadata": {},
     "output_type": "execute_result"
    }
   ],
   "source": [
    "X = np.array(X)\n",
    "X.shape"
   ]
  },
  {
   "cell_type": "markdown",
   "metadata": {},
   "source": [
    "## Prepare Y"
   ]
  },
  {
   "cell_type": "code",
   "execution_count": 16,
   "metadata": {},
   "outputs": [],
   "source": [
    "Y = []\n",
    "for y in range(1,pool_data_middle.shape[0]):\n",
    "    # iterate over districts\n",
    "    tmp_y = []\n",
    "    for d in range(vote_list[0].shape[0]):\n",
    "        # 1. last election: Blue, Red, Gray\n",
    "        #    Blue/All\n",
    "        # 2. neighbours\n",
    "        # 3. one (1)\n",
    "        lo = par_in_reg_list[y].iloc[d,:]\n",
    "        tmp_y.append([lo[0]/lo.sum()])\n",
    "    Y.append(tmp_y)"
   ]
  },
  {
   "cell_type": "code",
   "execution_count": 17,
   "metadata": {},
   "outputs": [
    {
     "data": {
      "text/plain": [
       "(18, 16, 1)"
      ]
     },
     "execution_count": 17,
     "metadata": {},
     "output_type": "execute_result"
    }
   ],
   "source": [
    "Y = np.array(Y)\n",
    "Y.shape"
   ]
  },
  {
   "cell_type": "markdown",
   "metadata": {},
   "source": [
    "## Parameters to be estimated\n",
    "- waga poprzednie wybory\n",
    "- waga wpływu sąsiadów (avg over nighbours/ weighted avg)\n",
    "- pole zewnętrzne "
   ]
  },
  {
   "cell_type": "markdown",
   "metadata": {},
   "source": [
    "## Process\n",
    "- input,\n",
    "- warstwy,\n",
    "- output (parametry lub wagi),\n",
    "- output\\*parameters (the real output - wynik wyborów)\n",
    "\n",
    "**OR**\n",
    "- input (parameters),\n",
    "- simple network to get the weight = parameters to multiply,\n",
    "- output (next election)"
   ]
  },
  {
   "cell_type": "markdown",
   "metadata": {},
   "source": [
    "## Training phase (looking for parameters)"
   ]
  },
  {
   "cell_type": "markdown",
   "metadata": {},
   "source": [
    "Functions for models"
   ]
  },
  {
   "cell_type": "code",
   "execution_count": 135,
   "metadata": {},
   "outputs": [],
   "source": [
    "def model_percent(a,x):\n",
    "    '''\n",
    "    INPUT:\n",
    "    a - vector of weights\n",
    "    x - vector of input data \n",
    "    OUTPUT:\n",
    "    y - predicted value in (0,1)\n",
    "    '''\n",
    "    #return 1 / (1+np.exp(-np.sum(x*a,1,keepdims=True)))\n",
    "    x = x.reshape(-1,3)\n",
    "    return 1 / (1+np.exp(-np.sum(x.dot(a.T))))\n",
    "\n",
    "def model_value(a,x):\n",
    "    '''\n",
    "    INPUT:\n",
    "    a - vector of weights\n",
    "    x - vector of input data\n",
    "    OUTPUT:\n",
    "    y - predicted value {-1, 1}\n",
    "    '''\n",
    "    return np.sign(x.T.dot(a))\n",
    "\n",
    "def grad_percent(a,x):\n",
    "    '''\n",
    "    INPUT:\n",
    "    a - vector of weights 18*16 x 3\n",
    "    x - vector of input data 18x16x3\n",
    "    '''\n",
    "    #return a * np.exp(-x.T.dot(a)) / (1+np.exp(-x.T.dot(a)))**2\n",
    "    #return a*np.exp(-np.sum(x*a,1,keepdims=True)) / (1+np.exp(-np.sum(x*a,1,keepdims=True)))**2\n",
    "    x = x.reshape(-1,3)\n",
    "    return a*np.exp(-np.sum(x.dot(a.T),1,keepdims=True)) / (1+np.exp(-np.sum(x.dot(a.T),1,keepdims=True)))**2\n",
    "\n",
    "def grad_value(a,x):\n",
    "    val = x.dot(a)\n",
    "    if val > 0: out = 1\n",
    "    elif val < 0: out = -1\n",
    "    else: out= 0\n",
    "        \n",
    "    return out"
   ]
  },
  {
   "cell_type": "code",
   "execution_count": 142,
   "metadata": {},
   "outputs": [
    {
     "data": {
      "text/plain": [
       "(16, 3)"
      ]
     },
     "execution_count": 142,
     "metadata": {},
     "output_type": "execute_result"
    }
   ],
   "source": [
    "loss_p = np.inf\n",
    "loss_v = np.inf\n",
    "\n",
    "ap = np.random.rand(X.shape[1],X.shape[2])\n",
    "av = np.random.rand(X.shape[1],X.shape[2])\n",
    "\n",
    "step = 0.1\n",
    "beta = 0.01\n",
    "ap.shape"
   ]
  },
  {
   "cell_type": "code",
   "execution_count": 143,
   "metadata": {},
   "outputs": [
    {
     "name": "stdout",
     "output_type": "stream",
     "text": [
      "93.50505554651397 2.5675309454731577e-81 (16, 3)\n",
      "93.50505554651397 2.5675309454731577e-81 (16, 3)\n",
      "93.50505554651397 2.5675309454731577e-81 (16, 3)\n",
      "93.50505554651397 2.5675309454731577e-81 (16, 3)\n",
      "93.50505554651397 2.5675309454731577e-81 (16, 3)\n",
      "93.50505554651397 2.5675309454731577e-81 (16, 3)\n",
      "93.50505554651397 2.5675309454731577e-81 (16, 3)\n",
      "93.50505554651397 2.5675309454731577e-81 (16, 3)\n",
      "93.50505554651397 2.5675309454731577e-81 (16, 3)\n",
      "93.50505554651397 2.5675309454731577e-81 (16, 3)\n"
     ]
    },
    {
     "data": {
      "text/plain": [
       "(16, 3)"
      ]
     },
     "execution_count": 143,
     "metadata": {},
     "output_type": "execute_result"
    }
   ],
   "source": [
    "for epoch in range(10**3):\n",
    "    ap_long = np.repeat(ap,18,axis=0)\n",
    "    grad = grad_percent(ap_long,X).reshape(18,16,3)\n",
    "    grad = np.sum(grad, axis=0)\n",
    "    ap = ap - step*grad\n",
    "    \n",
    "    ap_long = np.repeat(ap,18,axis=0)\n",
    "    if epoch%50==0: \n",
    "        if np.sum((model_percent(ap_long,X) - Y.reshape(-1,1))**2) < loss_p: step *= (1+beta)\n",
    "        else: step /= (1-beta)\n",
    "\n",
    "    loss_p = np.sum((model_percent(ap_long,X) - Y.reshape(-1,1))**2)\n",
    "\n",
    "    if epoch%100==0: \n",
    "        print(loss_p, np.max(grad), grad.shape)\n",
    "ap.shape"
   ]
  },
  {
   "cell_type": "code",
   "execution_count": 144,
   "metadata": {},
   "outputs": [],
   "source": [
    "if(False):\n",
    "    for epoch in range(10**(3)):\n",
    "        for y in range(X.shape[0]):\n",
    "            ap = ap - step*grad_percent(ap,X[y])\n",
    "\n",
    "            if epoch%50==0 and y==0 and False: \n",
    "                if np.sum((model_percent(ap,X[y]) - Y[y])**2) < loss_p: step *= (1+beta)\n",
    "                else: step /= (1-beta)\n",
    "\n",
    "            loss_p = np.sum((model_percent(ap,X[y]) - Y[y])**2)\n",
    "\n",
    "            if epoch%100==0 and y==0: \n",
    "                print(loss_p)\n",
    "    ap.shape"
   ]
  },
  {
   "cell_type": "code",
   "execution_count": 145,
   "metadata": {},
   "outputs": [],
   "source": [
    "neigh_ndx = []\n",
    "for d in range(X.shape[1]):\n",
    "    # 1. last election: Blue, Red, Gray\n",
    "    #    Blue/All\n",
    "    # 2. neighbours\n",
    "    # 3. one (1)\n",
    "    lo = par_in_reg_list[0].iloc[d,:]        \n",
    "    neigh = neighbours[lo.name.lower()]\n",
    "    indexs = par_in_reg_list[0].index.values\n",
    "    neigh_ndx.append(np.searchsorted(indexs, np.char.upper(neigh)))"
   ]
  },
  {
   "cell_type": "code",
   "execution_count": 146,
   "metadata": {},
   "outputs": [],
   "source": [
    "def prepare_input(y):\n",
    "    tmp_x = np.zeros((y.shape[0],3))\n",
    "    for d in range(y.shape[0]):\n",
    "        neigh = neigh_ndx[d]\n",
    "        avg_n = [y[n,0]/np.sum(y[neigh,0]) for n in neigh]\n",
    "        avg_n = sum(avg_n)/len(neigh)\n",
    "        tmp_x[d] = np.array([y[d,0], avg_n, 1])\n",
    "    return(tmp_x)"
   ]
  },
  {
   "cell_type": "code",
   "execution_count": 149,
   "metadata": {},
   "outputs": [],
   "source": [
    "def model(a,x,Y):\n",
    "    y = Y[0]\n",
    "    loss = 0\n",
    "    for year in range(1,X.shape[0]):\n",
    "        xi = prepare_input(y)\n",
    "        y = model_percent(a,xi)\n",
    "        loss += np.sum((y - Y[year])**2)\n",
    "        print(y.shape,'loss:', np.sum((y - Y[year])**2))\n",
    "        print(np.round(Y[year].T,2))\n",
    "        print(np.round(y.T,2))\n",
    "        return loss"
   ]
  },
  {
   "cell_type": "code",
   "execution_count": 150,
   "metadata": {},
   "outputs": [
    {
     "name": "stdout",
     "output_type": "stream",
     "text": [
      "() loss: 0.6219424417795363\n",
      "[[0.78 0.84 0.91 0.79 0.83 0.8  0.69 0.86 0.89 0.72 0.83 0.81 0.8  0.86\n",
      "  0.71 0.89]]\n",
      "1.0\n"
     ]
    },
    {
     "data": {
      "text/plain": [
       "0.6219424417795363"
      ]
     },
     "execution_count": 150,
     "metadata": {},
     "output_type": "execute_result"
    }
   ],
   "source": [
    "model(ap,X,Y)"
   ]
  },
  {
   "cell_type": "code",
   "execution_count": 41,
   "metadata": {},
   "outputs": [
    {
     "data": {
      "text/plain": [
       "array([[2.08140017e-222, 2.92715077e-222, 2.26706012e-221],\n",
       "       [2.76749647e-221, 2.32175768e-221, 1.00189040e-221],\n",
       "       [9.60659449e-222, 1.15291220e-221, 1.32034849e-221],\n",
       "       [1.86546673e-221, 1.17504592e-221, 1.85881599e-222],\n",
       "       [2.04344386e-221, 7.46636709e-222, 4.76930343e-222],\n",
       "       [9.99828046e-223, 4.74432751e-222, 2.17030816e-221],\n",
       "       [6.77053737e-222, 2.98653358e-221, 2.37326164e-221],\n",
       "       [5.88663628e-223, 3.99156280e-222, 2.79884639e-223],\n",
       "       [1.77255497e-221, 1.25409465e-221, 2.07597667e-222],\n",
       "       [2.50935605e-221, 1.35463457e-221, 1.50038202e-221],\n",
       "       [4.09985548e-222, 1.72700538e-221, 7.45352031e-222],\n",
       "       [5.32094351e-222, 9.03941710e-222, 2.26638501e-221],\n",
       "       [8.71354506e-222, 1.77600539e-221, 1.10097928e-221],\n",
       "       [2.62728604e-221, 9.01838341e-222, 1.70338717e-221],\n",
       "       [4.50258627e-222, 1.56767426e-221, 1.93226089e-224],\n",
       "       [1.58017530e-221, 2.62588054e-223, 7.98409186e-222]])"
      ]
     },
     "execution_count": 41,
     "metadata": {},
     "output_type": "execute_result"
    }
   ],
   "source": [
    "ap"
   ]
  },
  {
   "cell_type": "markdown",
   "metadata": {},
   "source": [
    "## Recurrent Neural Networks (RNN) and Long Short-Term Memory (LSTM)\n",
    "https://stackabuse.com/time-series-prediction-using-lstm-with-pytorch-in-python/ <br>\n",
    "http://proceedings.mlr.press/v57/zhao16.pdf <br>\n",
    "https://towardsdatascience.com/time-series-forecasting-with-recurrent-neural-networks-74674e289816 <br>\n",
    "https://developer.apple.com/documentation/coreml/core_ml_api/making_predictions_with_a_sequence_of_inputs <br>\n",
    "https://www.youtube.com/watch?v=WCUNPb-5EYI"
   ]
  },
  {
   "cell_type": "code",
   "execution_count": null,
   "metadata": {},
   "outputs": [],
   "source": []
  }
 ],
 "metadata": {
  "kernelspec": {
   "display_name": "Python 3",
   "language": "python",
   "name": "python3"
  },
  "language_info": {
   "codemirror_mode": {
    "name": "ipython",
    "version": 3
   },
   "file_extension": ".py",
   "mimetype": "text/x-python",
   "name": "python",
   "nbconvert_exporter": "python",
   "pygments_lexer": "ipython3",
   "version": "3.8.5"
  }
 },
 "nbformat": 4,
 "nbformat_minor": 2
}
