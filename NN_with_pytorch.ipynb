{
 "cells": [
  {
   "cell_type": "code",
   "execution_count": 1,
   "metadata": {},
   "outputs": [],
   "source": [
    "import numpy as np\n",
    "import pandas as pd\n",
    "import torch\n",
    "import torch.nn as nn\n",
    "import torch.nn.functional as F\n",
    "import os\n",
    "from poll_data import party_in_region, region_in_party\n",
    "import pickle\n",
    "import matplotlib.pyplot as plt\n",
    "#https://pytorch.org/tutorials/beginner/blitz/neural_networks_tutorial.html"
   ]
  },
  {
   "cell_type": "markdown",
   "metadata": {},
   "source": [
    "## Stat data"
   ]
  },
  {
   "cell_type": "code",
   "execution_count": 2,
   "metadata": {},
   "outputs": [],
   "source": [
    "path = 'dane_years/'\n",
    "files = list(filter(lambda x: os.path.isfile(path+x), os.listdir(path)))\n",
    "files.sort()"
   ]
  },
  {
   "cell_type": "code",
   "execution_count": 3,
   "metadata": {},
   "outputs": [],
   "source": [
    "stat_list = [(lambda x: pd.read_csv(path+x,index_col=0, header=0))(f) for f in files[:-1]]"
   ]
  },
  {
   "cell_type": "code",
   "execution_count": 4,
   "metadata": {},
   "outputs": [],
   "source": [
    "for yi in range(len(stat_list)):\n",
    "    y = files[yi].split('.')[0]\n",
    "    c = stat_list[yi].columns\n",
    "    c = [y+'-'+ci for ci in c]\n",
    "    # c = [y[2:]+'-'+str(ci) for ci in range(len(c))]\n",
    "    stat_list[yi].columns = c"
   ]
  },
  {
   "cell_type": "markdown",
   "metadata": {},
   "source": [
    "## Poll data"
   ]
  },
  {
   "cell_type": "code",
   "execution_count": 23,
   "metadata": {},
   "outputs": [
    {
     "data": {
      "image/png": "[encoded data removed]",
      "text/plain": [
       "<Figure size 432x288 with 1 Axes>"
      ]
     },
     "metadata": {
      "needs_background": "light"
     },
     "output_type": "display_data"
    }
   ],
   "source": [
    "#pool_data = pd.read_csv('dane_years/pools_edited.csv', index_col=0)\n",
    "pool_data_middle = pd.read_csv('dane_years/pools_edited_middle_year_of_voting.csv', index_col=0).iloc[:,:-1]\n",
    "pool_data_middle = pool_data_middle.divide(pool_data_middle.sum(1),0)\n",
    "pool_data_middle.plot(color=['b','r'])\n",
    "plt.show()"
   ]
  },
  {
   "cell_type": "markdown",
   "metadata": {},
   "source": [
    "## Voting data"
   ]
  },
  {
   "cell_type": "code",
   "execution_count": 24,
   "metadata": {},
   "outputs": [
    {
     "data": {
      "text/plain": [
       "['2001_WS.csv',\n",
       " '2005_WS.csv',\n",
       " '2007_WS.csv',\n",
       " '2011_WS.csv',\n",
       " '2015_WS.csv',\n",
       " '2019_WS.csv']"
      ]
     },
     "execution_count": 24,
     "metadata": {},
     "output_type": "execute_result"
    }
   ],
   "source": [
    "path = 'wyniki_wyborow/Simple/'\n",
    "files = list(filter(lambda x: os.path.isfile(path+x), os.listdir(path)))\n",
    "files.sort()\n",
    "files"
   ]
  },
  {
   "cell_type": "code",
   "execution_count": 25,
   "metadata": {},
   "outputs": [],
   "source": [
    "vote_list = [(lambda x: pd.read_csv(path+x,index_col=0, header=0))(f) for f in files[:]]\n",
    "vote_list[0] = vote_list[0].iloc[1:,:]"
   ]
  },
  {
   "cell_type": "code",
   "execution_count": 26,
   "metadata": {},
   "outputs": [],
   "source": [
    "vote_list[0]['jednostka'] = [j.upper() for j in vote_list[0]['jednostka']]\n",
    "vote_list[0] = vote_list[0].sort_values(['jednostka'])\n",
    "vote_list[0].columns = ['województwo'] + vote_list[0].columns.values.tolist()[1:] "
   ]
  },
  {
   "cell_type": "code",
   "execution_count": 27,
   "metadata": {},
   "outputs": [],
   "source": [
    "vote_list[0] = vote_list[0].set_index('województwo')"
   ]
  },
  {
   "cell_type": "code",
   "execution_count": 28,
   "metadata": {},
   "outputs": [],
   "source": [
    "if(False):\n",
    "    for yi in range(len(vote_list)):\n",
    "        y = files[yi].split('_WS')[0]\n",
    "        c = vote_list[yi].columns\n",
    "        #c = [y+'-'+ci for ci in c]\n",
    "        # c = [y[2:]+'-'+str(ci) for ci in range(len(c))]\n",
    "        vote_list[yi].columns = c\n",
    "\n",
    "        #vote_list[yi] = vote_list[yi].div(vote_list[yi].sum(axis=1), axis=0).fillna(0)"
   ]
  },
  {
   "cell_type": "markdown",
   "metadata": {},
   "source": [
    "## Neighbours"
   ]
  },
  {
   "cell_type": "code",
   "execution_count": 29,
   "metadata": {},
   "outputs": [],
   "source": [
    "with open('wojew_neighbours.pkl', 'rb') as f:\n",
    "    neighbours = pickle.load(f)"
   ]
  },
  {
   "cell_type": "markdown",
   "metadata": {},
   "source": [
    "## Use 2 approaches to estimate date from years without elections"
   ]
  },
  {
   "cell_type": "code",
   "execution_count": 43,
   "metadata": {},
   "outputs": [],
   "source": [
    "#party_in_region(df_vote, df_poll)\n",
    "par_in_reg_list = [vote_list[0].iloc[:,:-1]]\n",
    "#region_in_party(df_vote, df_poll)\n",
    "reg_in_par_list = [vote_list[0].iloc[:,:-1]]\n",
    "for pool in pool_data_middle[1:].iterrows():\n",
    "    if int(pool[0]) < 2005: df_vote = vote_list[0]\n",
    "    elif int(pool[0]) < 2007: df_vote = vote_list[1]\n",
    "    elif int(pool[0]) < 2011: df_vote = vote_list[2]\n",
    "    elif int(pool[0]) < 2015: df_vote = vote_list[3]\n",
    "    elif int(pool[0]) < 2019: df_vote = vote_list[4]\n",
    "    else: df_vote = vote_list[5]\n",
    "    \n",
    "    par_in_reg_list.append(party_in_region(df_vote.iloc[:,:-1], pool[1]))\n",
    "    reg_in_par_list.append(region_in_party(df_vote.iloc[:,:-1], pool[1]))"
   ]
  },
  {
   "cell_type": "code",
   "execution_count": 44,
   "metadata": {},
   "outputs": [],
   "source": [
    "for vl, i in zip(vote_list.copy(),[0,4,6,10,14,18]):    \n",
    "    par_in_reg_list[i] = vl.iloc[:,:-1]\n",
    "    reg_in_par_list[i] = vl.iloc[:,:-1]"
   ]
  },
  {
   "cell_type": "markdown",
   "metadata": {},
   "source": [
    "## Prepare input (X) (parameters which we will multiply)\n",
    "Input - wagi, <br>\n",
    "na outpucie mnożenie wag razy wartości i na tej podstawie ocena.\n",
    "- poprzednie wybory (par in reg/ reg in par)\n",
    "- wpływ sąsiadów (avg over nighbours/ weighted avg)\n",
    "- pole zewnętrzne "
   ]
  },
  {
   "cell_type": "code",
   "execution_count": 55,
   "metadata": {},
   "outputs": [],
   "source": [
    "X = []\n",
    "# iterate over years [from 2002 - 2019]\n",
    "for y in range(pool_data_middle.shape[0]-1):\n",
    "    # iterate over districts\n",
    "    tmp_x = []\n",
    "    for d in range(vote_list[0].shape[0]):\n",
    "        # 1. last election: Blue, Red, Gray\n",
    "        #    Blue/All\n",
    "        # 2. neighbours\n",
    "        # 3. one (1)\n",
    "        lo = par_in_reg_list[y].iloc[d,:]\n",
    "        neigh = neighbours[lo.name.lower()]\n",
    "        avg_n = [par_in_reg_list[y].loc[n.upper()][0]/par_in_reg_list[y].loc[n.upper()].sum() for n in neigh]\n",
    "        avg_n = sum(avg_n)/len(neigh)\n",
    "        tmp_x.append([lo[0]/lo.sum(), avg_n, 1])\n",
    "    X.append(tmp_x)"
   ]
  },
  {
   "cell_type": "code",
   "execution_count": 56,
   "metadata": {},
   "outputs": [
    {
     "data": {
      "text/plain": [
       "(18, 16, 3)"
      ]
     },
     "execution_count": 56,
     "metadata": {},
     "output_type": "execute_result"
    }
   ],
   "source": [
    "X = np.array(X)\n",
    "X.shape"
   ]
  },
  {
   "cell_type": "markdown",
   "metadata": {},
   "source": [
    "## Prepare Y"
   ]
  },
  {
   "cell_type": "code",
   "execution_count": 57,
   "metadata": {},
   "outputs": [],
   "source": [
    "Y = []\n",
    "for y in range(1,pool_data_middle.shape[0]):\n",
    "    # iterate over districts\n",
    "    tmp_y = []\n",
    "    for d in range(vote_list[0].shape[0]):\n",
    "        # 1. last election: Blue, Red, Gray\n",
    "        #    Blue/All\n",
    "        # 2. neighbours\n",
    "        # 3. one (1)\n",
    "        lo = par_in_reg_list[y].iloc[d,:]\n",
    "        tmp_y.append([lo[0]/lo.sum()])\n",
    "    Y.append(tmp_y)"
   ]
  },
  {
   "cell_type": "code",
   "execution_count": 58,
   "metadata": {},
   "outputs": [
    {
     "data": {
      "text/plain": [
       "(18, 16, 1)"
      ]
     },
     "execution_count": 58,
     "metadata": {},
     "output_type": "execute_result"
    }
   ],
   "source": [
    "Y = np.array(Y)\n",
    "Y.shape"
   ]
  },
  {
   "cell_type": "markdown",
   "metadata": {},
   "source": [
    "## Parameters to be estimated\n",
    "- waga poprzednie wybory\n",
    "- waga wpływu sąsiadów (avg over nighbours/ weighted avg)\n",
    "- pole zewnętrzne "
   ]
  },
  {
   "cell_type": "markdown",
   "metadata": {},
   "source": [
    "## Process\n",
    "- input,\n",
    "- warstwy,\n",
    "- output (parametry lub wagi),\n",
    "- output\\*parameters (the real output - wynik wyborów)\n",
    "\n",
    "**OR**\n",
    "- input (parameters),\n",
    "- simple network to get the weight = parameters to multiply,\n",
    "- output (next election)"
   ]
  },
  {
   "cell_type": "markdown",
   "metadata": {},
   "source": [
    "## Training phase (looking for parameters)"
   ]
  },
  {
   "cell_type": "markdown",
   "metadata": {},
   "source": [
    "Functions for models"
   ]
  },
  {
   "cell_type": "code",
   "execution_count": 61,
   "metadata": {},
   "outputs": [
    {
     "data": {
      "text/plain": [
       "(18, 16, 3)"
      ]
     },
     "execution_count": 61,
     "metadata": {},
     "output_type": "execute_result"
    }
   ],
   "source": [
    "X.shape"
   ]
  },
  {
   "cell_type": "markdown",
   "metadata": {},
   "source": [
    "### Models with percentage of Blue support per district"
   ]
  },
  {
   "cell_type": "code",
   "execution_count": 243,
   "metadata": {},
   "outputs": [],
   "source": [
    "def model_percent(a,x):\n",
    "    '''\n",
    "    INPUT:\n",
    "    a - vector of weights 16x3\n",
    "    x - vector of input data 18x16x3\n",
    "    OUTPUT:\n",
    "    y - predicted value in (0,1)\n",
    "    '''\n",
    "    d0 = x.shape[0] if (len(x.shape) == 3) else 1\n",
    "    \n",
    "    a = np.repeat(a, d0, 0)\n",
    "    x = x.reshape(-1, 3)\n",
    "    #return 1 / (1+np.exp(-np.sum(x.dot(a.T))))\n",
    "    y = 1 / (1+np.exp(-np.sum(x*a, 1, keepdims=True)))\n",
    "    return y\n",
    "\n",
    "def grad_percent(a,x):\n",
    "    '''\n",
    "    INPUT:\n",
    "    a - vector of weights 16x3\n",
    "    x - vector of input data 18x16x3\n",
    "    '''\n",
    "    #return a * np.exp(-x.T.dot(a)) / (1+np.exp(-x.T.dot(a)))**2\n",
    "    #return a*np.exp(-np.sum(x*a,1,keepdims=True)) / (1+np.exp(-np.sum(x*a,1,keepdims=True)))**2\n",
    "    d0 = x.shape[0] if (len(x.shape) == 3) else 1\n",
    "    \n",
    "    a = np.repeat(a, d0, 0)\n",
    "    x = x.reshape(-1, 3)\n",
    "    y = a*np.exp(-np.sum(x.dot(a.T),1,keepdims=True)) / (1+np.exp(-np.sum(x.dot(a.T),1,keepdims=True)))**2\n",
    "    return y"
   ]
  },
  {
   "cell_type": "code",
   "execution_count": 244,
   "metadata": {},
   "outputs": [],
   "source": [
    "loss_p = np.inf\n",
    "loss_v = np.inf\n",
    "\n",
    "a_avg = np.random.rand(X.shape[1],X.shape[2])\n",
    "a_all = a_avg\n",
    "#av = np.random.rand(X.shape[1],X.shape[2])\n",
    "\n",
    "step = 0.1\n",
    "beta = 0.01"
   ]
  },
  {
   "cell_type": "markdown",
   "metadata": {},
   "source": [
    "## All at once"
   ]
  },
  {
   "cell_type": "code",
   "execution_count": 245,
   "metadata": {},
   "outputs": [
    {
     "name": "stdout",
     "output_type": "stream",
     "text": [
      "loss sum: 29.404692770556878\n",
      "loss sum: 29.404692770556878\n",
      "loss sum: 29.404692770556878\n",
      "loss sum: 29.404692770556878\n",
      "loss sum: 29.404692770556878\n",
      "loss sum: 29.404692770556878\n",
      "loss sum: 29.404692770556878\n",
      "loss sum: 29.404692770556878\n",
      "loss sum: 29.404692770556878\n",
      "loss sum: 29.404692770556878\n"
     ]
    },
    {
     "data": {
      "text/plain": [
       "(16, 3)"
      ]
     },
     "execution_count": 245,
     "metadata": {},
     "output_type": "execute_result"
    }
   ],
   "source": [
    "for epoch in range(10**3):\n",
    "    grad = grad_percent(a_avg,X).reshape(18,16,3)\n",
    "    grad = np.sum(grad, axis=0)\n",
    "    a_avg = a_avg - step*grad\n",
    "    \n",
    "    #if epoch%50==0: \n",
    "    #    if np.sum((model_percent(ap,X) - Y.reshape(-1,1))**2) < loss_p: step *= (1+beta)\n",
    "    #    else: step /= (1-beta)\n",
    "\n",
    "    loss_p = np.sum((model_percent(a_avg,X) - Y.reshape(-1,1))**2)\n",
    "\n",
    "    if epoch%100==0: \n",
    "        print('loss sum:',loss_p)\n",
    "a_avg.shape"
   ]
  },
  {
   "cell_type": "markdown",
   "metadata": {},
   "source": [
    "## Shuffle years and on at once"
   ]
  },
  {
   "cell_type": "code",
   "execution_count": 246,
   "metadata": {},
   "outputs": [
    {
     "name": "stdout",
     "output_type": "stream",
     "text": [
      "loss sum: 29.63302852979713\n",
      "loss sum: 29.617893571159854\n",
      "loss sum: 29.60269654192721\n",
      "loss sum: 29.587375435522492\n",
      "loss sum: 29.572009779884926\n",
      "loss sum: 29.556564077181537\n",
      "loss sum: 29.540995807314307\n",
      "loss sum: 29.525305931757035\n",
      "loss sum: 29.50958514314829\n",
      "loss sum: 29.493761508963228\n"
     ]
    },
    {
     "data": {
      "text/plain": [
       "(16, 3)"
      ]
     },
     "execution_count": 246,
     "metadata": {},
     "output_type": "execute_result"
    }
   ],
   "source": [
    "for epoch in range(10**3):\n",
    "    shuffle_i = np.arange(X.shape[0])\n",
    "    np.random.shuffle(shuffle_i)\n",
    "    loss_p = 0\n",
    "    for i in shuffle_i:\n",
    "        grad = grad_percent(a_all,X[i])#.reshape(18,16,3)\n",
    "        #grad = np.sum(grad, axis=0)\n",
    "        a_all = a_all - step*grad\n",
    "\n",
    "        #if epoch%50==0: \n",
    "        #    if np.sum((model_percent(ap,X) - Y.reshape(-1,1))**2) < loss_p: step *= (1+beta)\n",
    "        #    else: step /= (1-beta)\n",
    "\n",
    "        loss_p += np.sum((model_percent(a_all,X[i]) - Y[i].reshape(-1,1))**2)\n",
    "\n",
    "    if epoch%100==0: \n",
    "        print('loss sum:',loss_p)\n",
    "ap.shape"
   ]
  },
  {
   "cell_type": "markdown",
   "metadata": {},
   "source": [
    "## All at once + evolution strategies (TO DO)"
   ]
  },
  {
   "cell_type": "code",
   "execution_count": null,
   "metadata": {},
   "outputs": [],
   "source": [
    "# https://towardsdatascience.com/introduction-to-evolution-strategy-1b78b9d48385\n",
    "for epoch in range(10**3):\n",
    "    grad = grad_percent(a_avg,X).reshape(18,16,3)\n",
    "    grad = np.sum(grad, axis=0)\n",
    "    a_avg = a_avg - step*grad\n",
    "    \n",
    "    #if epoch%50==0: \n",
    "    #    if np.sum((model_percent(ap,X) - Y.reshape(-1,1))**2) < loss_p: step *= (1+beta)\n",
    "    #    else: step /= (1-beta)\n",
    "\n",
    "    loss_p = np.sum((model_percent(a_avg,X) - Y.reshape(-1,1))**2)\n",
    "\n",
    "    if epoch%100==0: \n",
    "        print('loss sum:',loss_p)\n",
    "a_avg.shape"
   ]
  },
  {
   "cell_type": "markdown",
   "metadata": {},
   "source": [
    "### Setup for testing model"
   ]
  },
  {
   "cell_type": "code",
   "execution_count": 247,
   "metadata": {},
   "outputs": [],
   "source": [
    "neigh_ndx = []\n",
    "for d in range(X.shape[1]):\n",
    "    # 1. last election: Blue, Red, Gray\n",
    "    #    Blue/All\n",
    "    # 2. neighbours\n",
    "    # 3. one (1)\n",
    "    lo = par_in_reg_list[0].iloc[d,:]        \n",
    "    neigh = neighbours[lo.name.lower()]\n",
    "    indexs = par_in_reg_list[0].index.values\n",
    "    neigh_ndx.append(np.searchsorted(indexs, np.char.upper(neigh)))"
   ]
  },
  {
   "cell_type": "code",
   "execution_count": 248,
   "metadata": {},
   "outputs": [],
   "source": [
    "def prepare_input(y):\n",
    "    tmp_x = np.zeros((y.shape[0],3))\n",
    "    for d in range(y.shape[0]):\n",
    "        neigh = neigh_ndx[d]\n",
    "        avg_n = [y[n,0]/np.sum(y[neigh,0]) for n in neigh]\n",
    "        avg_n = sum(avg_n)/len(neigh)\n",
    "        tmp_x[d] = np.array([y[d,0], avg_n, 1])\n",
    "    return(tmp_x)"
   ]
  },
  {
   "cell_type": "code",
   "execution_count": 253,
   "metadata": {},
   "outputs": [],
   "source": [
    "def model(a,x,Y):\n",
    "    y = Y[0]\n",
    "    loss = []\n",
    "    out = np.zeros(Y.shape)\n",
    "    out[0] = y\n",
    "    for year in range(1,X.shape[0]):\n",
    "        xi = prepare_input(y)\n",
    "        y = model_percent(a,xi)\n",
    "        loss.append(np.sum((y - Y[year])**2))\n",
    "        #print(y.shape,'loss:', np.sum((y - Y[year])**2))\n",
    "        out[year] = y\n",
    "    return loss, out"
   ]
  },
  {
   "cell_type": "code",
   "execution_count": 254,
   "metadata": {},
   "outputs": [
    {
     "data": {
      "text/plain": [
       "[<matplotlib.lines.Line2D at 0x7efe5b5616a0>]"
      ]
     },
     "execution_count": 254,
     "metadata": {},
     "output_type": "execute_result"
    },
    {
     "data": {
      "image/png": "[encoded data removed]",
      "text/plain": [
       "<Figure size 432x288 with 1 Axes>"
      ]
     },
     "metadata": {
      "needs_background": "light"
     },
     "output_type": "display_data"
    }
   ],
   "source": [
    "l_avg, o = model(a_avg,X,Y)\n",
    "l_all, o = model(a_all,X,Y)\n",
    "plt.plot(l_avg,'bo')\n",
    "plt.plot(l_all,'ro')"
   ]
  },
  {
   "cell_type": "code",
   "execution_count": 239,
   "metadata": {},
   "outputs": [
    {
     "data": {
      "text/plain": [
       "array([[8.76191302e-01, 6.63646792e-01, 3.29258155e-01],\n",
       "       [8.13992552e-02, 6.91363640e-01, 3.10735211e-01],\n",
       "       [3.10059554e-01, 5.43135908e-01, 3.77364870e-01],\n",
       "       [2.92773226e-01, 5.29096649e-01, 5.82872398e-01],\n",
       "       [6.90976745e-01, 1.04250867e-01, 1.46258460e-01],\n",
       "       [7.37783793e-01, 8.88917292e-01, 9.34946777e-01],\n",
       "       [6.87620711e-01, 6.05758796e-01, 5.27122701e-01],\n",
       "       [6.70366818e-01, 9.75766393e-01, 9.40348823e-01],\n",
       "       [7.71515704e-02, 4.61123060e-04, 7.71257906e-01],\n",
       "       [3.63833517e-02, 6.29319825e-01, 5.20654961e-01],\n",
       "       [2.30938168e-01, 9.80169607e-01, 9.38414657e-01],\n",
       "       [3.49551078e-01, 3.49721085e-01, 1.83418123e-01],\n",
       "       [6.59714989e-02, 8.81375901e-01, 6.84675909e-01],\n",
       "       [1.88588356e-01, 3.42114970e-01, 1.37261258e-01],\n",
       "       [7.93974739e-02, 8.78018195e-01, 7.32295266e-02],\n",
       "       [1.57827626e-01, 7.23759570e-01, 8.97685207e-02]])"
      ]
     },
     "execution_count": 239,
     "metadata": {},
     "output_type": "execute_result"
    }
   ],
   "source": [
    "ap"
   ]
  },
  {
   "cell_type": "markdown",
   "metadata": {},
   "source": [
    "## Recurrent Neural Networks (RNN) and Long Short-Term Memory (LSTM)\n",
    "https://stackabuse.com/time-series-prediction-using-lstm-with-pytorch-in-python/ <br>\n",
    "http://proceedings.mlr.press/v57/zhao16.pdf <br>\n",
    "https://towardsdatascience.com/time-series-forecasting-with-recurrent-neural-networks-74674e289816 <br>\n",
    "https://developer.apple.com/documentation/coreml/core_ml_api/making_predictions_with_a_sequence_of_inputs <br>\n",
    "https://www.youtube.com/watch?v=WCUNPb-5EYI"
   ]
  },
  {
   "cell_type": "code",
   "execution_count": null,
   "metadata": {},
   "outputs": [],
   "source": []
  }
 ],
 "metadata": {
  "kernelspec": {
   "display_name": "Python 3",
   "language": "python",
   "name": "python3"
  },
  "language_info": {
   "codemirror_mode": {
    "name": "ipython",
    "version": 3
   },
   "file_extension": ".py",
   "mimetype": "text/x-python",
   "name": "python",
   "nbconvert_exporter": "python",
   "pygments_lexer": "ipython3",
   "version": "3.8.5"
  }
 },
 "nbformat": 4,
 "nbformat_minor": 2
}
