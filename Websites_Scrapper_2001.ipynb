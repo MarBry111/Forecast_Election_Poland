{
 "cells": [
  {
   "cell_type": "code",
   "execution_count": 1,
   "metadata": {},
   "outputs": [],
   "source": [
    "import concurrent.futures\n",
    "import requests\n",
    "import re \n",
    "import os\n",
    "import pandas as pd\n",
    "from bs4 import BeautifulSoup"
   ]
  },
  {
   "cell_type": "code",
   "execution_count": 2,
   "metadata": {},
   "outputs": [],
   "source": [
    "#2001\n",
    "base_url = 'https://wybory2001.pkw.gov.pl/'\n",
    "\n",
    "main_page_url = base_url+'sjg2_k.html'\n",
    "page = requests.get(main_page_url)"
   ]
  },
  {
   "cell_type": "code",
   "execution_count": 3,
   "metadata": {},
   "outputs": [],
   "source": [
    "# here, we fetch the content from the url, using the requests library\n",
    "page_content = BeautifulSoup(page.content, \"html.parser\")\n",
    "#we use the html parser to parse the url content and store it in a variable.textContent = []\n",
    "paragraphs = page_content.findAll('a')\n",
    "wojew = []\n",
    "for p in paragraphs:\n",
    "    if len(re.findall(r'<a href=\"([0-9]*\\/sjg2_w.html)\">(.*)</a>', str(p))) == 1:\n",
    "        wojew.append( re.findall(r'<a href=\"([0-9]*\\/sjg2_w.html)\">(.*)</a>', str(p))[0])\n",
    "# In my use case, I want to store the speech data I mentioned earlier.  so in this example, I loop through the paragraphs, and push them into an array so that I can manipulate and do fun stuff with the data."
   ]
  },
  {
   "cell_type": "code",
   "execution_count": 4,
   "metadata": {},
   "outputs": [],
   "source": [
    "#.encode(\"iso-8859-1\").decode('utf-8')"
   ]
  },
  {
   "cell_type": "code",
   "execution_count": 5,
   "metadata": {},
   "outputs": [
    {
     "name": "stdout",
     "output_type": "stream",
     "text": [
      "('020000/sjg2_w.html', 'dolno¶l±skie')\n",
      "('040000/sjg2_w.html', 'kujawsko-pomorskie')\n",
      "('060000/sjg2_w.html', 'lubelskie')\n",
      "('080000/sjg2_w.html', 'lubuskie')\n",
      "('100000/sjg2_w.html', '³ódzkie')\n",
      "('120000/sjg2_w.html', 'ma³opolskie')\n",
      "('140000/sjg2_w.html', 'mazowieckie')\n",
      "('160000/sjg2_w.html', 'opolskie')\n",
      "('180000/sjg2_w.html', 'podkarpackie')\n",
      "('200000/sjg2_w.html', 'podlaskie')\n",
      "('220000/sjg2_w.html', 'pomorskie')\n",
      "('240000/sjg2_w.html', '¶l±skie')\n",
      "('260000/sjg2_w.html', '¶wiêtokrzyskie')\n",
      "('280000/sjg2_w.html', 'warmiñsko-mazurskie')\n",
      "('300000/sjg2_w.html', 'wielkopolskie')\n",
      "('320000/sjg2_w.html', 'zachodniopomorskie')\n",
      "16\n"
     ]
    }
   ],
   "source": [
    "path_0 = '/home/marek/Dokumenty/MGR_CLEAN/wyniki_wyborow/2001/'\n",
    "\n",
    "for w in wojew:\n",
    "    print(w)\n",
    "print(len(wojew))\n",
    "    \n",
    "df_0 = pd.DataFrame(wojew, columns =['Komitet', 'Glosy']) \n",
    "df_0.Glosy = df_0.Glosy.str.replace('\\s', '')"
   ]
  },
  {
   "cell_type": "code",
   "execution_count": 88,
   "metadata": {},
   "outputs": [
    {
     "data": {
      "text/html": [
       "<div>\n",
       "<style scoped>\n",
       "    .dataframe tbody tr th:only-of-type {\n",
       "        vertical-align: middle;\n",
       "    }\n",
       "\n",
       "    .dataframe tbody tr th {\n",
       "        vertical-align: top;\n",
       "    }\n",
       "\n",
       "    .dataframe thead th {\n",
       "        text-align: right;\n",
       "    }\n",
       "</style>\n",
       "<table border=\"1\" class=\"dataframe\">\n",
       "  <thead>\n",
       "    <tr style=\"text-align: right;\">\n",
       "      <th></th>\n",
       "      <th>Komitet</th>\n",
       "      <th>Glosy</th>\n",
       "    </tr>\n",
       "  </thead>\n",
       "  <tbody>\n",
       "    <tr>\n",
       "      <td>0</td>\n",
       "      <td>020000/sjg2_w.html</td>\n",
       "      <td>dolno¶l±skie</td>\n",
       "    </tr>\n",
       "    <tr>\n",
       "      <td>1</td>\n",
       "      <td>040000/sjg2_w.html</td>\n",
       "      <td>kujawsko-pomorskie</td>\n",
       "    </tr>\n",
       "    <tr>\n",
       "      <td>2</td>\n",
       "      <td>060000/sjg2_w.html</td>\n",
       "      <td>lubelskie</td>\n",
       "    </tr>\n",
       "    <tr>\n",
       "      <td>3</td>\n",
       "      <td>080000/sjg2_w.html</td>\n",
       "      <td>lubuskie</td>\n",
       "    </tr>\n",
       "    <tr>\n",
       "      <td>4</td>\n",
       "      <td>100000/sjg2_w.html</td>\n",
       "      <td>³ódzkie</td>\n",
       "    </tr>\n",
       "    <tr>\n",
       "      <td>5</td>\n",
       "      <td>120000/sjg2_w.html</td>\n",
       "      <td>ma³opolskie</td>\n",
       "    </tr>\n",
       "    <tr>\n",
       "      <td>6</td>\n",
       "      <td>140000/sjg2_w.html</td>\n",
       "      <td>mazowieckie</td>\n",
       "    </tr>\n",
       "    <tr>\n",
       "      <td>7</td>\n",
       "      <td>160000/sjg2_w.html</td>\n",
       "      <td>opolskie</td>\n",
       "    </tr>\n",
       "    <tr>\n",
       "      <td>8</td>\n",
       "      <td>180000/sjg2_w.html</td>\n",
       "      <td>podkarpackie</td>\n",
       "    </tr>\n",
       "    <tr>\n",
       "      <td>9</td>\n",
       "      <td>200000/sjg2_w.html</td>\n",
       "      <td>podlaskie</td>\n",
       "    </tr>\n",
       "    <tr>\n",
       "      <td>10</td>\n",
       "      <td>220000/sjg2_w.html</td>\n",
       "      <td>pomorskie</td>\n",
       "    </tr>\n",
       "    <tr>\n",
       "      <td>11</td>\n",
       "      <td>240000/sjg2_w.html</td>\n",
       "      <td>¶l±skie</td>\n",
       "    </tr>\n",
       "    <tr>\n",
       "      <td>12</td>\n",
       "      <td>260000/sjg2_w.html</td>\n",
       "      <td>¶wiêtokrzyskie</td>\n",
       "    </tr>\n",
       "    <tr>\n",
       "      <td>13</td>\n",
       "      <td>280000/sjg2_w.html</td>\n",
       "      <td>warmiñsko-mazurskie</td>\n",
       "    </tr>\n",
       "    <tr>\n",
       "      <td>14</td>\n",
       "      <td>300000/sjg2_w.html</td>\n",
       "      <td>wielkopolskie</td>\n",
       "    </tr>\n",
       "    <tr>\n",
       "      <td>15</td>\n",
       "      <td>320000/sjg2_w.html</td>\n",
       "      <td>zachodniopomorskie</td>\n",
       "    </tr>\n",
       "  </tbody>\n",
       "</table>\n",
       "</div>"
      ],
      "text/plain": [
       "               Komitet                Glosy\n",
       "0   020000/sjg2_w.html         dolno¶l±skie\n",
       "1   040000/sjg2_w.html   kujawsko-pomorskie\n",
       "2   060000/sjg2_w.html            lubelskie\n",
       "3   080000/sjg2_w.html             lubuskie\n",
       "4   100000/sjg2_w.html              ³ódzkie\n",
       "5   120000/sjg2_w.html          ma³opolskie\n",
       "6   140000/sjg2_w.html          mazowieckie\n",
       "7   160000/sjg2_w.html             opolskie\n",
       "8   180000/sjg2_w.html         podkarpackie\n",
       "9   200000/sjg2_w.html            podlaskie\n",
       "10  220000/sjg2_w.html            pomorskie\n",
       "11  240000/sjg2_w.html              ¶l±skie\n",
       "12  260000/sjg2_w.html       ¶wiêtokrzyskie\n",
       "13  280000/sjg2_w.html  warmiñsko-mazurskie\n",
       "14  300000/sjg2_w.html        wielkopolskie\n",
       "15  320000/sjg2_w.html   zachodniopomorskie"
      ]
     },
     "execution_count": 88,
     "metadata": {},
     "output_type": "execute_result"
    }
   ],
   "source": [
    "df_0"
   ]
  },
  {
   "cell_type": "code",
   "execution_count": null,
   "metadata": {},
   "outputs": [],
   "source": []
  }
 ],
 "metadata": {
  "kernelspec": {
   "display_name": "Python 3",
   "language": "python",
   "name": "python3"
  },
  "language_info": {
   "codemirror_mode": {
    "name": "ipython",
    "version": 3
   },
   "file_extension": ".py",
   "mimetype": "text/x-python",
   "name": "python",
   "nbconvert_exporter": "python",
   "pygments_lexer": "ipython3",
   "version": "3.7.3"
  }
 },
 "nbformat": 4,
 "nbformat_minor": 2
}
