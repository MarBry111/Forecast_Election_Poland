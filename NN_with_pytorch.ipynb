{
 "cells": [
  {
   "cell_type": "code",
   "execution_count": 13,
   "metadata": {},
   "outputs": [],
   "source": [
    "import numpy as np\n",
    "import pandas as pd\n",
    "import torch\n",
    "import torch.nn as nn\n",
    "import torch.nn.functional as F\n",
    "import os\n",
    "#https://pytorch.org/tutorials/beginner/blitz/neural_networks_tutorial.html"
   ]
  },
  {
   "cell_type": "markdown",
   "metadata": {},
   "source": [
    "## Stat data"
   ]
  },
  {
   "cell_type": "code",
   "execution_count": 14,
   "metadata": {},
   "outputs": [],
   "source": [
    "path = 'dane_years/'\n",
    "files = list(filter(lambda x: os.path.isfile(path+x), os.listdir(path)))\n",
    "files.sort()"
   ]
  },
  {
   "cell_type": "code",
   "execution_count": 15,
   "metadata": {},
   "outputs": [],
   "source": [
    "stat_list = [(lambda x: pd.read_csv(path+x,index_col=0, header=0))(f) for f in files[:-1]]"
   ]
  },
  {
   "cell_type": "code",
   "execution_count": 16,
   "metadata": {},
   "outputs": [],
   "source": [
    "for yi in range(len(stat_list)):\n",
    "    y = files[yi].split('.')[0]\n",
    "    c = stat_list[yi].columns\n",
    "    c = [y+'-'+ci for ci in c]\n",
    "    # c = [y[2:]+'-'+str(ci) for ci in range(len(c))]\n",
    "    stat_list[yi].columns = c"
   ]
  },
  {
   "cell_type": "markdown",
   "metadata": {},
   "source": [
    "## Poll data"
   ]
  },
  {
   "cell_type": "code",
   "execution_count": 17,
   "metadata": {},
   "outputs": [],
   "source": [
    "pool_data = pd.read_csv('dane_years/pools_edited.csv', index_col=0)"
   ]
  },
  {
   "cell_type": "markdown",
   "metadata": {},
   "source": [
    "## Voting data"
   ]
  },
  {
   "cell_type": "code",
   "execution_count": 18,
   "metadata": {},
   "outputs": [],
   "source": [
    "path = 'wyniki_wyborow/Simple/'\n",
    "files = list(filter(lambda x: os.path.isfile(path+x), os.listdir(path)))\n",
    "files.sort()"
   ]
  },
  {
   "cell_type": "code",
   "execution_count": 19,
   "metadata": {},
   "outputs": [],
   "source": [
    "vote_list = [(lambda x: pd.read_csv(path+x,index_col=0, header=0))(f) for f in files[:-1]]"
   ]
  },
  {
   "cell_type": "code",
   "execution_count": 20,
   "metadata": {},
   "outputs": [],
   "source": [
    "for yi in range(len(vote_list)):\n",
    "    y = files[yi].split('_O')[0]\n",
    "    c = vote_list[yi].columns\n",
    "    c = [y+'-'+ci for ci in c]\n",
    "    # c = [y[2:]+'-'+str(ci) for ci in range(len(c))]\n",
    "    vote_list[yi].columns = c"
   ]
  },
  {
   "cell_type": "code",
   "execution_count": 24,
   "metadata": {},
   "outputs": [
    {
     "data": {
      "text/plain": [
       "Blue    0.189731\n",
       "Red     0.569952\n",
       "Gray    0.240317\n",
       "Name: 2001, dtype: float64"
      ]
     },
     "execution_count": 24,
     "metadata": {},
     "output_type": "execute_result"
    }
   ],
   "source": [
    "pool_data.loc[2001]"
   ]
  },
  {
   "cell_type": "code",
   "execution_count": 32,
   "metadata": {},
   "outputs": [
    {
     "data": {
      "text/html": [
       "<div>\n",
       "<style scoped>\n",
       "    .dataframe tbody tr th:only-of-type {\n",
       "        vertical-align: middle;\n",
       "    }\n",
       "\n",
       "    .dataframe tbody tr th {\n",
       "        vertical-align: top;\n",
       "    }\n",
       "\n",
       "    .dataframe thead th {\n",
       "        text-align: right;\n",
       "    }\n",
       "</style>\n",
       "<table border=\"1\" class=\"dataframe\">\n",
       "  <thead>\n",
       "    <tr style=\"text-align: right;\">\n",
       "      <th></th>\n",
       "      <th>2005-Blue</th>\n",
       "      <th>2005-Red</th>\n",
       "      <th>2005-Gray</th>\n",
       "    </tr>\n",
       "    <tr>\n",
       "      <th>województwo</th>\n",
       "      <th></th>\n",
       "      <th></th>\n",
       "      <th></th>\n",
       "    </tr>\n",
       "  </thead>\n",
       "  <tbody>\n",
       "    <tr>\n",
       "      <td>DOLNOŚLĄSKIE</td>\n",
       "      <td>403165.0</td>\n",
       "      <td>354677</td>\n",
       "      <td>109375.0</td>\n",
       "    </tr>\n",
       "    <tr>\n",
       "      <td>KUJAWSKO-POMORSKIE</td>\n",
       "      <td>301227.0</td>\n",
       "      <td>199374</td>\n",
       "      <td>70123.0</td>\n",
       "    </tr>\n",
       "    <tr>\n",
       "      <td>LUBELSKIE</td>\n",
       "      <td>464224.0</td>\n",
       "      <td>156883</td>\n",
       "      <td>65688.0</td>\n",
       "    </tr>\n",
       "    <tr>\n",
       "      <td>LUBUSKIE</td>\n",
       "      <td>134531.0</td>\n",
       "      <td>109282</td>\n",
       "      <td>26711.0</td>\n",
       "    </tr>\n",
       "    <tr>\n",
       "      <td>MAZOWIECKIE</td>\n",
       "      <td>978071.0</td>\n",
       "      <td>627435</td>\n",
       "      <td>222722.0</td>\n",
       "    </tr>\n",
       "    <tr>\n",
       "      <td>MAŁOPOLSKIE</td>\n",
       "      <td>648485.0</td>\n",
       "      <td>350577</td>\n",
       "      <td>92667.0</td>\n",
       "    </tr>\n",
       "    <tr>\n",
       "      <td>OPOLSKIE</td>\n",
       "      <td>114005.0</td>\n",
       "      <td>92401</td>\n",
       "      <td>60418.0</td>\n",
       "    </tr>\n",
       "    <tr>\n",
       "      <td>PODKARPACKIE</td>\n",
       "      <td>467906.0</td>\n",
       "      <td>162311</td>\n",
       "      <td>46239.0</td>\n",
       "    </tr>\n",
       "    <tr>\n",
       "      <td>PODLASKIE</td>\n",
       "      <td>208603.0</td>\n",
       "      <td>95218</td>\n",
       "      <td>41665.0</td>\n",
       "    </tr>\n",
       "    <tr>\n",
       "      <td>POMORSKIE</td>\n",
       "      <td>314959.0</td>\n",
       "      <td>332658</td>\n",
       "      <td>69703.0</td>\n",
       "    </tr>\n",
       "    <tr>\n",
       "      <td>WARMIŃSKO-MAZURSKIE</td>\n",
       "      <td>196557.0</td>\n",
       "      <td>138231</td>\n",
       "      <td>37923.0</td>\n",
       "    </tr>\n",
       "    <tr>\n",
       "      <td>WIELKOPOLSKIE</td>\n",
       "      <td>504293.0</td>\n",
       "      <td>403986</td>\n",
       "      <td>115810.0</td>\n",
       "    </tr>\n",
       "    <tr>\n",
       "      <td>ZACHODNIOPOMORSKIE</td>\n",
       "      <td>230498.0</td>\n",
       "      <td>195124</td>\n",
       "      <td>57835.0</td>\n",
       "    </tr>\n",
       "    <tr>\n",
       "      <td>ŁÓDZKIE</td>\n",
       "      <td>448976.0</td>\n",
       "      <td>257914</td>\n",
       "      <td>97052.0</td>\n",
       "    </tr>\n",
       "    <tr>\n",
       "      <td>ŚLĄSKIE</td>\n",
       "      <td>656370.0</td>\n",
       "      <td>607351</td>\n",
       "      <td>170684.0</td>\n",
       "    </tr>\n",
       "    <tr>\n",
       "      <td>ŚWIĘTOKRZYSKIE</td>\n",
       "      <td>223617.0</td>\n",
       "      <td>101094</td>\n",
       "      <td>40058.0</td>\n",
       "    </tr>\n",
       "  </tbody>\n",
       "</table>\n",
       "</div>"
      ],
      "text/plain": [
       "                     2005-Blue  2005-Red  2005-Gray\n",
       "województwo                                        \n",
       "DOLNOŚLĄSKIE          403165.0    354677   109375.0\n",
       "KUJAWSKO-POMORSKIE    301227.0    199374    70123.0\n",
       "LUBELSKIE             464224.0    156883    65688.0\n",
       "LUBUSKIE              134531.0    109282    26711.0\n",
       "MAZOWIECKIE           978071.0    627435   222722.0\n",
       "MAŁOPOLSKIE           648485.0    350577    92667.0\n",
       "OPOLSKIE              114005.0     92401    60418.0\n",
       "PODKARPACKIE          467906.0    162311    46239.0\n",
       "PODLASKIE             208603.0     95218    41665.0\n",
       "POMORSKIE             314959.0    332658    69703.0\n",
       "WARMIŃSKO-MAZURSKIE   196557.0    138231    37923.0\n",
       "WIELKOPOLSKIE         504293.0    403986   115810.0\n",
       "ZACHODNIOPOMORSKIE    230498.0    195124    57835.0\n",
       "ŁÓDZKIE               448976.0    257914    97052.0\n",
       "ŚLĄSKIE               656370.0    607351   170684.0\n",
       "ŚWIĘTOKRZYSKIE        223617.0    101094    40058.0"
      ]
     },
     "execution_count": 32,
     "metadata": {},
     "output_type": "execute_result"
    }
   ],
   "source": [
    "vote_list[0]"
   ]
  },
  {
   "cell_type": "markdown",
   "metadata": {},
   "source": [
    "## Building Network"
   ]
  },
  {
   "cell_type": "code",
   "execution_count": 2,
   "metadata": {},
   "outputs": [
    {
     "name": "stdout",
     "output_type": "stream",
     "text": [
      "Net(\n",
      "  (conv1): Conv2d(1, 6, kernel_size=(3, 3), stride=(1, 1))\n",
      "  (conv2): Conv2d(6, 16, kernel_size=(3, 3), stride=(1, 1))\n",
      "  (fc1): Linear(in_features=576, out_features=120, bias=True)\n",
      "  (fc2): Linear(in_features=120, out_features=84, bias=True)\n",
      "  (fc3): Linear(in_features=84, out_features=10, bias=True)\n",
      ")\n"
     ]
    }
   ],
   "source": [
    "class Net(nn.Module):\n",
    "\n",
    "    def __init__(self):\n",
    "        super(Net, self).__init__()\n",
    "        # 1 input image channel, 6 output channels, 3x3 square convolution\n",
    "        # kernel\n",
    "        self.conv1 = nn.Conv2d(1, 6, 3)\n",
    "        self.conv2 = nn.Conv2d(6, 16, 3)\n",
    "        # an affine operation: y = Wx + b\n",
    "        self.fc1 = nn.Linear(16 * 6 * 6, 120)  # 6*6 from image dimension\n",
    "        self.fc2 = nn.Linear(120, 84)\n",
    "        self.fc3 = nn.Linear(84, 10)\n",
    "\n",
    "    def forward(self, x):\n",
    "        # Max pooling over a (2, 2) window\n",
    "        x = F.max_pool2d(F.relu(self.conv1(x)), (2, 2))\n",
    "        # If the size is a square you can only specify a single number\n",
    "        x = F.max_pool2d(F.relu(self.conv2(x)), 2)\n",
    "        x = x.view(-1, self.num_flat_features(x))\n",
    "        x = F.relu(self.fc1(x))\n",
    "        x = F.relu(self.fc2(x))\n",
    "        x = self.fc3(x)\n",
    "        return x\n",
    "\n",
    "    def num_flat_features(self, x):\n",
    "        size = x.size()[1:]  # all dimensions except the batch dimension\n",
    "        num_features = 1\n",
    "        for s in size:\n",
    "            num_features *= s\n",
    "        return num_features\n",
    "\n",
    "\n",
    "net = Net()\n",
    "print(net)"
   ]
  },
  {
   "cell_type": "code",
   "execution_count": 3,
   "metadata": {},
   "outputs": [
    {
     "name": "stdout",
     "output_type": "stream",
     "text": [
      "10\n",
      "torch.Size([6, 1, 3, 3])\n"
     ]
    }
   ],
   "source": [
    "params = list(net.parameters())\n",
    "print(len(params))\n",
    "print(params[0].size())  # conv1's .weight"
   ]
  },
  {
   "cell_type": "code",
   "execution_count": 5,
   "metadata": {},
   "outputs": [
    {
     "name": "stdout",
     "output_type": "stream",
     "text": [
      "tensor([[ 0.0621,  0.0870,  0.1398, -0.0306, -0.0361,  0.0209,  0.0662, -0.0334,\n",
      "         -0.0423,  0.0301]], grad_fn=<AddmmBackward>)\n"
     ]
    }
   ],
   "source": [
    "iinput = torch.randn(1, 1, 32, 32)\n",
    "out = net(iinput)\n",
    "print(out)"
   ]
  },
  {
   "cell_type": "code",
   "execution_count": 6,
   "metadata": {},
   "outputs": [],
   "source": [
    "net.zero_grad()\n",
    "out.backward(torch.randn(1, 10))"
   ]
  },
  {
   "cell_type": "code",
   "execution_count": 7,
   "metadata": {},
   "outputs": [
    {
     "name": "stdout",
     "output_type": "stream",
     "text": [
      "tensor(1.4245, grad_fn=<MseLossBackward>)\n"
     ]
    }
   ],
   "source": [
    "output = net(iinput)\n",
    "target = torch.randn(10)  # a dummy target, for example\n",
    "target = target.view(1, -1)  # make it the same shape as output\n",
    "criterion = nn.MSELoss()\n",
    "\n",
    "loss = criterion(output, target)\n",
    "print(loss)"
   ]
  },
  {
   "cell_type": "code",
   "execution_count": 8,
   "metadata": {},
   "outputs": [
    {
     "name": "stdout",
     "output_type": "stream",
     "text": [
      "<MseLossBackward object at 0x7f013abff110>\n",
      "<AddmmBackward object at 0x7f013abff250>\n",
      "<AccumulateGrad object at 0x7f013abff290>\n"
     ]
    }
   ],
   "source": [
    "print(loss.grad_fn)  # MSELoss\n",
    "print(loss.grad_fn.next_functions[0][0])  # Linear\n",
    "print(loss.grad_fn.next_functions[0][0].next_functions[0][0])  # ReLU"
   ]
  },
  {
   "cell_type": "code",
   "execution_count": null,
   "metadata": {},
   "outputs": [],
   "source": []
  }
 ],
 "metadata": {
  "kernelspec": {
   "display_name": "Python 3",
   "language": "python",
   "name": "python3"
  },
  "language_info": {
   "codemirror_mode": {
    "name": "ipython",
    "version": 3
   },
   "file_extension": ".py",
   "mimetype": "text/x-python",
   "name": "python",
   "nbconvert_exporter": "python",
   "pygments_lexer": "ipython3",
   "version": "3.7.5"
  }
 },
 "nbformat": 4,
 "nbformat_minor": 2
}
