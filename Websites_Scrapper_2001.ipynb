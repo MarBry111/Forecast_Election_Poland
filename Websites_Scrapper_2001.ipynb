{
 "cells": [
  {
   "cell_type": "code",
   "execution_count": 58,
   "metadata": {},
   "outputs": [],
   "source": [
    "import concurrent.futures\n",
    "import requests\n",
    "import re \n",
    "import os\n",
    "import pandas as pd\n",
    "from bs4 import BeautifulSoup"
   ]
  },
  {
   "cell_type": "code",
   "execution_count": 112,
   "metadata": {},
   "outputs": [
    {
     "data": {
      "text/plain": [
       "'<html><head><title>Państwowa Komisja Wyborcza: Wybory Parlamentarne 2001</title><link href=\"s.css\" type=\"text/css\" rel=\"stylesheet\"></head><body bgcolor=\"#EFC98B\" leftmargin=\"0\" topmargin=\"0\" marginwidth=\"0\" marginheight=\"0\"><div align=\"center\"><table width=\"100%\" cellpadding=\"0\" cellspacing=\"0\" border=\"0\" background=\"img/bg_top_table.gif\"><tr valign=top><td width=\"150\" background=\"img/bg_top_table.gif\"><a href=\"index.html\" alt=\"Strona główna\"><img src=\"img/pkw_logo_left.gif\" width=\"150\" height=\"100\" border=\"0\"></a></td><td width=\"100%\" background=\"img/bg_top_table.gif\"><table width=\"100%\" cellpadding=\"0\" cellspacing=\"0\" border=\"0\"><tr valign=\"top\"><td width=\"50%\" background=\"img/bg_top_line.gif\"><img src=\"img/p.gif\" width=\"1\" height=\"11\"></td><td width=\"50%\" background=\"img/bg_top_line.gif\"><img src=\"img/p.gif\" width=\"1\" height=\"11\"></td></tr><tr valign=\"top\"><td width=\"50%\" background=\"sjg2_k.html\"><img src=\"img/pkw_napis.gif\" width=\"330\" height=\"54\"></td><td width=\"50%\" background=\"sjg2_k.html\" align=\"right\"><img src=\"img/kbw_logo.gif\" width=\"92\" height=\"86\"></td></tr></table>\\n</td></tr><tr><td colspan=\"2\" background=\"sjg2_k.html\" bgcolor=\"#000000\"><img src=\"img/p.gif\" width=\"1\" height=\"1\"></td></tr></table><table bgcolor=\"#000000\" cellspacing=\"0\" cellpadding=\"1\" width=\"752\" border=\"0\"><tr valign=\"top\"><td bgcolor=\"#000000\"><table width=\"750\" border=\"0\" cellpadding=\"10\" cellspacing=\"0\"><tr><td bgcolor=\"#FBDBA7\" width=\"150\" valign=\"bottom\" align=\"right\"><img src=\"img/p.gif\" width=\"130\" height=\"1\"></td><td bgcolor=\"#FBDBA7\" width=\"150\" valign=\"bottom\" align=\"right\"><img src=\"img/p.gif\" width=\"130\" height=\"1\"></td></tr><tr><td colspan=2 bgcolor=\"#FBDBA7\" class=\"n0\">Wybory do Sejmu: wyniki głosowania na listy komitetów wyborczych w skali kraju<br><!-- <? include(\\'/opt/WP/serwer/wybory/applets/naglowek.inc\\'); ?> --></td></tr><tr><td colspan=2 bgcolor=\"#FBDBA7\" align=\"right\"><br><a href=\"http://www.pkw.gov.pl/katalog/2376.html\">Prawo wyborcze</a>&nbsp;|&nbsp;<a href=\"http://www.pkw.gov.pl/katalog/artykul/15715.html\">Obwieszczenia OKW</a>&nbsp;|&nbsp;<b>Sejm</b>&nbsp;|&nbsp;<a href=\"glowna.html#senat\">Senat</a></td></tr></table></td></tr></tr></table></div><div align=\"center\"><table width=\"752\" cellpadding=\"1\" cellspacing=\"0\" border=\"0\"><tr valign=\"top\"><td bgcolor=\"#000000\"><table width=\"750\" cellpadding=\"5\" cellspacing=\"0\" border=\"0\"><tr><td bgcolor=\"#EFC98B\" width=\"750\" valign=\"top\" align=\"left\"><img src=\"img/p.gif\" width=\"740\" height=\"1\"><br><a href=\"glowna.html\">Strona główna</a> &raquo; <b>Polska</b></td></tr></table></td></tr></table></div><div align=\"center\"><table width=\"752\" cellpadding=\"1\" cellspacing=\"0\" border=\"0\"><tr valign=\"top\"><td bgcolor=\"#000000\"><table width=\"750\" cellpadding=\"10\" cellspacing=\"0\" border=\"0\"><tr><td bgcolor=\"#ffffff\" width=\"750\" valign=\"top\" align=\"left\"><img src=\"img/p.gif\" width=\"730\" height=\"1\"><br><table height=\"45\" cellspacing=\"0\" cellpadding=\"0\" width=\"98%\" border=\"0\" align=\"center\"><tr><td id=h1 width=\"100%\" height=\"40\"><hr size=\"1\" width=\"100%\" color=\"black\" align=\"left\">Zobacz także<hr size=\"1\" width=\"100%\" color=\"black\" align=\"left\"></td></tr></table><br id=\"p\"><table cellspacing=\"0\" cellpadding=\"0\" width=\"96%\" border=\"0\" align=\"center\"><tr><td valign=\"top\"><a href=\"sjw1_k.html\">Wybory do Sejmu: wyniki wyborów na poziomie kraju</a><br><a href=\"sjg1_k.html\">Wybory do Sejmu: ogólne statystyki głosowania na poziomie kraju</a><br><a href=\"sjg2_z.html\">Wybory do Sejmu: wyniki głosowania za granicą</a><br></td></tr></table><br><table height=\"45\" cellspacing=\"0\" cellpadding=\"0\" width=\"98%\" border=\"0\" align=\"center\"><tr><td id=\"h1\" width=\"100%\" height=\"40\"><hr size=\"1\" width=\"100%\" color=\"black\" align=\"left\">Województwa, z ktorych spłynęły dane<hr size=\"1\" width=\"100%\" color=\"black\" align=\"left\"></td></tr></table><center><img src=\"img/sjg2_k.png\" border=\"0\"></center><br><table height=\"45\" cellspacing=\"0\" cellpadding=\"0\" width=\"98%\" border=\"0\" align=\"center\"><tr><td id=\"h1\" width=\"100%\" height=\"40\"><hr size=\"1\" width=\"100%\" color=\"black\" align=\"left\">Wyniki głosowania w skali kraju<hr size=\"1\" width=\"100%\" color=\"black\" align=\"left\"></td></tr></table><table width=\"98%\" border=\"0\" cellspacing=\"2\" cellpadding=\"3\" align=\"center\"><tr valign=\"bottom\" bgcolor=\"#efc98b\"><tr valign=\"bottom\" bgcolor=\"#efc98b\"><td id=\"t\">Nazwa województwa</td><td id=\"t\">Liczba okręgów</td><td id=\"t\">Liczba mandatów</td><td id=\"t\">Frekwencja</td><td id=\"t\">Liczba głosów ważnych</td></tr><tr><td><a href=\"020000/sjg2_w.html\">dolnośląskie</a></td><td align=\"right\">3</td><td align=\"right\">35</td><td align=\"right\">  44.98</td><td align=\"right\">983019</td></tr><tr><td><a href=\"040000/sjg2_w.html\">kujawsko-pomorskie</a></td><td align=\"right\">2</td><td align=\"right\">25</td><td align=\"right\">  44.57</td><td align=\"right\">670474</td></tr><tr><td><a href=\"060000/sjg2_w.html\">lubelskie</a></td><td align=\"right\">2</td><td align=\"right\">27</td><td align=\"right\">  47.44</td><td align=\"right\">773755</td></tr><tr><td><a href=\"080000/sjg2_w.html\">lubuskie</a></td><td align=\"right\">1</td><td align=\"right\">12</td><td align=\"right\">  42.58</td><td align=\"right\">311993</td></tr><tr><td><a href=\"100000/sjg2_w.html\">łódzkie</a></td><td align=\"right\">3</td><td align=\"right\">32</td><td align=\"right\">  46.59</td><td align=\"right\">919461</td></tr><tr><td><a href=\"120000/sjg2_w.html\">małopolskie</a></td><td align=\"right\">4</td><td align=\"right\">38</td><td align=\"right\">  48.66</td><td align=\"right\">1124211</td></tr><tr><td><a href=\"140000/sjg2_w.html\">mazowieckie</a></td><td align=\"right\">5</td><td align=\"right\">60</td><td align=\"right\">  48.24</td><td align=\"right\">1844354</td></tr><tr><td><a href=\"160000/sjg2_w.html\">opolskie</a></td><td align=\"right\">1</td><td align=\"right\">13</td><td align=\"right\">  39.83</td><td align=\"right\">310926</td></tr><tr><td><a href=\"180000/sjg2_w.html\">podkarpackie</a></td><td align=\"right\">2</td><td align=\"right\">26</td><td align=\"right\">  48.35</td><td align=\"right\">724679</td></tr><tr><td><a href=\"200000/sjg2_w.html\">podlaskie</a></td><td align=\"right\">1</td><td align=\"right\">15</td><td align=\"right\">  44.79</td><td align=\"right\">397665</td></tr><tr><td><a href=\"220000/sjg2_w.html\">pomorskie</a></td><td align=\"right\">2</td><td align=\"right\">26</td><td align=\"right\">  47.44</td><td align=\"right\">747004</td></tr><tr><td><a href=\"240000/sjg2_w.html\">śląskie</a></td><td align=\"right\">6</td><td align=\"right\">57</td><td align=\"right\">  45.34</td><td align=\"right\">1623249</td></tr><tr><td><a href=\"260000/sjg2_w.html\">świętokrzyskie</a></td><td align=\"right\">1</td><td align=\"right\">16</td><td align=\"right\">  44.17</td><td align=\"right\">431605</td></tr><tr><td><a href=\"280000/sjg2_w.html\">warmińsko-mazurskie</a></td><td align=\"right\">2</td><td align=\"right\">17</td><td align=\"right\">  41.00</td><td align=\"right\">424657</td></tr><tr><td><a href=\"300000/sjg2_w.html\">wielkopolskie</a></td><td align=\"right\">4</td><td align=\"right\">40</td><td align=\"right\">  49.88</td><td align=\"right\">1185687</td></tr><tr><td><a href=\"320000/sjg2_w.html\">zachodniopomorskie</a></td><td align=\"right\">2</td><td align=\"right\">21</td><td align=\"right\">  43.53</td><td align=\"right\">545190</td></tr><tr><td id=\"t\">Suma w skali kraju</td><td align=\"right\">41</td><td align=\"right\">460</td><td align=\"right\">46.29</td><td align=\"right\">13017929</td></tr></table><table height=\"45\" cellspacing=\"0\" cellpadding=\"0\" width=\"98%\" border=\"0\" align=\"center\"><tr><td id=\"h1\" width=\"100%\" height=\"40\"><hr size=\"1\" width=\"100%\" color=\"black\" align=\"left\">Wykaz komitetów wyborczych<hr size=\"1\" width=\"100%\" color=\"black\" align=\"left\"></td></tr></table><table width=\"98%\" border=\"0\" cellspacing=\"2\" cellpadding=\"3\" align=\"center\"><tr valign=\"bottom\" bgcolor=\"#efc98b\"><tr valign=\"bottom\" bgcolor=\"#efc98b\"><td id=\"t\" width=\"30\">Nr listy</td><td id=\"t\" width=\"55%\">Nazwa komitetu</td><td id=\"t\">Liczba uzyskanych głosów ważnych</td><td id=\"t\">Procent głosów ważnych</td><td id=\"t\">Procent względem sumy okręgów</td><td id=\"t\">Wysokość progu (%)</td><td id=\"t\">Udział w podziale mandatów</td></tr><tr><td>1</td><td><a href=\"sjg2_k7k.html\">Koalicyjny Komitet Wyborczy Sojusz Lewicy Demokratycznej - Unia Pracy</a></td><td align=\"right\">5342519</td><td align=\"right\">  41.04</td><td align=\"right\">  41.04</td><td align=\"right\">8</td><td>TAK</td></tr><tr><td>2</td><td><a href=\"sjg2_k39k.html\">Koalicyjny Komitet Wyborczy - Akcja Wyborcza Solidarność Prawicy</a></td><td align=\"right\">729207</td><td align=\"right\">   5.60</td><td align=\"right\">   5.60</td><td align=\"right\">8</td><td>NIE</td></tr><tr><td>3</td><td><a href=\"sjg2_k6k.html\">Komitet Wyborczy Unii Wolności</a></td><td align=\"right\">404074</td><td align=\"right\">   3.10</td><td align=\"right\">   3.10</td><td align=\"right\">5</td><td>NIE</td></tr><tr><td>4</td><td><a href=\"sjg2_k21k.html\">Komitet Wyborczy Samoobrona Rzeczypospolitej Polskiej</a></td><td align=\"right\">1327624</td><td align=\"right\">  10.20</td><td align=\"right\">  10.20</td><td align=\"right\">5</td><td>TAK</td></tr><tr><td>5</td><td><a href=\"sjg2_k15k.html\">Komitet Wyborczy \"Prawo i Sprawiedliwość\"</a></td><td align=\"right\">1236787</td><td align=\"right\">   9.50</td><td align=\"right\">   9.50</td><td align=\"right\">5</td><td>TAK</td></tr><tr><td>6</td><td><a href=\"sjg2_k3k.html\">Komitet Wyborczy Polskiego Stronnictwa Ludowego</a></td><td align=\"right\">1168659</td><td align=\"right\">   8.98</td><td align=\"right\">   8.98</td><td align=\"right\">5</td><td>TAK</td></tr><tr><td>7</td><td><a href=\"sjg2_k31k.html\">Komitet Wyborczy Wyborców Platforma Obywatelska</a></td><td align=\"right\">1651099</td><td align=\"right\">  12.68</td><td align=\"right\">  12.68</td><td align=\"right\">5</td><td>TAK</td></tr><tr><td>8</td><td><a href=\"sjg2_k46k.html\">Komitet Wyborczy Alternatywa Ruch Społeczny</a></td><td align=\"right\">54266</td><td align=\"right\">   0.42</td><td align=\"right\">   0.42</td><td align=\"right\">5</td><td>NIE</td></tr><tr><td>9</td><td><a href=\"sjg2_k5k.html\">Komitet Wyborczy Polskiej Wspólnoty Narodowej</a></td><td align=\"right\">2644</td><td align=\"right\">   0.02</td><td align=\"right\">   0.12</td><td align=\"right\">5</td><td>NIE</td></tr><tr><td>10</td><td><a href=\"sjg2_k9k.html\">Komitet Wyborczy Liga Polskich Rodzin</a></td><td align=\"right\">1025148</td><td align=\"right\">   7.87</td><td align=\"right\">   8.10</td><td align=\"right\">5</td><td>TAK</td></tr><tr><td>11</td><td><a href=\"sjg2_k4k.html\">Komitet Wyborczy Wyborców \"Mniejszość Niemiecka\"</a></td><td align=\"right\">47230</td><td align=\"right\">   0.36</td><td align=\"right\">   8.67</td><td align=\"right\"></td><td>TAK</td></tr><tr><td>13</td><td><a href=\"sjg2_k19k.html\">Komitet Wyborczy Polskiej Unii Gospodarczej</a></td><td align=\"right\">7189</td><td align=\"right\">   0.06</td><td align=\"right\">   0.24</td><td align=\"right\">5</td><td>NIE</td></tr><tr><td>14</td><td><a href=\"sjg2_k45k.html\">Komitet Wyborczy Polskiej Partii Socjalistycznej</a></td><td align=\"right\">13459</td><td align=\"right\">   0.10</td><td align=\"right\">   0.25</td><td align=\"right\">5</td><td>NIE</td></tr><tr><td>15</td><td><a href=\"sjg2_k20k.html\">Komitet Wyborczy Wyborców \"Niemiecka Mniejszość Górnego śląska\"</a></td><td align=\"right\">8024</td><td align=\"right\">   0.06</td><td align=\"right\">   3.13</td><td align=\"right\"></td><td>TAK</td></tr></table><table height=\"45\" cellspacing=\"0\" cellpadding=\"0\" width=\"98%\" border=\"0\" align=\"center\"><tr><td id=\"h1\" width=\"100%\" height=\"40\"><hr size=\"1\" width=\"100%\" color=\"black\" align=\"left\">Porównanie wyników komitetów<br>Komitety według list PKW<hr size=\"1\" width=\"100%\" color=\"black\" align=\"left\"></td></tr></table><center><img src=\"img/sjg2_k_kom1002271136.png\" border=\"0\"></center><br><table height=\"45\" cellspacing=\"0\" cellpadding=\"0\" width=\"98%\" border=\"0\" align=\"center\"><tr><td id=\"h1\" width=\"100%\" height=\"40\"><hr size=\"1\" width=\"100%\" color=\"black\" align=\"left\">Wyniki głosowania w mieście<br>Komitety według list PKW<hr size=\"1\" width=\"100%\" color=\"black\" align=\"left\"></td></tr></table><center><img src=\"img/sjg2_k_kom_miejski1002271136.png\" border=\"0\"></center><br><table height=\"45\" cellspacing=\"0\" cellpadding=\"0\" width=\"98%\" border=\"0\" align=\"center\"><tr><td id=\"h1\" width=\"100%\" height=\"40\"><hr size=\"1\" width=\"100%\" color=\"black\" align=\"left\">Wyniki głosowania na wsi<br>Komitety według list PKW<hr size=\"1\" width=\"100%\" color=\"black\" align=\"left\"></td></tr></table><center><img src=\"img/sjg2_k_kom_wiejski1002271137.png\" border=\"0\"></center><br></td></tr></table></td></tr></table></div><div align=\"center\"><table width=\"752\" cellpadding=\"1\" cellspacing=\"0\" border=\"0\"><tr valign=\"top\"><td bgcolor=\"#000000\"><table width=\"750\" cellpadding=\"5\" cellspacing=\"0\" border=\"0\"><tr><td bgcolor=\"#FBDBA7\" width=\"750\" align=\"right\" style=\"color:#000000; text-decoration:none; font-family:Arial; font-size:11px;\"><img src=\"img/p.gif\" width=\"740\" height=\"1\"><!-- <? include(\\'/opt/WP/serwer/wybory/applets/stopka.inc\\'); ?><br>Copyright &copy; 2001 <a href=http://www.wp.pl style=\"color:#000000; font-weight:bold; text-decoration:none; font-family:Arial; font-size:11px;\">Wirtualna Polska</a></td></tr></table></td></tr></table></div>'"
      ]
     },
     "execution_count": 112,
     "metadata": {},
     "output_type": "execute_result"
    }
   ],
   "source": [
    "#2001\n",
    "base_url='https://wybory2001.pkw.gov.pl/'\n",
    "\n",
    "main_page_url = base_url+'sjg2_k.html'\n",
    "\n",
    "page = requests.get(main_page_url)\n",
    "#page.encoding = 'utf-8'\n",
    "\n",
    "soup = BeautifulSoup(page.content, \"html.parser\")\n",
    "pg_txt = page.text.replace('³','ł').replace('£','Ł').replace('¶','ś').replace('±','ą').replace('ê','ę').replace('æ','ć').replace('¿','ż').replace('¦','ś').replace('ñ','ń')\n",
    "pg_txt"
   ]
  },
  {
   "cell_type": "code",
   "execution_count": 103,
   "metadata": {},
   "outputs": [
    {
     "data": {
      "text/html": [
       "<div>\n",
       "<style scoped>\n",
       "    .dataframe tbody tr th:only-of-type {\n",
       "        vertical-align: middle;\n",
       "    }\n",
       "\n",
       "    .dataframe tbody tr th {\n",
       "        vertical-align: top;\n",
       "    }\n",
       "\n",
       "    .dataframe thead th {\n",
       "        text-align: right;\n",
       "    }\n",
       "</style>\n",
       "<table border=\"1\" class=\"dataframe\">\n",
       "  <thead>\n",
       "    <tr style=\"text-align: right;\">\n",
       "      <th></th>\n",
       "      <th>Komitet</th>\n",
       "      <th>Glosy</th>\n",
       "    </tr>\n",
       "  </thead>\n",
       "  <tbody>\n",
       "    <tr>\n",
       "      <td>0</td>\n",
       "      <td>Komitet Wyborczy Sojusz Lewicy Demokratycznej ...</td>\n",
       "      <td>5342519</td>\n",
       "    </tr>\n",
       "    <tr>\n",
       "      <td>1</td>\n",
       "      <td>Komitet Wyborczy - Akcja Wyborcza Solidarność ...</td>\n",
       "      <td>729207</td>\n",
       "    </tr>\n",
       "    <tr>\n",
       "      <td>2</td>\n",
       "      <td>Komitet Wyborczy Unii Wolności</td>\n",
       "      <td>404074</td>\n",
       "    </tr>\n",
       "    <tr>\n",
       "      <td>3</td>\n",
       "      <td>Komitet Wyborczy Samoobrona Rzeczypospolitej P...</td>\n",
       "      <td>1327624</td>\n",
       "    </tr>\n",
       "    <tr>\n",
       "      <td>4</td>\n",
       "      <td>Komitet Wyborczy \"Prawo i Sprawiedliwość\"</td>\n",
       "      <td>1236787</td>\n",
       "    </tr>\n",
       "    <tr>\n",
       "      <td>5</td>\n",
       "      <td>Komitet Wyborczy Polskiego Stronnictwa Ludowego</td>\n",
       "      <td>1168659</td>\n",
       "    </tr>\n",
       "    <tr>\n",
       "      <td>6</td>\n",
       "      <td>Komitet Wyborczy Wyborców Platforma Obywatelska</td>\n",
       "      <td>1651099</td>\n",
       "    </tr>\n",
       "    <tr>\n",
       "      <td>7</td>\n",
       "      <td>Komitet Wyborczy Alternatywa Ruch Społeczny</td>\n",
       "      <td>54266</td>\n",
       "    </tr>\n",
       "    <tr>\n",
       "      <td>8</td>\n",
       "      <td>Komitet Wyborczy Polskiej Wspólnoty Narodowej</td>\n",
       "      <td>2644</td>\n",
       "    </tr>\n",
       "    <tr>\n",
       "      <td>9</td>\n",
       "      <td>Komitet Wyborczy Liga Polskich Rodzin</td>\n",
       "      <td>1025148</td>\n",
       "    </tr>\n",
       "    <tr>\n",
       "      <td>10</td>\n",
       "      <td>Komitet Wyborczy Wyborców \"Mniejszość Niemiecka\"</td>\n",
       "      <td>47230</td>\n",
       "    </tr>\n",
       "    <tr>\n",
       "      <td>11</td>\n",
       "      <td>Komitet Wyborczy Polskiej Unii Gospodarczej</td>\n",
       "      <td>7189</td>\n",
       "    </tr>\n",
       "    <tr>\n",
       "      <td>12</td>\n",
       "      <td>Komitet Wyborczy Polskiej Partii Socjalistycznej</td>\n",
       "      <td>13459</td>\n",
       "    </tr>\n",
       "    <tr>\n",
       "      <td>13</td>\n",
       "      <td>Komitet Wyborczy Wyborców \"Niemiecka Mniejszoś...</td>\n",
       "      <td>8024</td>\n",
       "    </tr>\n",
       "  </tbody>\n",
       "</table>\n",
       "</div>"
      ],
      "text/plain": [
       "                                              Komitet    Glosy\n",
       "0   Komitet Wyborczy Sojusz Lewicy Demokratycznej ...  5342519\n",
       "1   Komitet Wyborczy - Akcja Wyborcza Solidarność ...   729207\n",
       "2                      Komitet Wyborczy Unii Wolności   404074\n",
       "3   Komitet Wyborczy Samoobrona Rzeczypospolitej P...  1327624\n",
       "4           Komitet Wyborczy \"Prawo i Sprawiedliwość\"  1236787\n",
       "5     Komitet Wyborczy Polskiego Stronnictwa Ludowego  1168659\n",
       "6     Komitet Wyborczy Wyborców Platforma Obywatelska  1651099\n",
       "7         Komitet Wyborczy Alternatywa Ruch Społeczny    54266\n",
       "8       Komitet Wyborczy Polskiej Wspólnoty Narodowej     2644\n",
       "9               Komitet Wyborczy Liga Polskich Rodzin  1025148\n",
       "10   Komitet Wyborczy Wyborców \"Mniejszość Niemiecka\"    47230\n",
       "11        Komitet Wyborczy Polskiej Unii Gospodarczej     7189\n",
       "12   Komitet Wyborczy Polskiej Partii Socjalistycznej    13459\n",
       "13  Komitet Wyborczy Wyborców \"Niemiecka Mniejszoś...     8024"
      ]
     },
     "execution_count": 103,
     "metadata": {},
     "output_type": "execute_result"
    }
   ],
   "source": [
    "path_0 = 'wyniki_wyborow/2001/'\n",
    "\n",
    "#>Komitet Wyborczy Wyborcw \"Niemiecka Mniejszo Grnego lska\"</a></td><td align=\"right\">8024</td>\n",
    "wojew = re.findall(r'(Komitet[\\w\\\"\\- ]*)</a></td><td align=\"right\">([0-9]*)</td>', pg_txt)\n",
    "df_0 = pd.DataFrame(wojew, columns =['Komitet', 'Glosy']) \n",
    "df_0"
   ]
  },
  {
   "cell_type": "code",
   "execution_count": 104,
   "metadata": {},
   "outputs": [],
   "source": [
    "df_0.to_csv(path_0+'Polska.csv')"
   ]
  },
  {
   "cell_type": "code",
   "execution_count": 105,
   "metadata": {},
   "outputs": [
    {
     "data": {
      "text/plain": [
       "[('020000/sjg2_w.html', 'dolnośląskie'),\n",
       " ('040000/sjg2_w.html', 'kujawsko-pomorskie'),\n",
       " ('060000/sjg2_w.html', 'lubelskie'),\n",
       " ('080000/sjg2_w.html', 'lubuskie'),\n",
       " ('100000/sjg2_w.html', 'łódzkie'),\n",
       " ('120000/sjg2_w.html', 'małopolskie'),\n",
       " ('140000/sjg2_w.html', 'mazowieckie'),\n",
       " ('160000/sjg2_w.html', 'opolskie'),\n",
       " ('180000/sjg2_w.html', 'podkarpackie'),\n",
       " ('200000/sjg2_w.html', 'podlaskie'),\n",
       " ('220000/sjg2_w.html', 'pomorskie'),\n",
       " ('240000/sjg2_w.html', 'śląskie'),\n",
       " ('260000/sjg2_w.html', 'świętokrzyskie'),\n",
       " ('280000/sjg2_w.html', 'warmińsko-mazurskie'),\n",
       " ('300000/sjg2_w.html', 'wielkopolskie'),\n",
       " ('320000/sjg2_w.html', 'zachodniopomorskie')]"
      ]
     },
     "execution_count": 105,
     "metadata": {},
     "output_type": "execute_result"
    }
   ],
   "source": [
    "#geting the subpages and names of districts\n",
    "#<a href=\"040000/sjg2_w.html\">kujawsko-pomorskie</a>\n",
    "#<a href=\"100000/sjg2_w.html\">dzkie</a>\n",
    "jednostki = re.findall(r'<a href=\"([0-9]{6}/sjg2_w.html)\">([\\w\\-]*)</a>', pg_txt)\n",
    "jednostki"
   ]
  },
  {
   "cell_type": "code",
   "execution_count": null,
   "metadata": {},
   "outputs": [],
   "source": [
    "def process_district(jednostka):\n",
    "    path = path_0+jednostka[1].replace(\" \", \"_\")\n",
    "    try: os.mkdir(path)\n",
    "    except: pass\n",
    "    \n",
    "    subpage_url = base_url+jednostka[0]\n",
    "    subpage = requests.get(subpage_url)\n",
    "    subpage.encoding = 'utf-8'\n",
    "    pg_txt = subpage.text.replace('³','ł').replace('¶','ś').replace('±','ą').replace('ê','ę').replace('æ','ć').replace('¿','ż').replace('¦','ś').replace('ñ','ń')\n",
    "    #the same as previously\n",
    "    komitety = re.findall(r'(Komitet[\\w\\\"\\- ]*)</a></td><td align=\"right\">([0-9]*)</td>', pg_txt)\n",
    "    df = pd.DataFrame(wojew, columns =['Komitet', 'Glosy']) \n",
    "    \n",
    "    woj = jednostka[1].replace(\" \", \"_\")\n",
    "\n",
    "    df.to_csv(path+'/'+woj+'.csv')\n",
    "    \n",
    "    #<a href=\"SSSS03/sjg2_o.html\">3 WROCŁAW</a>\n",
    "    powiaty = re.findall(r'<td class=\"col5al\"><a href=\"(.*.htm)\" class=\"link1\">([\\w\\- ]+)[\\w\\,\\.\\- ]*?</a></td>', pg_txt)\n",
    "    \n",
    "    for powiat in powiaty:\n",
    "        subpath = path+'/'+powiat[1]\n",
    "        try: os.mkdir(subpath)\n",
    "        except: pass\n",
    "        \n",
    "        subsubpage_url = base_url+powiat[0]\n",
    "        subsubpage = requests.get(subsubpage_url)\n",
    "        subsubpage.encoding = 'utf-8'\n",
    "        \n",
    "        komitety_2 = re.findall(r'<td class=\"col4al\"><a href=\".*.htm\" class=\"link1\">([\\w\\- ]+)</a></td><td class=\"col5ar\">([0-9]*)</td>', subsubpage.text)\n",
    "        df_2 = pd.DataFrame(komitety_2, columns =['Komitet', 'Glosy']) \n",
    "        df_2.to_csv(subpath+'/'+powiat[1]+'.csv')\n",
    "        \n",
    "        #<td class=\"col5al\"><a href=\"020102.htm\" class=\"link1\">Bolesławiec, gm.</a></td>\n",
    "        gminy = re.findall(r'<td class=\"col5al\"><a href=\"([0-9]*.htm)\" CLASS=\"link1\">([\\w\\,\\.\\- ]+)*[\\w\\,\\.\\- ]+</a></td>', subsubpage.text)\n",
    "        \n",
    "        for gmina in gminy:\n",
    "            subsubpath = subpath+'/'+gmina[1]\n",
    "            try: os.mkdir(subsubpath)\n",
    "            except: pass\n",
    "            \n",
    "            subsubsubpage_url = base_url+gmina[0]\n",
    "            subsubsubpage = requests.get(subsubsubpage_url)\n",
    "            subsubsubpage.encoding = 'utf-8'\n",
    "            \n",
    "            komitety_3 = re.findall(r'<td class=\"col4al\"><a href=\".*.htm\" class=\"link1\">([\\w\\- ]+)</a></td><td class=\"col5ar\">([0-9]*)</td>', subsubsubpage.text)\n",
    "            df_3 = pd.DataFrame(komitety_3, columns =['Komitet', 'Glosy']) \n",
    "            df_3.to_csv(subsubpath+'/'+gmina[1]+'.csv')\n",
    "        \n",
    "    print(jednostka[1])"
   ]
  },
  {
   "cell_type": "code",
   "execution_count": null,
   "metadata": {},
   "outputs": [],
   "source": [
    "with concurrent.futures.ProcessPoolExecutor() as executor:\n",
    "    executor.map(process_district, jednostki)"
   ]
  }
 ],
 "metadata": {
  "kernelspec": {
   "display_name": "Python 3",
   "language": "python",
   "name": "python3"
  },
  "language_info": {
   "codemirror_mode": {
    "name": "ipython",
    "version": 3
   },
   "file_extension": ".py",
   "mimetype": "text/x-python",
   "name": "python",
   "nbconvert_exporter": "python",
   "pygments_lexer": "ipython3",
   "version": "3.7.5"
  }
 },
 "nbformat": 4,
 "nbformat_minor": 2
}
